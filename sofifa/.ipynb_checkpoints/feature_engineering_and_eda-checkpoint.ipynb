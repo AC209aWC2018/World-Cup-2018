{
 "cells": [
  {
   "cell_type": "markdown",
   "metadata": {},
   "source": [
    "# Feature Engineering + Exploratory Data Analysis"
   ]
  },
  {
   "cell_type": "code",
   "execution_count": 1,
   "metadata": {},
   "outputs": [],
   "source": [
    "import numpy as np\n",
    "import pandas as pd\n",
    "import matplotlib.pyplot as plt\n",
    "import time\n",
    "import seaborn as sns\n",
    "import re\n",
    "import datetime\n",
    "%matplotlib inline"
   ]
  },
  {
   "cell_type": "code",
   "execution_count": 2,
   "metadata": {},
   "outputs": [],
   "source": [
    "train = pd.read_csv('../data/train_merged.csv')\n",
    "test = pd.read_csv('../data/test_merged.csv')"
   ]
  },
  {
   "cell_type": "code",
   "execution_count": 3,
   "metadata": {},
   "outputs": [
    {
     "data": {
      "text/html": [
       "<div>\n",
       "<style scoped>\n",
       "    .dataframe tbody tr th:only-of-type {\n",
       "        vertical-align: middle;\n",
       "    }\n",
       "\n",
       "    .dataframe tbody tr th {\n",
       "        vertical-align: top;\n",
       "    }\n",
       "\n",
       "    .dataframe thead th {\n",
       "        text-align: right;\n",
       "    }\n",
       "</style>\n",
       "<table border=\"1\" class=\"dataframe\">\n",
       "  <thead>\n",
       "    <tr style=\"text-align: right;\">\n",
       "      <th></th>\n",
       "      <th>game_date</th>\n",
       "      <th>home_team</th>\n",
       "      <th>away_team</th>\n",
       "      <th>home_score</th>\n",
       "      <th>away_score</th>\n",
       "      <th>tournament</th>\n",
       "      <th>country</th>\n",
       "      <th>neutral</th>\n",
       "      <th>overall_diff</th>\n",
       "      <th>attack_away_defence_home_diff</th>\n",
       "      <th>...</th>\n",
       "      <th>bup_passing_diff</th>\n",
       "      <th>bup_speed_diff</th>\n",
       "      <th>cc_crossing_diff</th>\n",
       "      <th>cc_passing_diff</th>\n",
       "      <th>cc_shooting_diff</th>\n",
       "      <th>d_aggresion_diff</th>\n",
       "      <th>d_pressure_diff</th>\n",
       "      <th>d_width_diff</th>\n",
       "      <th>home_win</th>\n",
       "      <th>gdp_diff</th>\n",
       "    </tr>\n",
       "  </thead>\n",
       "  <tbody>\n",
       "    <tr>\n",
       "      <th>0</th>\n",
       "      <td>2006-09-01 00:00:00+00:00</td>\n",
       "      <td>Denmark</td>\n",
       "      <td>Portugal</td>\n",
       "      <td>4</td>\n",
       "      <td>2</td>\n",
       "      <td>Friendly</td>\n",
       "      <td>Denmark</td>\n",
       "      <td>False</td>\n",
       "      <td>-3.0</td>\n",
       "      <td>3.0</td>\n",
       "      <td>...</td>\n",
       "      <td>-0.0</td>\n",
       "      <td>-0.0</td>\n",
       "      <td>-0.0</td>\n",
       "      <td>-0.0</td>\n",
       "      <td>-0.0</td>\n",
       "      <td>-0.0</td>\n",
       "      <td>-0.0</td>\n",
       "      <td>-0.0</td>\n",
       "      <td>1</td>\n",
       "      <td>1.639666</td>\n",
       "    </tr>\n",
       "    <tr>\n",
       "      <th>1</th>\n",
       "      <td>2006-10-11 00:00:00+00:00</td>\n",
       "      <td>Poland</td>\n",
       "      <td>Portugal</td>\n",
       "      <td>2</td>\n",
       "      <td>1</td>\n",
       "      <td>UEFA Euro qualification</td>\n",
       "      <td>Poland</td>\n",
       "      <td>False</td>\n",
       "      <td>-7.0</td>\n",
       "      <td>10.0</td>\n",
       "      <td>...</td>\n",
       "      <td>-0.0</td>\n",
       "      <td>-0.0</td>\n",
       "      <td>-0.0</td>\n",
       "      <td>-0.0</td>\n",
       "      <td>-0.0</td>\n",
       "      <td>-0.0</td>\n",
       "      <td>-0.0</td>\n",
       "      <td>-0.0</td>\n",
       "      <td>1</td>\n",
       "      <td>0.966720</td>\n",
       "    </tr>\n",
       "    <tr>\n",
       "      <th>2</th>\n",
       "      <td>2006-09-06 00:00:00+00:00</td>\n",
       "      <td>Finland</td>\n",
       "      <td>Portugal</td>\n",
       "      <td>1</td>\n",
       "      <td>1</td>\n",
       "      <td>UEFA Euro qualification</td>\n",
       "      <td>Finland</td>\n",
       "      <td>False</td>\n",
       "      <td>-7.0</td>\n",
       "      <td>9.0</td>\n",
       "      <td>...</td>\n",
       "      <td>-0.0</td>\n",
       "      <td>-0.0</td>\n",
       "      <td>-0.0</td>\n",
       "      <td>-0.0</td>\n",
       "      <td>-0.0</td>\n",
       "      <td>-0.0</td>\n",
       "      <td>-0.0</td>\n",
       "      <td>-0.0</td>\n",
       "      <td>0</td>\n",
       "      <td>1.455813</td>\n",
       "    </tr>\n",
       "    <tr>\n",
       "      <th>3</th>\n",
       "      <td>2006-10-07 00:00:00+00:00</td>\n",
       "      <td>Denmark</td>\n",
       "      <td>Northern Ireland</td>\n",
       "      <td>0</td>\n",
       "      <td>0</td>\n",
       "      <td>UEFA Euro qualification</td>\n",
       "      <td>Denmark</td>\n",
       "      <td>False</td>\n",
       "      <td>9.0</td>\n",
       "      <td>-11.0</td>\n",
       "      <td>...</td>\n",
       "      <td>-0.0</td>\n",
       "      <td>-0.0</td>\n",
       "      <td>-0.0</td>\n",
       "      <td>-0.0</td>\n",
       "      <td>-0.0</td>\n",
       "      <td>-0.0</td>\n",
       "      <td>-0.0</td>\n",
       "      <td>-0.0</td>\n",
       "      <td>0</td>\n",
       "      <td>0.683074</td>\n",
       "    </tr>\n",
       "    <tr>\n",
       "      <th>4</th>\n",
       "      <td>2006-10-11 00:00:00+00:00</td>\n",
       "      <td>Austria</td>\n",
       "      <td>Switzerland</td>\n",
       "      <td>2</td>\n",
       "      <td>1</td>\n",
       "      <td>Friendly</td>\n",
       "      <td>Austria</td>\n",
       "      <td>False</td>\n",
       "      <td>-3.0</td>\n",
       "      <td>4.0</td>\n",
       "      <td>...</td>\n",
       "      <td>-0.0</td>\n",
       "      <td>-0.0</td>\n",
       "      <td>-0.0</td>\n",
       "      <td>-0.0</td>\n",
       "      <td>-0.0</td>\n",
       "      <td>-0.0</td>\n",
       "      <td>-0.0</td>\n",
       "      <td>-0.0</td>\n",
       "      <td>1</td>\n",
       "      <td>0.802591</td>\n",
       "    </tr>\n",
       "  </tbody>\n",
       "</table>\n",
       "<p>5 rows × 33 columns</p>\n",
       "</div>"
      ],
      "text/plain": [
       "                   game_date home_team         away_team  home_score  \\\n",
       "0  2006-09-01 00:00:00+00:00   Denmark          Portugal           4   \n",
       "1  2006-10-11 00:00:00+00:00    Poland          Portugal           2   \n",
       "2  2006-09-06 00:00:00+00:00   Finland          Portugal           1   \n",
       "3  2006-10-07 00:00:00+00:00   Denmark  Northern Ireland           0   \n",
       "4  2006-10-11 00:00:00+00:00   Austria       Switzerland           2   \n",
       "\n",
       "   away_score               tournament  country  neutral  overall_diff  \\\n",
       "0           2                 Friendly  Denmark    False          -3.0   \n",
       "1           1  UEFA Euro qualification   Poland    False          -7.0   \n",
       "2           1  UEFA Euro qualification  Finland    False          -7.0   \n",
       "3           0  UEFA Euro qualification  Denmark    False           9.0   \n",
       "4           1                 Friendly  Austria    False          -3.0   \n",
       "\n",
       "   attack_away_defence_home_diff    ...     bup_passing_diff  bup_speed_diff  \\\n",
       "0                            3.0    ...                 -0.0            -0.0   \n",
       "1                           10.0    ...                 -0.0            -0.0   \n",
       "2                            9.0    ...                 -0.0            -0.0   \n",
       "3                          -11.0    ...                 -0.0            -0.0   \n",
       "4                            4.0    ...                 -0.0            -0.0   \n",
       "\n",
       "   cc_crossing_diff  cc_passing_diff  cc_shooting_diff  d_aggresion_diff  \\\n",
       "0              -0.0             -0.0              -0.0              -0.0   \n",
       "1              -0.0             -0.0              -0.0              -0.0   \n",
       "2              -0.0             -0.0              -0.0              -0.0   \n",
       "3              -0.0             -0.0              -0.0              -0.0   \n",
       "4              -0.0             -0.0              -0.0              -0.0   \n",
       "\n",
       "   d_pressure_diff  d_width_diff  home_win  gdp_diff  \n",
       "0             -0.0          -0.0         1  1.639666  \n",
       "1             -0.0          -0.0         1  0.966720  \n",
       "2             -0.0          -0.0         0  1.455813  \n",
       "3             -0.0          -0.0         0  0.683074  \n",
       "4             -0.0          -0.0         1  0.802591  \n",
       "\n",
       "[5 rows x 33 columns]"
      ]
     },
     "execution_count": 3,
     "metadata": {},
     "output_type": "execute_result"
    }
   ],
   "source": [
    "train.head()"
   ]
  },
  {
   "cell_type": "markdown",
   "metadata": {},
   "source": [
    "We first need to see for matches that are not neutral (i.e. home team is actually playing at home), if playing at home actually is an advantage. "
   ]
  },
  {
   "cell_type": "code",
   "execution_count": 4,
   "metadata": {},
   "outputs": [
    {
     "data": {
      "text/html": [
       "<div>\n",
       "<style scoped>\n",
       "    .dataframe tbody tr th:only-of-type {\n",
       "        vertical-align: middle;\n",
       "    }\n",
       "\n",
       "    .dataframe tbody tr th {\n",
       "        vertical-align: top;\n",
       "    }\n",
       "\n",
       "    .dataframe thead th {\n",
       "        text-align: right;\n",
       "    }\n",
       "</style>\n",
       "<table border=\"1\" class=\"dataframe\">\n",
       "  <thead>\n",
       "    <tr style=\"text-align: right;\">\n",
       "      <th></th>\n",
       "      <th>game_date</th>\n",
       "      <th>home_team</th>\n",
       "      <th>away_team</th>\n",
       "      <th>home_score</th>\n",
       "      <th>away_score</th>\n",
       "      <th>tournament</th>\n",
       "      <th>country</th>\n",
       "      <th>neutral</th>\n",
       "      <th>overall_diff</th>\n",
       "      <th>attack_away_defence_home_diff</th>\n",
       "      <th>...</th>\n",
       "      <th>bup_passing_diff</th>\n",
       "      <th>bup_speed_diff</th>\n",
       "      <th>cc_crossing_diff</th>\n",
       "      <th>cc_passing_diff</th>\n",
       "      <th>cc_shooting_diff</th>\n",
       "      <th>d_aggresion_diff</th>\n",
       "      <th>d_pressure_diff</th>\n",
       "      <th>d_width_diff</th>\n",
       "      <th>home_win</th>\n",
       "      <th>gdp_diff</th>\n",
       "    </tr>\n",
       "  </thead>\n",
       "  <tbody>\n",
       "  </tbody>\n",
       "</table>\n",
       "<p>0 rows × 33 columns</p>\n",
       "</div>"
      ],
      "text/plain": [
       "Empty DataFrame\n",
       "Columns: [game_date, home_team, away_team, home_score, away_score, tournament, country, neutral, overall_diff, attack_away_defence_home_diff, attack_diff, attack_home_defence_away_diff, defence_diff, midfield_diff, rank_diff, prestige_diff, growth_diff, full_age_diff, start_age_diff, value_euros_millions_diff, wage_euros_thousands_diff, goalkeeper_overall_diff, bup_dribbling_diff, bup_passing_diff, bup_speed_diff, cc_crossing_diff, cc_passing_diff, cc_shooting_diff, d_aggresion_diff, d_pressure_diff, d_width_diff, home_win, gdp_diff]\n",
       "Index: []\n",
       "\n",
       "[0 rows x 33 columns]"
      ]
     },
     "execution_count": 4,
     "metadata": {},
     "output_type": "execute_result"
    }
   ],
   "source": [
    "#First make sure there are no \"away\" teams in own country.\n",
    "train[train['away_team'] == train['country']]"
   ]
  },
  {
   "cell_type": "code",
   "execution_count": 5,
   "metadata": {},
   "outputs": [
    {
     "name": "stdout",
     "output_type": "stream",
     "text": [
      "Proportion of Outcomes\n"
     ]
    },
    {
     "data": {
      "text/plain": [
       "home_win\n",
       "-1    0.301529\n",
       " 0    0.260411\n",
       " 1    0.438060\n",
       "Name: game_date, dtype: float64"
      ]
     },
     "execution_count": 5,
     "metadata": {},
     "output_type": "execute_result"
    }
   ],
   "source": [
    "print(\"Proportion of Outcomes\")\n",
    "train.groupby('home_win')['game_date'].count() / len(train)"
   ]
  },
  {
   "cell_type": "code",
   "execution_count": 6,
   "metadata": {},
   "outputs": [
    {
     "name": "stdout",
     "output_type": "stream",
     "text": [
      "Proportion of Outcomes Grouped By Neutrality\n"
     ]
    },
    {
     "data": {
      "text/plain": [
       "neutral  home_win\n",
       "False    -1          0.284536\n",
       "          0          0.270103\n",
       "          1          0.445361\n",
       "True     -1          0.357466\n",
       "          0          0.228507\n",
       "          1          0.414027\n",
       "Name: game_date, dtype: float64"
      ]
     },
     "execution_count": 6,
     "metadata": {},
     "output_type": "execute_result"
    }
   ],
   "source": [
    "print(\"Proportion of Outcomes Grouped By Neutrality\")\n",
    "train.groupby(['neutral', 'home_win'])['game_date'].count() / train.groupby(['neutral'])['game_date'].count()"
   ]
  },
  {
   "cell_type": "markdown",
   "metadata": {},
   "source": [
    "Surprisingly, it seems that being at home actually does not give an advantage! \n",
    "\n",
    "From the European matches we saw that past match results might be good features. As such, we do the same thing here and calculate the number of wins by the home team and away team and the past matches. \n"
   ]
  },
  {
   "cell_type": "code",
   "execution_count": 7,
   "metadata": {},
   "outputs": [],
   "source": [
    "train_sorted = train.sort_values(by = 'game_date').reset_index(drop = True)"
   ]
  },
  {
   "cell_type": "code",
   "execution_count": 8,
   "metadata": {},
   "outputs": [],
   "source": [
    "def get_wins_in_last_matches(df_row, df, num_games, team_id_col = ['home_team', 'away_team'],\n",
    "                            against_each_other = False):\n",
    "    \"\"\"\n",
    "    Get number of wins for home team and away team for num_games before current game. Also includes \n",
    "    indicators of whether the team has played enough games (for the matches in the beginning). If against_each_other\n",
    "    is True, get number of wins home team has against away team had in past num_games.\n",
    "    \n",
    "    Also returns the number of games actually found.\n",
    "    \"\"\"\n",
    "\n",
    "    home_team_id_colname = team_id_col[0]\n",
    "    away_team_id_colname = team_id_col[1]\n",
    "    if not against_each_other:\n",
    "\n",
    "        #Get past games for both home and away teams.\n",
    "        home_past_games = df[((df[home_team_id_colname] == df_row[home_team_id_colname])\\\n",
    "                            | (df[away_team_id_colname] == df_row[home_team_id_colname]))\\\n",
    "                             & (df.game_date < df_row.game_date)][-num_games:]\n",
    "        away_past_games = df[((df[home_team_id_colname]== df_row[away_team_id_colname])\\\n",
    "                            | (df[away_team_id_colname] == df_row[away_team_id_colname]))\\\n",
    "                             & (df.game_date < df_row.game_date)][-num_games:]\n",
    "        #get actual number of games found \n",
    "        \n",
    "        \n",
    "        #get number of wins for home team \n",
    "        home_wins = 0\n",
    "        for index, game in home_past_games.iterrows():\n",
    "            if game[home_team_id_colname] == df_row[home_team_id_colname] and game.home_win == 1:\n",
    "                home_wins += 1\n",
    "            elif game[away_team_id_colname] == df_row[home_team_id_colname] and game.home_win == 0:\n",
    "                home_wins += 1\n",
    "\n",
    "        #get number of wins for away team         \n",
    "        away_wins = 0\n",
    "        for index, game in away_past_games.iterrows():\n",
    "            if game[home_team_id_colname] == df_row[away_team_id_colname] and game.home_win == 1:\n",
    "                away_wins += 1\n",
    "            elif game[away_team_id_colname] == df_row[away_team_id_colname] and game.home_win == 0:\n",
    "                away_wins += 1\n",
    "        return (home_wins, away_wins, len(home_past_games), len(away_past_games))\n",
    "    else:\n",
    "        #get past games where the two teams played against each other\n",
    "        past_games = df[(((df[home_team_id_colname] == df_row[home_team_id_colname])\\\n",
    "                            & (df[away_team_id_colname] == df_row[away_team_id_colname]))\\\n",
    "                        | ((df[home_team_id_colname] == df_row[away_team_id_colname])\n",
    "                        & (df[away_team_id_colname] == df_row[home_team_id_colname])))\n",
    "                        & (df.game_date < df_row.game_date)][-num_games:]\n",
    "        wins = 0\n",
    "        for index, game in past_games.iterrows():\n",
    "            #home team wins in past game against away team as home team\n",
    "            if game[home_team_id_colname] == df_row[home_team_id_colname] and game.home_win == 1:\n",
    "                wins += 1\n",
    "            #home team wins in past game against away team as away team\n",
    "            elif game[away_team_id_colname] == df_row[home_team_id_colname] and game.home_win == 0:\n",
    "                wins += 1\n",
    "        return (wins, len(past_games))"
   ]
  },
  {
   "cell_type": "code",
   "execution_count": null,
   "metadata": {},
   "outputs": [],
   "source": [
    "wins_past_x_games = {}\n",
    "for index, row in train_sorted.iterrows():\n",
    "    for i in range(1, 6):\n",
    "        if i not in wins_past_x_games.keys():\n",
    "            wins_past_x_games[i] = []\n",
    "        wins_past_x_games[i].append(get_wins_in_last_matches(row, train_sorted, i))"
   ]
  },
  {
   "cell_type": "code",
   "execution_count": null,
   "metadata": {},
   "outputs": [],
   "source": [
    "wins_past_x_games_df = pd.DataFrame(index = train_sorted.index)\n",
    "for i in range(1, 6):\n",
    "    wins_past_x_games_df = wins_past_x_games_df.merge(\n",
    "            pd.DataFrame(wins_past_x_games[i], index = train_sorted.index,\\\n",
    "             columns = ['home_wins_past_{}_games'.format(i), 'away_wins_past_{}_games'.format(i), \\\n",
    "                        'home_num_past_games_{}'.format(i), 'away_num_past_games_{}'.format(i)]),\\\n",
    "                        left_index = True, right_index = True)\n"
   ]
  },
  {
   "cell_type": "code",
   "execution_count": null,
   "metadata": {},
   "outputs": [],
   "source": [
    "#against each other\n",
    "wins_home_against_away_past_x_games = {}\n",
    "for index, row in train_sorted.iterrows():\n",
    "    for i in range(1, 6):\n",
    "        if i not in wins_home_against_away_past_x_games.keys():\n",
    "            wins_home_against_away_past_x_games[i] = []\n",
    "        wins_home_against_away_past_x_games[i].append(get_wins_in_last_matches(row, train_sorted, i, \n",
    "                                                                                against_each_other=True))"
   ]
  },
  {
   "cell_type": "code",
   "execution_count": null,
   "metadata": {},
   "outputs": [],
   "source": [
    "wins_home_against_away_past_x_games_df = pd.DataFrame(index = train_sorted.index)\n",
    "for i in range(1, 6):\n",
    "    wins_home_against_away_past_x_games_df = wins_home_against_away_past_x_games_df.merge(\n",
    "            pd.DataFrame(wins_home_against_away_past_x_games[i], index = train_sorted.index,\\\n",
    "            columns = ['wins_home_against_away_{}_games'.format(i), 'num_past_games_{}'.format(i),]),\\\n",
    "                        left_index = True, right_index = True)\n"
   ]
  },
  {
   "cell_type": "code",
   "execution_count": null,
   "metadata": {},
   "outputs": [],
   "source": [
    "past_wins_columns = []\n",
    "for i in range(1, 6):\n",
    "    wins_past_x_games_df['wins_past_{}_games_diff'.format(i)] =\\\n",
    "        (wins_past_x_games_df['home_wins_past_{}_games'.format(i)] -\\\n",
    "         wins_past_x_games_df['away_wins_past_{}_games'.format(i)])\n",
    "    past_wins_columns.append('wins_past_{}_games_diff'.format(i))\n",
    "#     past_wins_columns.append('home_num_past_games{}'.format(i))\n",
    "    #games against each other\n",
    "    wins_past_x_games_df['wins_home_against_away_{}_games'.format(i)] = \\\n",
    "                            wins_home_against_away_past_x_games_df['wins_home_against_away_{}_games'.format(i)]\n",
    "    past_wins_columns.append('wins_home_against_away_{}_games'.format(i))\n",
    "\n",
    "past_wins_columns"
   ]
  },
  {
   "cell_type": "code",
   "execution_count": null,
   "metadata": {},
   "outputs": [],
   "source": [
    "train_final = train_sorted.copy()\n",
    "train_final[past_wins_columns] = wins_past_x_games_df[past_wins_columns]\n",
    "train_final.tail()"
   ]
  },
  {
   "cell_type": "code",
   "execution_count": null,
   "metadata": {},
   "outputs": [],
   "source": [
    "fig, axes = plt.subplots(5, 2, figsize = (20, 20))\n",
    "axes = axes.flatten()\n",
    "for label, df in train_final.groupby('home_win'):\n",
    "    for i, col in enumerate(past_wins_columns):\n",
    "        df[col].plot.kde(label=label, ax = axes[i])\n",
    "        #odd plots are the plots of the teams against each other\n",
    "        if i % 2 == 1:\n",
    "            axes[i].set_title(col + \" (Past games of the home team against the away team)\")\n",
    "        else:\n",
    "            axes[i].set_title(col)\n",
    "        axes[i].legend()\n",
    "plt.tight_layout();"
   ]
  },
  {
   "cell_type": "markdown",
   "metadata": {},
   "source": [
    "We realized that the test set is already sorted by earliest game in the tournament to latest game. Since we will not be using date for any of the features besides calculating past wins, we can just for the test set set each match to be one day after the other and it will not affect anything."
   ]
  },
  {
   "cell_type": "code",
   "execution_count": null,
   "metadata": {},
   "outputs": [],
   "source": [
    "test['game_date'] = [datetime.datetime(2018,6, 14) + datetime.timedelta(days=i) for i in range(64)] "
   ]
  },
  {
   "cell_type": "code",
   "execution_count": null,
   "metadata": {},
   "outputs": [],
   "source": [
    "wins_past_x_games = {}\n",
    "for index, row in test.iterrows():\n",
    "    for i in range(1, 6):\n",
    "        if i not in wins_past_x_games.keys():\n",
    "            wins_past_x_games[i] = []\n",
    "        wins_past_x_games[i].append(get_wins_in_last_matches(row, test, i))"
   ]
  },
  {
   "cell_type": "code",
   "execution_count": null,
   "metadata": {},
   "outputs": [],
   "source": [
    "wins_past_x_games_df = pd.DataFrame(index = test.index)\n",
    "for i in range(1, 6):\n",
    "    wins_past_x_games_df = wins_past_x_games_df.merge(\n",
    "            pd.DataFrame(wins_past_x_games[i], index = test.index,\\\n",
    "             columns = ['home_wins_past_{}_games'.format(i), 'away_wins_past_{}_games'.format(i), \\\n",
    "                        'home_num_past_games_{}'.format(i), 'away_num_past_games_{}'.format(i)]),\\\n",
    "                        left_index = True, right_index = True)"
   ]
  },
  {
   "cell_type": "code",
   "execution_count": null,
   "metadata": {},
   "outputs": [],
   "source": [
    "#against each other\n",
    "wins_home_against_away_past_x_games = {}\n",
    "for index, row in test.iterrows():\n",
    "    for i in range(1, 6):\n",
    "        if i not in wins_home_against_away_past_x_games.keys():\n",
    "            wins_home_against_away_past_x_games[i] = []\n",
    "        wins_home_against_away_past_x_games[i].append(get_wins_in_last_matches(row, test, i, \n",
    "                                                                                against_each_other=True))"
   ]
  },
  {
   "cell_type": "code",
   "execution_count": null,
   "metadata": {},
   "outputs": [],
   "source": [
    "wins_home_against_away_past_x_games_df = pd.DataFrame(index = test.index)\n",
    "for i in range(1, 6):\n",
    "    wins_home_against_away_past_x_games_df = wins_home_against_away_past_x_games_df.merge(\n",
    "            pd.DataFrame(wins_home_against_away_past_x_games[i], index = test.index,\\\n",
    "            columns = ['wins_home_against_away_{}_games'.format(i), 'num_past_games_{}'.format(i),]),\\\n",
    "                        left_index = True, right_index = True)\n"
   ]
  },
  {
   "cell_type": "code",
   "execution_count": null,
   "metadata": {},
   "outputs": [],
   "source": [
    "past_wins_columns = []\n",
    "for i in range(1, 6):\n",
    "    wins_past_x_games_df['wins_past_{}_games_diff'.format(i)] =\\\n",
    "        (wins_past_x_games_df['home_wins_past_{}_games'.format(i)] -\\\n",
    "         wins_past_x_games_df['away_wins_past_{}_games'.format(i)])\n",
    "    past_wins_columns.append('wins_past_{}_games_diff'.format(i))\n",
    "#     past_wins_columns.append('home_num_past_games{}'.format(i))\n",
    "    #games against each other\n",
    "    wins_past_x_games_df['wins_home_against_away_{}_games'.format(i)] = \\\n",
    "                            wins_home_against_away_past_x_games_df['wins_home_against_away_{}_games'.format(i)]\n",
    "    past_wins_columns.append('wins_home_against_away_{}_games'.format(i))\n",
    "\n",
    "past_wins_columns"
   ]
  },
  {
   "cell_type": "code",
   "execution_count": null,
   "metadata": {},
   "outputs": [],
   "source": [
    "test_final = test.copy()\n",
    "test_final[past_wins_columns] = wins_past_x_games_df[past_wins_columns]\n",
    "test_final.tail()"
   ]
  },
  {
   "cell_type": "code",
   "execution_count": null,
   "metadata": {},
   "outputs": [],
   "source": [
    "train_final.to_csv('../data/cleaned/train_final.csv', index = False)\n",
    "test_final.to_csv('../data/cleaned/test_final.csv', index = False)"
   ]
  },
  {
   "cell_type": "code",
   "execution_count": null,
   "metadata": {},
   "outputs": [],
   "source": []
  }
 ],
 "metadata": {
  "kernelspec": {
   "display_name": "Python 3",
   "language": "python",
   "name": "python3"
  },
  "language_info": {
   "codemirror_mode": {
    "name": "ipython",
    "version": 3
   },
   "file_extension": ".py",
   "mimetype": "text/x-python",
   "name": "python",
   "nbconvert_exporter": "python",
   "pygments_lexer": "ipython3",
   "version": "3.7.0"
  }
 },
 "nbformat": 4,
 "nbformat_minor": 2
}
