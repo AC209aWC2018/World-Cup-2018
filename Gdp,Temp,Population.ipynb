{
 "cells": [
  {
   "cell_type": "code",
   "execution_count": 27,
   "metadata": {},
   "outputs": [],
   "source": [
    "from bs4 import BeautifulSoup\n",
    "import requests\n",
    "import pandas as pd\n",
    "import unicodedata\n",
    "import re\n",
    "from map_countries import map_countries\n"
   ]
  },
  {
   "cell_type": "code",
   "execution_count": 28,
   "metadata": {
    "collapsed": true
   },
   "outputs": [],
   "source": [
    "def scrape_gdp_pp():\n",
    "    url = \"https://en.wikipedia.org/wiki/List_of_countries_by_GDP_(PPP)_per_capita\"\n",
    "    my_page = requests.get(url)\n",
    "    soup = BeautifulSoup(my_page.content, \"lxml\")\n",
    "    tables = soup.find_all('table',{'class':'wikitable sortable'})\n",
    "    country_rows = tables[0].findAll('tr')\n",
    "    countries_data = []\n",
    "\n",
    "    for country in country_rows[1:]:    \n",
    "        country_data = country.findAll('td')\n",
    "        name = country_data[1].text\n",
    "        country_name = unicodedata.normalize(\"NFKD\", name)\n",
    "        country_name = country_name.strip()\n",
    "        gdp_pp = int(country_data[2].text.strip().replace(',',''))\n",
    "#         if (country_name in worldcup_teams):\n",
    "        countries_data.append({\"name\":country_name,'gdp_pp':gdp_pp})\n",
    "\n",
    "    return pd.DataFrame(countries_data)"
   ]
  },
  {
   "cell_type": "code",
   "execution_count": 29,
   "metadata": {},
   "outputs": [],
   "source": [
    "gdp_df = scrape_gdp_pp()"
   ]
  },
  {
   "cell_type": "code",
   "execution_count": 30,
   "metadata": {},
   "outputs": [],
   "source": [
    "gdp_df['name'] = gdp_df['name'].copy().apply(map_countries)"
   ]
  },
  {
   "cell_type": "code",
   "execution_count": 31,
   "metadata": {
    "collapsed": true
   },
   "outputs": [],
   "source": [
    "def scrape_temp():\n",
    "    url = \"https://en.wikipedia.org/wiki/List_of_countries_by_average_yearly_temperature\"\n",
    "    my_page = requests.get(url)\n",
    "    soup = BeautifulSoup(my_page.content, \"lxml\")\n",
    "    tables = soup.find_all('table',{'class':'wikitable sortable'})\n",
    "    country_rows = tables[0].findAll('tr')\n",
    "    countries_temp = []\n",
    "    \n",
    "    for country in country_rows[1:]:    \n",
    "        country_data = country.findAll('td')\n",
    "        name = country_data[0].text\n",
    "        country_name = unicodedata.normalize(\"NFKD\", name)\n",
    "        country_name = country_name.strip()\n",
    "        temp_str = country_data[1].text.strip()\n",
    "        temp_str = temp_str.replace('−','-')\n",
    "        temp = float(temp_str)  \n",
    "#         if (country_name in worldcup_teams):\n",
    "        countries_temp.append({\"name\":country_name,'temp':temp})\n",
    "    return pd.DataFrame(countries_temp)\n"
   ]
  },
  {
   "cell_type": "code",
   "execution_count": 32,
   "metadata": {},
   "outputs": [],
   "source": [
    "temps = scrape_temp()\n"
   ]
  },
  {
   "cell_type": "code",
   "execution_count": 33,
   "metadata": {},
   "outputs": [],
   "source": [
    "temps['name'] = temps['name'].copy().apply(map_countries)"
   ]
  },
  {
   "cell_type": "code",
   "execution_count": 34,
   "metadata": {},
   "outputs": [
    {
     "data": {
      "text/plain": [
       "{'hong kong',\n",
       " 'kosovo',\n",
       " 'macau',\n",
       " 'micronesia',\n",
       " 'nauru',\n",
       " 'puerto rico',\n",
       " 'south sudan',\n",
       " 'taiwan',\n",
       " 'world[n 1]'}"
      ]
     },
     "execution_count": 34,
     "metadata": {},
     "output_type": "execute_result"
    }
   ],
   "source": [
    "set(gdp_df.name.unique()) - set(temps.name.unique()) "
   ]
  },
  {
   "cell_type": "code",
   "execution_count": 35,
   "metadata": {},
   "outputs": [
    {
     "data": {
      "text/plain": [
       "{'andorra',\n",
       " 'cuba',\n",
       " 'federated states of micronesia',\n",
       " 'korea dpr',\n",
       " 'liechtenstein',\n",
       " 'monaco',\n",
       " 'somalia',\n",
       " 'syria'}"
      ]
     },
     "execution_count": 35,
     "metadata": {},
     "output_type": "execute_result"
    }
   ],
   "source": [
    "set(temps.name.unique()) - set(gdp_df.name.unique())"
   ]
  },
  {
   "cell_type": "code",
   "execution_count": 36,
   "metadata": {
    "scrolled": true
   },
   "outputs": [],
   "source": [
    "combined_df = temps.merge(gdp_df,on='name', how = 'outer')"
   ]
  },
  {
   "cell_type": "code",
   "execution_count": 37,
   "metadata": {
    "collapsed": true
   },
   "outputs": [],
   "source": [
    "def scrape_population():\n",
    "    url = \"https://en.wikipedia.org/wiki/List_of_countries_by_population_(United_Nations)\"\n",
    "    my_page = requests.get(url)\n",
    "    soup = BeautifulSoup(my_page.content, \"lxml\")\n",
    "    tables = soup.find_all('table',{'class':'wikitable'})\n",
    "    country_rows = tables[0].findAll('tr')\n",
    "\n",
    "    countries_popu = []\n",
    "\n",
    "    for country in country_rows[2:]:\n",
    "\n",
    "        country_data = country.findAll('td')\n",
    "\n",
    "        country_name_raw = country_data[1].text\n",
    "        country_name = country_name_raw.strip()\n",
    "        m = re.search('\\[\\w+\\]', country_name_raw)\n",
    "        if (m != None):\n",
    "            citation = m.group(0)\n",
    "            country_name = country_name.replace(citation, \"\")\n",
    "\n",
    "        population = int(country_data[5].text.strip().replace(',',''))\n",
    "\n",
    "#         if (country_name in worldcup_teams):\n",
    "        countries_popu.append({\"name\":country_name,'population':population})\n",
    "            \n",
    "    return pd.DataFrame(countries_popu)"
   ]
  },
  {
   "cell_type": "code",
   "execution_count": 38,
   "metadata": {
    "collapsed": true
   },
   "outputs": [],
   "source": [
    "countries_popu = scrape_population()"
   ]
  },
  {
   "cell_type": "code",
   "execution_count": 39,
   "metadata": {
    "collapsed": true
   },
   "outputs": [],
   "source": [
    "countries_popu['name'] = countries_popu['name'].copy().apply(map_countries)"
   ]
  },
  {
   "cell_type": "code",
   "execution_count": 40,
   "metadata": {},
   "outputs": [
    {
     "data": {
      "text/plain": [
       "{'american samoa',\n",
       " 'anguilla',\n",
       " 'aruba',\n",
       " 'bermuda',\n",
       " 'british virgin islands',\n",
       " 'caribbean netherlands',\n",
       " 'cayman islands',\n",
       " 'cook islands',\n",
       " 'curaçao',\n",
       " 'falkland islands',\n",
       " 'faroe islands',\n",
       " 'french guiana',\n",
       " 'french polynesia',\n",
       " 'gibraltar',\n",
       " 'greenland',\n",
       " 'guadeloupe',\n",
       " 'guam',\n",
       " 'guernsey and \\xa0jersey',\n",
       " 'isle of man',\n",
       " 'martinique',\n",
       " 'mayotte',\n",
       " 'montserrat',\n",
       " 'new caledonia',\n",
       " 'niue',\n",
       " 'northern mariana islands',\n",
       " 'palestine',\n",
       " 'réunion',\n",
       " 'saint helena, ascension and tristan da cunha',\n",
       " 'saint pierre and miquelon',\n",
       " 'sint maarten',\n",
       " 'tokelau',\n",
       " 'turks and caicos islands',\n",
       " 'united states virgin islands',\n",
       " 'vatican city',\n",
       " 'wallis and futuna',\n",
       " 'western sahara'}"
      ]
     },
     "execution_count": 40,
     "metadata": {},
     "output_type": "execute_result"
    }
   ],
   "source": [
    "set(countries_popu.name.unique()) - set(combined_df.name.unique()) "
   ]
  },
  {
   "cell_type": "code",
   "execution_count": 41,
   "metadata": {},
   "outputs": [
    {
     "data": {
      "text/plain": [
       "{'kosovo', 'micronesia', 'world[n 1]'}"
      ]
     },
     "execution_count": 41,
     "metadata": {},
     "output_type": "execute_result"
    }
   ],
   "source": [
    "set(combined_df.name.unique()) - set(countries_popu.name.unique())"
   ]
  },
  {
   "cell_type": "code",
   "execution_count": 42,
   "metadata": {},
   "outputs": [],
   "source": [
    "combined_df = combined_df.merge(countries_popu, on = 'name', how = 'left')\n"
   ]
  },
  {
   "cell_type": "code",
   "execution_count": 43,
   "metadata": {},
   "outputs": [],
   "source": [
    "combined_df = combined_df[~combined_df['population'].isnull()]"
   ]
  },
  {
   "cell_type": "code",
   "execution_count": 44,
   "metadata": {
    "collapsed": true
   },
   "outputs": [],
   "source": [
    "combined_df.to_csv('data/demographics.csv', index = False)"
   ]
  },
  {
   "cell_type": "code",
   "execution_count": null,
   "metadata": {
    "collapsed": true
   },
   "outputs": [],
   "source": []
  }
 ],
 "metadata": {
  "kernelspec": {
   "display_name": "Python 3",
   "language": "python",
   "name": "python3"
  },
  "language_info": {
   "codemirror_mode": {
    "name": "ipython",
    "version": 3
   },
   "file_extension": ".py",
   "mimetype": "text/x-python",
   "name": "python",
   "nbconvert_exporter": "python",
   "pygments_lexer": "ipython3",
   "version": "3.6.3"
  }
 },
 "nbformat": 4,
 "nbformat_minor": 2
}
