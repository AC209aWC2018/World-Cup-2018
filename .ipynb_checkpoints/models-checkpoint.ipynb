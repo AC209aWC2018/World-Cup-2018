{
 "cells": [
  {
   "cell_type": "code",
   "execution_count": 1,
   "metadata": {},
   "outputs": [],
   "source": [
    "import pandas as pd\n",
    "import numpy as np\n",
    "from sklearn.metrics import accuracy_score\n",
    "from sklearn.linear_model import LogisticRegressionCV\n",
    "from sklearn.discriminant_analysis import LinearDiscriminantAnalysis\n",
    "from sklearn.discriminant_analysis import QuadraticDiscriminantAnalysis\n",
    "from sklearn.ensemble import RandomForestClassifier\n",
    "from sklearn.model_selection import train_test_split"
   ]
  },
  {
   "cell_type": "code",
   "execution_count": 2,
   "metadata": {},
   "outputs": [],
   "source": [
    "train_df = pd.read_csv('data/cleaned/train.csv')\n",
    "test_df = pd.read_csv('data/cleaned/test.csv')"
   ]
  },
  {
   "cell_type": "code",
   "execution_count": 4,
   "metadata": {},
   "outputs": [
    {
     "data": {
      "text/html": [
       "<div>\n",
       "<style scoped>\n",
       "    .dataframe tbody tr th:only-of-type {\n",
       "        vertical-align: middle;\n",
       "    }\n",
       "\n",
       "    .dataframe tbody tr th {\n",
       "        vertical-align: top;\n",
       "    }\n",
       "\n",
       "    .dataframe thead th {\n",
       "        text-align: right;\n",
       "    }\n",
       "</style>\n",
       "<table border=\"1\" class=\"dataframe\">\n",
       "  <thead>\n",
       "    <tr style=\"text-align: right;\">\n",
       "      <th></th>\n",
       "      <th>home_win</th>\n",
       "      <th>home_cur_year_avg_weighted</th>\n",
       "      <th>home_total_points</th>\n",
       "      <th>away_cur_year_avg_weighted</th>\n",
       "      <th>away_total_points</th>\n",
       "      <th>home_last_year_avg</th>\n",
       "      <th>away_last_year_avg</th>\n",
       "      <th>home_two_year_ago_avg</th>\n",
       "      <th>away_two_year_ago_avg</th>\n",
       "      <th>CAF</th>\n",
       "      <th>CONCACAF</th>\n",
       "      <th>CONMEBOL</th>\n",
       "      <th>OFC</th>\n",
       "      <th>UEFA</th>\n",
       "      <th>gdp_pp_diff</th>\n",
       "      <th>rank_diff</th>\n",
       "    </tr>\n",
       "  </thead>\n",
       "  <tbody>\n",
       "    <tr>\n",
       "      <th>0</th>\n",
       "      <td>0</td>\n",
       "      <td>174.70</td>\n",
       "      <td>291.66</td>\n",
       "      <td>343.17</td>\n",
       "      <td>535.63</td>\n",
       "      <td>102.82</td>\n",
       "      <td>152.19</td>\n",
       "      <td>163.78</td>\n",
       "      <td>266.37</td>\n",
       "      <td>0</td>\n",
       "      <td>0</td>\n",
       "      <td>0</td>\n",
       "      <td>0</td>\n",
       "      <td>0</td>\n",
       "      <td>39359.0</td>\n",
       "      <td>45</td>\n",
       "    </tr>\n",
       "    <tr>\n",
       "      <th>1</th>\n",
       "      <td>1</td>\n",
       "      <td>101.66</td>\n",
       "      <td>249.49</td>\n",
       "      <td>122.76</td>\n",
       "      <td>393.28</td>\n",
       "      <td>166.27</td>\n",
       "      <td>343.17</td>\n",
       "      <td>106.47</td>\n",
       "      <td>152.19</td>\n",
       "      <td>0</td>\n",
       "      <td>0</td>\n",
       "      <td>0</td>\n",
       "      <td>0</td>\n",
       "      <td>0</td>\n",
       "      <td>39359.0</td>\n",
       "      <td>41</td>\n",
       "    </tr>\n",
       "    <tr>\n",
       "      <th>2</th>\n",
       "      <td>2</td>\n",
       "      <td>151.41</td>\n",
       "      <td>289.46</td>\n",
       "      <td>257.72</td>\n",
       "      <td>436.97</td>\n",
       "      <td>131.81</td>\n",
       "      <td>102.61</td>\n",
       "      <td>151.92</td>\n",
       "      <td>242.16</td>\n",
       "      <td>0</td>\n",
       "      <td>0</td>\n",
       "      <td>0</td>\n",
       "      <td>0</td>\n",
       "      <td>0</td>\n",
       "      <td>39359.0</td>\n",
       "      <td>47</td>\n",
       "    </tr>\n",
       "    <tr>\n",
       "      <th>3</th>\n",
       "      <td>2</td>\n",
       "      <td>111.05</td>\n",
       "      <td>256.68</td>\n",
       "      <td>90.43</td>\n",
       "      <td>298.50</td>\n",
       "      <td>151.41</td>\n",
       "      <td>257.72</td>\n",
       "      <td>131.81</td>\n",
       "      <td>102.61</td>\n",
       "      <td>0</td>\n",
       "      <td>0</td>\n",
       "      <td>0</td>\n",
       "      <td>0</td>\n",
       "      <td>0</td>\n",
       "      <td>39359.0</td>\n",
       "      <td>16</td>\n",
       "    </tr>\n",
       "    <tr>\n",
       "      <th>4</th>\n",
       "      <td>1</td>\n",
       "      <td>140.16</td>\n",
       "      <td>324.85</td>\n",
       "      <td>343.17</td>\n",
       "      <td>535.63</td>\n",
       "      <td>183.57</td>\n",
       "      <td>152.19</td>\n",
       "      <td>225.79</td>\n",
       "      <td>266.37</td>\n",
       "      <td>0</td>\n",
       "      <td>0</td>\n",
       "      <td>0</td>\n",
       "      <td>0</td>\n",
       "      <td>0</td>\n",
       "      <td>112440.0</td>\n",
       "      <td>38</td>\n",
       "    </tr>\n",
       "  </tbody>\n",
       "</table>\n",
       "</div>"
      ],
      "text/plain": [
       "   home_win  home_cur_year_avg_weighted  home_total_points  \\\n",
       "0         0                      174.70             291.66   \n",
       "1         1                      101.66             249.49   \n",
       "2         2                      151.41             289.46   \n",
       "3         2                      111.05             256.68   \n",
       "4         1                      140.16             324.85   \n",
       "\n",
       "   away_cur_year_avg_weighted  away_total_points  home_last_year_avg  \\\n",
       "0                      343.17             535.63              102.82   \n",
       "1                      122.76             393.28              166.27   \n",
       "2                      257.72             436.97              131.81   \n",
       "3                       90.43             298.50              151.41   \n",
       "4                      343.17             535.63              183.57   \n",
       "\n",
       "   away_last_year_avg  home_two_year_ago_avg  away_two_year_ago_avg  CAF  \\\n",
       "0              152.19                 163.78                 266.37    0   \n",
       "1              343.17                 106.47                 152.19    0   \n",
       "2              102.61                 151.92                 242.16    0   \n",
       "3              257.72                 131.81                 102.61    0   \n",
       "4              152.19                 225.79                 266.37    0   \n",
       "\n",
       "   CONCACAF  CONMEBOL  OFC  UEFA  gdp_pp_diff  rank_diff  \n",
       "0         0         0    0     0      39359.0         45  \n",
       "1         0         0    0     0      39359.0         41  \n",
       "2         0         0    0     0      39359.0         47  \n",
       "3         0         0    0     0      39359.0         16  \n",
       "4         0         0    0     0     112440.0         38  "
      ]
     },
     "execution_count": 4,
     "metadata": {},
     "output_type": "execute_result"
    }
   ],
   "source": [
    "train_df.head()"
   ]
  },
  {
   "cell_type": "code",
   "execution_count": 31,
   "metadata": {},
   "outputs": [],
   "source": [
    "np.random.seed(2018)\n",
    "train, validation = train_test_split(train_df, test_size = 0.2)\n",
    "y_train = train['home_win'].as_matrix()\n",
    "X_train = train.drop(['home_win'], axis = 1).as_matrix()\n",
    "y_validation = validation['home_win'].as_matrix()\n",
    "X_validation = validation.drop(['home_win'], axis = 1).as_matrix()\n"
   ]
  },
  {
   "cell_type": "code",
   "execution_count": 32,
   "metadata": {
    "collapsed": true
   },
   "outputs": [],
   "source": [
    "lr_model = LogisticRegressionCV(solver = 'lbfgs', max_iter = 5000, cv = 5, multi_class='multinomial').fit(X_train, y_train)"
   ]
  },
  {
   "cell_type": "code",
   "execution_count": 33,
   "metadata": {},
   "outputs": [
    {
     "name": "stdout",
     "output_type": "stream",
     "text": [
      "0.5527929155313351\n",
      "0.5354223433242506\n"
     ]
    }
   ],
   "source": [
    "print(lr_model.score(X_train, y_train))\n",
    "print(lr_model.score(X_validation, y_validation))"
   ]
  },
  {
   "cell_type": "code",
   "execution_count": 34,
   "metadata": {
    "collapsed": true
   },
   "outputs": [],
   "source": [
    "lda_model = LinearDiscriminantAnalysis().fit(X_train, y_train)"
   ]
  },
  {
   "cell_type": "code",
   "execution_count": 35,
   "metadata": {},
   "outputs": [
    {
     "name": "stdout",
     "output_type": "stream",
     "text": [
      "0.5630108991825613\n",
      "0.553133514986376\n"
     ]
    }
   ],
   "source": [
    "print(lda_model.score(X_train, y_train))\n",
    "print(lda_model.score(X_validation, y_validation))"
   ]
  },
  {
   "cell_type": "code",
   "execution_count": 36,
   "metadata": {
    "collapsed": true
   },
   "outputs": [],
   "source": [
    "qda_model = QuadraticDiscriminantAnalysis().fit(X_train, y_train)"
   ]
  },
  {
   "cell_type": "code",
   "execution_count": 37,
   "metadata": {},
   "outputs": [
    {
     "name": "stdout",
     "output_type": "stream",
     "text": [
      "0.5480245231607629\n",
      "0.5149863760217984\n"
     ]
    }
   ],
   "source": [
    "print(qda_model.score(X_train, y_train))\n",
    "print(qda_model.score(X_validation, y_validation))"
   ]
  },
  {
   "cell_type": "code",
   "execution_count": 38,
   "metadata": {
    "collapsed": true
   },
   "outputs": [],
   "source": [
    "rf_model = RandomForestClassifier(min_samples_leaf = 20, n_estimators=100).fit(X_train, y_train)"
   ]
  },
  {
   "cell_type": "code",
   "execution_count": 39,
   "metadata": {},
   "outputs": [
    {
     "name": "stdout",
     "output_type": "stream",
     "text": [
      "0.6304495912806539\n",
      "0.5463215258855586\n"
     ]
    }
   ],
   "source": [
    "print(rf_model.score(X_train, y_train))\n",
    "print(rf_model.score(X_validation, y_validation))"
   ]
  },
  {
   "cell_type": "code",
   "execution_count": 40,
   "metadata": {},
   "outputs": [
    {
     "name": "stdout",
     "output_type": "stream",
     "text": [
      "0.47445504087193463\n",
      "0.4673024523160763\n"
     ]
    }
   ],
   "source": [
    "print(accuracy_score(np.ones(len(y_train)), y_train))\n",
    "print(accuracy_score(np.ones(len(y_validation)), y_validation))"
   ]
  },
  {
   "cell_type": "code",
   "execution_count": 41,
   "metadata": {
    "collapsed": true
   },
   "outputs": [],
   "source": [
    "y_test = test_df['home_win'].as_matrix()\n",
    "X_test = test_df.drop(['home_win'], axis = 1).as_matrix()"
   ]
  },
  {
   "cell_type": "code",
   "execution_count": 42,
   "metadata": {},
   "outputs": [
    {
     "data": {
      "text/plain": [
       "0.53125"
      ]
     },
     "execution_count": 42,
     "metadata": {},
     "output_type": "execute_result"
    }
   ],
   "source": [
    "lr_model.score(X_test, y_test)"
   ]
  },
  {
   "cell_type": "code",
   "execution_count": 43,
   "metadata": {},
   "outputs": [
    {
     "data": {
      "text/plain": [
       "0.5"
      ]
     },
     "execution_count": 43,
     "metadata": {},
     "output_type": "execute_result"
    }
   ],
   "source": [
    "lda_model.score(X_test, y_test)"
   ]
  },
  {
   "cell_type": "code",
   "execution_count": 44,
   "metadata": {},
   "outputs": [
    {
     "data": {
      "text/plain": [
       "0.53125"
      ]
     },
     "execution_count": 44,
     "metadata": {},
     "output_type": "execute_result"
    }
   ],
   "source": [
    "qda_model.score(X_test, y_test)"
   ]
  },
  {
   "cell_type": "code",
   "execution_count": 45,
   "metadata": {},
   "outputs": [
    {
     "data": {
      "text/plain": [
       "0.5"
      ]
     },
     "execution_count": 45,
     "metadata": {},
     "output_type": "execute_result"
    }
   ],
   "source": [
    "rf_model.score(X_test, y_test)"
   ]
  },
  {
   "cell_type": "code",
   "execution_count": 46,
   "metadata": {},
   "outputs": [
    {
     "data": {
      "text/plain": [
       "0.421875"
      ]
     },
     "execution_count": 46,
     "metadata": {},
     "output_type": "execute_result"
    }
   ],
   "source": [
    "accuracy_score(np.ones(len(y_test)), y_test)"
   ]
  },
  {
   "cell_type": "code",
   "execution_count": null,
   "metadata": {
    "collapsed": true
   },
   "outputs": [],
   "source": []
  },
  {
   "cell_type": "code",
   "execution_count": null,
   "metadata": {
    "collapsed": true
   },
   "outputs": [],
   "source": []
  }
 ],
 "metadata": {
  "kernelspec": {
   "display_name": "Python 3",
   "language": "python",
   "name": "python3"
  },
  "language_info": {
   "codemirror_mode": {
    "name": "ipython",
    "version": 3
   },
   "file_extension": ".py",
   "mimetype": "text/x-python",
   "name": "python",
   "nbconvert_exporter": "python",
   "pygments_lexer": "ipython3",
   "version": "3.6.7"
  }
 },
 "nbformat": 4,
 "nbformat_minor": 2
}
