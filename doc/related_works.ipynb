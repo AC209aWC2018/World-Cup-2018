{
 "cells": [
  {
   "cell_type": "markdown",
   "metadata": {},
   "source": [
    "## Literature Review and Related Works"
   ]
  },
  {
   "cell_type": "markdown",
   "metadata": {},
   "source": [
    "As mentioned before, soccer analytics is not a well-established field. However, some have attempted to model the 2018 World Cup using machine learning techniques.\n",
    "\n",
    "For example, Andreas Groll and his team at the University of Dortmound utilized [Poisson regression, random forest, and ranking methods](https://arxiv.org/abs/1806.03208) to simulate the World Cup 100,000 times. Features that Groll used \"include economic factors such as a country’s GDP and population, FIFA’s ranking of national teams, and the properties of the teams themselves, such as their average age, the number of Champions League players they have, whether they have home advantage, and so on.\" (https://www.technologyreview.com/s/611397/machine-learning-predicts-world-cup-winner/) Through these simulations, Groll's model predicted Spain as the most likely winner of the World Cup followed by Germany. \n",
    "\n",
    "\n",
    "Similarly, Gerald Muriuki utilized [logistic regression](https://scotch.io/@itsmuriuki/predicting-fifa-world-cup-2018-using-machine-learning) to simulate the World Cup. Using the historic match dataset as his train set, Muriuki only trained on matches in which both teams are playing in the 2018 World Cup. The only feature he used was one-hot encoding all the teams, essentially representing a team's past performance against the other teams as a feature. The model predicted Brazil as the most likely winner.\n",
    "\n",
    "Finally, Rodrigo Nader utilized [SVM](https://towardsdatascience.com/using-machine-learning-to-simulate-world-cup-matches-959e24d0731) to simulate the World Cup. Nader used ratings (Atk, Mid, Def, ovr) about the teams scraped from Fifa Index to build his model. The model predicted Spain as the most likely winner, defeating Brazil in the finals.\n",
    "\n",
    "As we can see, there were many attempts before the World Cup to predict it, with Spain or Brazil prevailing in most cases. However, we could not find any works reflecting back on the actual results of the World Cup to see what was the most common error.\n",
    "\n",
    "It is evident that the data we chose to use and features we chose to engineer were inspired by the related works. We hope to combine the features used individually by these related works to make a model of our own."
   ]
  }
 ],
 "metadata": {
  "kernelspec": {
   "display_name": "Python 3",
   "language": "python",
   "name": "python3"
  },
  "language_info": {
   "codemirror_mode": {
    "name": "ipython",
    "version": 3
   },
   "file_extension": ".py",
   "mimetype": "text/x-python",
   "name": "python",
   "nbconvert_exporter": "python",
   "pygments_lexer": "ipython3",
   "version": "3.6.6"
  }
 },
 "nbformat": 4,
 "nbformat_minor": 2
}
