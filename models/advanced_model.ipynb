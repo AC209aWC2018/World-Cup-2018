{
 "cells": [
  {
   "cell_type": "code",
   "execution_count": 1,
   "metadata": {},
   "outputs": [
    {
     "name": "stderr",
     "output_type": "stream",
     "text": [
      "C:\\Users\\shengsiong\\Anaconda3\\lib\\site-packages\\sklearn\\ensemble\\weight_boosting.py:29: DeprecationWarning: numpy.core.umath_tests is an internal NumPy module and should not be imported. It will be removed in a future NumPy release.\n",
      "  from numpy.core.umath_tests import inner1d\n"
     ]
    }
   ],
   "source": [
    "import pandas as pd\n",
    "import numpy as np\n",
    "from sklearn.metrics import accuracy_score\n",
    "from sklearn.linear_model import LogisticRegressionCV, LogisticRegression\n",
    "from sklearn.discriminant_analysis import LinearDiscriminantAnalysis\n",
    "from sklearn.discriminant_analysis import QuadraticDiscriminantAnalysis\n",
    "from sklearn.ensemble import RandomForestClassifier\n",
    "from sklearn.model_selection import train_test_split\n",
    "from sklearn.model_selection import RandomizedSearchCV, GridSearchCV\n",
    "from predict_test_data import predict_test_data\n",
    "from sklearn.preprocessing import StandardScaler\n",
    "\n",
    "import matplotlib\n",
    "import matplotlib.pyplot as plt\n",
    "%matplotlib inline\n",
    "import seaborn as sns\n",
    "sns.set()\n",
    "\n",
    "import warnings\n",
    "warnings.filterwarnings('ignore')"
   ]
  },
  {
   "cell_type": "code",
   "execution_count": 2,
   "metadata": {},
   "outputs": [],
   "source": [
    "train = pd.read_csv('../data/cleaned/train_final.csv')\n",
    "test = pd.read_csv('../data/cleaned/test_final.csv')"
   ]
  },
  {
   "cell_type": "code",
   "execution_count": 3,
   "metadata": {},
   "outputs": [
    {
     "data": {
      "text/html": [
       "<div>\n",
       "<style scoped>\n",
       "    .dataframe tbody tr th:only-of-type {\n",
       "        vertical-align: middle;\n",
       "    }\n",
       "\n",
       "    .dataframe tbody tr th {\n",
       "        vertical-align: top;\n",
       "    }\n",
       "\n",
       "    .dataframe thead th {\n",
       "        text-align: right;\n",
       "    }\n",
       "</style>\n",
       "<table border=\"1\" class=\"dataframe\">\n",
       "  <thead>\n",
       "    <tr style=\"text-align: right;\">\n",
       "      <th></th>\n",
       "      <th>game_date</th>\n",
       "      <th>home_team</th>\n",
       "      <th>away_team</th>\n",
       "      <th>home_score</th>\n",
       "      <th>away_score</th>\n",
       "      <th>tournament</th>\n",
       "      <th>country</th>\n",
       "      <th>neutral</th>\n",
       "      <th>overall_diff</th>\n",
       "      <th>attack_away_defence_home_diff</th>\n",
       "      <th>...</th>\n",
       "      <th>wins_past_1_games_diff</th>\n",
       "      <th>wins_home_against_away_4_games</th>\n",
       "      <th>score_past_1_games_diff</th>\n",
       "      <th>wins_past_3_games_diff</th>\n",
       "      <th>score_conceded_past_4_games_diff</th>\n",
       "      <th>score_conceded_past_5_games_diff</th>\n",
       "      <th>score_past_2_games_diff</th>\n",
       "      <th>wins_home_against_away_2_games</th>\n",
       "      <th>score_conceded_past_3_games_diff</th>\n",
       "      <th>score_conceded_past_2_games_diff</th>\n",
       "    </tr>\n",
       "  </thead>\n",
       "  <tbody>\n",
       "    <tr>\n",
       "      <th>0</th>\n",
       "      <td>2006-09-01 00:00:00+00:00</td>\n",
       "      <td>Denmark</td>\n",
       "      <td>Portugal</td>\n",
       "      <td>4</td>\n",
       "      <td>2</td>\n",
       "      <td>Friendly</td>\n",
       "      <td>Denmark</td>\n",
       "      <td>False</td>\n",
       "      <td>-3.0</td>\n",
       "      <td>3.0</td>\n",
       "      <td>...</td>\n",
       "      <td>0.0</td>\n",
       "      <td>0.0</td>\n",
       "      <td>0.0</td>\n",
       "      <td>0.0</td>\n",
       "      <td>0.0</td>\n",
       "      <td>0.0</td>\n",
       "      <td>0.0</td>\n",
       "      <td>0.0</td>\n",
       "      <td>0.0</td>\n",
       "      <td>0.0</td>\n",
       "    </tr>\n",
       "    <tr>\n",
       "      <th>1</th>\n",
       "      <td>2006-09-02 00:00:00+00:00</td>\n",
       "      <td>Romania</td>\n",
       "      <td>Bulgaria</td>\n",
       "      <td>2</td>\n",
       "      <td>2</td>\n",
       "      <td>UEFA Euro qualification</td>\n",
       "      <td>Romania</td>\n",
       "      <td>False</td>\n",
       "      <td>-1.0</td>\n",
       "      <td>2.0</td>\n",
       "      <td>...</td>\n",
       "      <td>0.0</td>\n",
       "      <td>0.0</td>\n",
       "      <td>0.0</td>\n",
       "      <td>0.0</td>\n",
       "      <td>0.0</td>\n",
       "      <td>0.0</td>\n",
       "      <td>0.0</td>\n",
       "      <td>0.0</td>\n",
       "      <td>0.0</td>\n",
       "      <td>0.0</td>\n",
       "    </tr>\n",
       "    <tr>\n",
       "      <th>2</th>\n",
       "      <td>2006-09-02 00:00:00+00:00</td>\n",
       "      <td>Poland</td>\n",
       "      <td>Finland</td>\n",
       "      <td>1</td>\n",
       "      <td>3</td>\n",
       "      <td>UEFA Euro qualification</td>\n",
       "      <td>Poland</td>\n",
       "      <td>False</td>\n",
       "      <td>-0.0</td>\n",
       "      <td>4.0</td>\n",
       "      <td>...</td>\n",
       "      <td>0.0</td>\n",
       "      <td>0.0</td>\n",
       "      <td>0.0</td>\n",
       "      <td>0.0</td>\n",
       "      <td>0.0</td>\n",
       "      <td>0.0</td>\n",
       "      <td>0.0</td>\n",
       "      <td>0.0</td>\n",
       "      <td>0.0</td>\n",
       "      <td>0.0</td>\n",
       "    </tr>\n",
       "    <tr>\n",
       "      <th>3</th>\n",
       "      <td>2006-09-02 00:00:00+00:00</td>\n",
       "      <td>Hungary</td>\n",
       "      <td>Norway</td>\n",
       "      <td>1</td>\n",
       "      <td>4</td>\n",
       "      <td>UEFA Euro qualification</td>\n",
       "      <td>Hungary</td>\n",
       "      <td>False</td>\n",
       "      <td>-7.0</td>\n",
       "      <td>7.0</td>\n",
       "      <td>...</td>\n",
       "      <td>0.0</td>\n",
       "      <td>0.0</td>\n",
       "      <td>0.0</td>\n",
       "      <td>0.0</td>\n",
       "      <td>0.0</td>\n",
       "      <td>0.0</td>\n",
       "      <td>0.0</td>\n",
       "      <td>0.0</td>\n",
       "      <td>0.0</td>\n",
       "      <td>0.0</td>\n",
       "    </tr>\n",
       "    <tr>\n",
       "      <th>4</th>\n",
       "      <td>2006-09-02 00:00:00+00:00</td>\n",
       "      <td>Germany</td>\n",
       "      <td>Ireland</td>\n",
       "      <td>1</td>\n",
       "      <td>0</td>\n",
       "      <td>UEFA Euro qualification</td>\n",
       "      <td>Germany</td>\n",
       "      <td>False</td>\n",
       "      <td>8.0</td>\n",
       "      <td>-8.0</td>\n",
       "      <td>...</td>\n",
       "      <td>0.0</td>\n",
       "      <td>0.0</td>\n",
       "      <td>0.0</td>\n",
       "      <td>0.0</td>\n",
       "      <td>0.0</td>\n",
       "      <td>0.0</td>\n",
       "      <td>0.0</td>\n",
       "      <td>0.0</td>\n",
       "      <td>0.0</td>\n",
       "      <td>0.0</td>\n",
       "    </tr>\n",
       "  </tbody>\n",
       "</table>\n",
       "<p>5 rows × 55 columns</p>\n",
       "</div>"
      ],
      "text/plain": [
       "                   game_date home_team away_team  home_score  away_score  \\\n",
       "0  2006-09-01 00:00:00+00:00   Denmark  Portugal           4           2   \n",
       "1  2006-09-02 00:00:00+00:00   Romania  Bulgaria           2           2   \n",
       "2  2006-09-02 00:00:00+00:00    Poland   Finland           1           3   \n",
       "3  2006-09-02 00:00:00+00:00   Hungary    Norway           1           4   \n",
       "4  2006-09-02 00:00:00+00:00   Germany   Ireland           1           0   \n",
       "\n",
       "                tournament  country  neutral  overall_diff  \\\n",
       "0                 Friendly  Denmark    False          -3.0   \n",
       "1  UEFA Euro qualification  Romania    False          -1.0   \n",
       "2  UEFA Euro qualification   Poland    False          -0.0   \n",
       "3  UEFA Euro qualification  Hungary    False          -7.0   \n",
       "4  UEFA Euro qualification  Germany    False           8.0   \n",
       "\n",
       "   attack_away_defence_home_diff                ...                 \\\n",
       "0                            3.0                ...                  \n",
       "1                            2.0                ...                  \n",
       "2                            4.0                ...                  \n",
       "3                            7.0                ...                  \n",
       "4                           -8.0                ...                  \n",
       "\n",
       "   wins_past_1_games_diff  wins_home_against_away_4_games  \\\n",
       "0                     0.0                             0.0   \n",
       "1                     0.0                             0.0   \n",
       "2                     0.0                             0.0   \n",
       "3                     0.0                             0.0   \n",
       "4                     0.0                             0.0   \n",
       "\n",
       "   score_past_1_games_diff  wins_past_3_games_diff  \\\n",
       "0                      0.0                     0.0   \n",
       "1                      0.0                     0.0   \n",
       "2                      0.0                     0.0   \n",
       "3                      0.0                     0.0   \n",
       "4                      0.0                     0.0   \n",
       "\n",
       "   score_conceded_past_4_games_diff  score_conceded_past_5_games_diff  \\\n",
       "0                               0.0                               0.0   \n",
       "1                               0.0                               0.0   \n",
       "2                               0.0                               0.0   \n",
       "3                               0.0                               0.0   \n",
       "4                               0.0                               0.0   \n",
       "\n",
       "   score_past_2_games_diff  wins_home_against_away_2_games  \\\n",
       "0                      0.0                             0.0   \n",
       "1                      0.0                             0.0   \n",
       "2                      0.0                             0.0   \n",
       "3                      0.0                             0.0   \n",
       "4                      0.0                             0.0   \n",
       "\n",
       "   score_conceded_past_3_games_diff  score_conceded_past_2_games_diff  \n",
       "0                               0.0                               0.0  \n",
       "1                               0.0                               0.0  \n",
       "2                               0.0                               0.0  \n",
       "3                               0.0                               0.0  \n",
       "4                               0.0                               0.0  \n",
       "\n",
       "[5 rows x 55 columns]"
      ]
     },
     "execution_count": 3,
     "metadata": {},
     "output_type": "execute_result"
    }
   ],
   "source": [
    "train.head()"
   ]
  },
  {
   "cell_type": "code",
   "execution_count": 11,
   "metadata": {},
   "outputs": [
    {
     "data": {
      "text/plain": [
       "Index(['game_date', 'home_team', 'away_team', 'home_score', 'away_score',\n",
       "       'tournament', 'country', 'neutral', 'overall_diff',\n",
       "       'attack_away_defence_home_diff', 'attack_diff',\n",
       "       'attack_home_defence_away_diff', 'defence_diff', 'midfield_diff',\n",
       "       'rank_diff', 'prestige_diff', 'growth_diff', 'full_age_diff',\n",
       "       'start_age_diff', 'value_euros_millions_diff',\n",
       "       'wage_euros_thousands_diff', 'goalkeeper_overall_diff',\n",
       "       'bup_dribbling_diff', 'bup_passing_diff', 'bup_speed_diff',\n",
       "       'cc_crossing_diff', 'cc_passing_diff', 'cc_shooting_diff',\n",
       "       'd_aggresion_diff', 'd_pressure_diff', 'd_width_diff', 'home_win',\n",
       "       'gdp_diff', 'is_home', 'raw_gdp_diff', 'score_past_3_games_diff',\n",
       "       'wins_past_5_games_diff', 'wins_home_against_away_3_games',\n",
       "       'score_past_4_games_diff', 'wins_home_against_away_1_games',\n",
       "       'score_past_5_games_diff', 'score_conceded_past_1_games_diff',\n",
       "       'wins_past_4_games_diff', 'wins_past_2_games_diff',\n",
       "       'wins_home_against_away_5_games', 'wins_past_1_games_diff',\n",
       "       'wins_home_against_away_4_games', 'score_past_1_games_diff',\n",
       "       'wins_past_3_games_diff', 'score_conceded_past_4_games_diff',\n",
       "       'score_conceded_past_5_games_diff', 'score_past_2_games_diff',\n",
       "       'wins_home_against_away_2_games', 'score_conceded_past_3_games_diff',\n",
       "       'score_conceded_past_2_games_diff'],\n",
       "      dtype='object')"
      ]
     },
     "execution_count": 11,
     "metadata": {},
     "output_type": "execute_result"
    }
   ],
   "source": [
    "train.columns"
   ]
  },
  {
   "cell_type": "markdown",
   "metadata": {},
   "source": [
    "## Advanced Model"
   ]
  },
  {
   "cell_type": "markdown",
   "metadata": {},
   "source": [
    "For the advanced model, let us start by looking at the correlation matrix of all our predictors. We see that some of the predictors are highly correlated which can be an issue subsequently. We should do a simple feature selection by using LASSO with Logistic Regression"
   ]
  },
  {
   "cell_type": "code",
   "execution_count": 5,
   "metadata": {},
   "outputs": [],
   "source": [
    "cor_mat = train.corr()"
   ]
  },
  {
   "cell_type": "code",
   "execution_count": 6,
   "metadata": {},
   "outputs": [],
   "source": [
    "columns = ['overall_diff', 'attack_away_defence_home_diff', 'attack_home_defence_away_diff',\n",
    "           'attack_diff', 'defence_diff', 'midfield_diff', 'prestige_diff', 'growth_diff', \n",
    "           'full_age_diff', 'start_age_diff', 'value_euros_millions_diff','wage_euros_thousands_diff', \n",
    "           'goalkeeper_overall_diff', 'bup_dribbling_diff', 'bup_passing_diff', 'bup_speed_diff',\n",
    "           'cc_crossing_diff', 'cc_passing_diff', 'cc_shooting_diff', 'd_aggresion_diff', 'd_pressure_diff', \n",
    "           'd_width_diff', 'gdp_diff', 'is_home', 'raw_gdp_diff',\n",
    "          'score_past_5_games_diff', 'score_conceded_past_5_games_diff']\n"
   ]
  },
  {
   "cell_type": "code",
   "execution_count": 7,
   "metadata": {},
   "outputs": [],
   "source": [
    "train = train[columns + ['home_win']]\n",
    "test = test[columns + ['Group', 'home_win']]"
   ]
  },
  {
   "cell_type": "markdown",
   "metadata": {},
   "source": [
    "## Feature Selection with LASSO"
   ]
  },
  {
   "cell_type": "code",
   "execution_count": 13,
   "metadata": {},
   "outputs": [],
   "source": [
    "X = train.drop(['home_win', 'game_date', 'home_team', \n",
    "                'away_team', 'home_score', 'away_score',\n",
    "                'tournament', 'country', 'neutral'], axis=1)\n",
    "y = train['home_win']\n",
    "\n",
    "columns_full = X.columns.values"
   ]
  },
  {
   "cell_type": "code",
   "execution_count": 343,
   "metadata": {},
   "outputs": [],
   "source": [
    "# fit lasso with logistic\n",
    "#lasso_mod = LogisticRegressionCV(solver = 'saga',\n",
    "#                                 cv = 5,\n",
    "#                                 max_iter = 5000, \n",
    "#                                 multi_class='multinomial',\n",
    "#                                 penalty='l1').fit(X, y)"
   ]
  },
  {
   "cell_type": "code",
   "execution_count": 344,
   "metadata": {},
   "outputs": [],
   "source": [
    "#var_id = [i for i, val in enumerate(np.sum(lasso_mod.coef_, axis=0)) if val > 0]\n",
    "#columns_lasso = columns_full[var_id].tolist()"
   ]
  },
  {
   "cell_type": "code",
   "execution_count": 345,
   "metadata": {},
   "outputs": [
    {
     "data": {
      "text/plain": [
       "['overall_diff',\n",
       " 'attack_away_defence_home_diff',\n",
       " 'attack_diff',\n",
       " 'attack_home_defence_away_diff',\n",
       " 'defence_diff',\n",
       " 'midfield_diff',\n",
       " 'prestige_diff',\n",
       " 'value_euros_millions_diff',\n",
       " 'wage_euros_thousands_diff',\n",
       " 'bup_passing_diff',\n",
       " 'bup_speed_diff',\n",
       " 'cc_passing_diff',\n",
       " 'cc_shooting_diff',\n",
       " 'd_aggresion_diff',\n",
       " 'd_pressure_diff',\n",
       " 'is_home']"
      ]
     },
     "execution_count": 345,
     "metadata": {},
     "output_type": "execute_result"
    }
   ],
   "source": [
    "#columns_lasso"
   ]
  },
  {
   "cell_type": "code",
   "execution_count": 153,
   "metadata": {},
   "outputs": [],
   "source": [
    "#train = train[columns_lasso + ['home_win']]\n",
    "#test = test[columns_lasso + ['Group', 'home_win']]"
   ]
  },
  {
   "cell_type": "markdown",
   "metadata": {},
   "source": [
    "## Feature Selection with SelectKBest"
   ]
  },
  {
   "cell_type": "code",
   "execution_count": 292,
   "metadata": {},
   "outputs": [],
   "source": [
    "#from sklearn.feature_selection import SelectKBest, f_classif\n",
    "\n",
    "#selectkbest = SelectKBest(f_classif, k=25).fit(X,y)\n",
    "#columns_selectkbest = columns_full[selectkbest.get_support(indices=True)].tolist()"
   ]
  },
  {
   "cell_type": "code",
   "execution_count": 293,
   "metadata": {},
   "outputs": [
    {
     "data": {
      "text/plain": [
       "['overall_diff',\n",
       " 'attack_away_defence_home_diff',\n",
       " 'attack_diff',\n",
       " 'attack_home_defence_away_diff',\n",
       " 'defence_diff',\n",
       " 'midfield_diff',\n",
       " 'rank_diff',\n",
       " 'prestige_diff',\n",
       " 'growth_diff',\n",
       " 'value_euros_millions_diff',\n",
       " 'wage_euros_thousands_diff',\n",
       " 'goalkeeper_overall_diff',\n",
       " 'bup_passing_diff',\n",
       " 'bup_speed_diff',\n",
       " 'cc_shooting_diff',\n",
       " 'd_aggresion_diff',\n",
       " 'd_pressure_diff',\n",
       " 'd_width_diff',\n",
       " 'gdp_diff',\n",
       " 'is_home',\n",
       " 'score_conceded_past_1_games_diff',\n",
       " 'score_conceded_past_4_games_diff',\n",
       " 'score_conceded_past_5_games_diff',\n",
       " 'score_conceded_past_3_games_diff',\n",
       " 'score_conceded_past_2_games_diff']"
      ]
     },
     "execution_count": 293,
     "metadata": {},
     "output_type": "execute_result"
    }
   ],
   "source": [
    "#columns_selectkbest"
   ]
  },
  {
   "cell_type": "code",
   "execution_count": 294,
   "metadata": {},
   "outputs": [],
   "source": [
    "#train = train[columns_selectkbest + ['home_win']]\n",
    "#test = test[columns_selectkbest  + ['Group', 'home_win']]"
   ]
  },
  {
   "cell_type": "markdown",
   "metadata": {},
   "source": [
    "## Feature Selection with RFECV"
   ]
  },
  {
   "cell_type": "code",
   "execution_count": null,
   "metadata": {},
   "outputs": [],
   "source": [
    "from sklearn.feature_selection import RFECV\n",
    "from sklearn.svm import SVR\n",
    "estimator = SVR(kernel=\"linear\")\n",
    "selectrfcev = RFECV(estimator, step=1, cv=5)\n",
    "selectrfcev = selector.fit(X, y)\n",
    "selectrfcev.support_ "
   ]
  },
  {
   "cell_type": "code",
   "execution_count": null,
   "metadata": {},
   "outputs": [],
   "source": [
    "selectrfcev = selector"
   ]
  },
  {
   "cell_type": "code",
   "execution_count": null,
   "metadata": {},
   "outputs": [],
   "source": [
    "columns_rfecv = columns_full[selectrfcev.get_support(indices=True)].tolist()"
   ]
  },
  {
   "cell_type": "markdown",
   "metadata": {},
   "source": [
    "## Feature Selection with Forward Selection"
   ]
  },
  {
   "cell_type": "code",
   "execution_count": null,
   "metadata": {},
   "outputs": [],
   "source": []
  },
  {
   "cell_type": "code",
   "execution_count": 415,
   "metadata": {},
   "outputs": [],
   "source": [
    "#Same seed as baseline to ensure same train and validation sets so that comparisons are valid.\n",
    "#10\n",
    "np.random.seed(14)\n",
    "X_train, X_valid = train_test_split(train, test_size = 0.2)\n",
    "y_train = X_train['home_win'].ravel()\n",
    "X_train = X_train.drop(['home_win'], axis = 1)\n",
    "y_valid= X_valid['home_win'].ravel()\n",
    "X_valid = X_valid.drop(['home_win'], axis = 1)\n",
    "y_test = test['home_win'].ravel()\n",
    "\n",
    "\n",
    "# collect group\n",
    "grp = test['Group'].ravel()\n",
    "grp_id = [0 if len(i) == 1 else 1 for i in grp]\n",
    "X_test = test.drop(['home_win', 'Group'], axis = 1)\n",
    "\n",
    "# scale data\n",
    "scaler = StandardScaler()\n",
    "scaler.fit(X_train)\n",
    "X_train_scaled = scaler.transform(X_train)\n",
    "X_valid_scaled = scaler.transform(X_valid)\n",
    "X_test_scaled = scaler.transform(X_test)"
   ]
  },
  {
   "cell_type": "code",
   "execution_count": 416,
   "metadata": {},
   "outputs": [],
   "source": [
    "# stores the score of each model\n",
    "score = {}"
   ]
  },
  {
   "cell_type": "markdown",
   "metadata": {},
   "source": [
    "## Logistic Regression"
   ]
  },
  {
   "cell_type": "code",
   "execution_count": 417,
   "metadata": {},
   "outputs": [],
   "source": [
    "lr_mod = LogisticRegressionCV(solver = 'lbfgs', \n",
    "                              max_iter = 5000, \n",
    "                              cv = 5, \n",
    "                              penalty = 'l1',\n",
    "                              multi_class='multinomial').fit(X_train, y_train)"
   ]
  },
  {
   "cell_type": "code",
   "execution_count": 418,
   "metadata": {},
   "outputs": [
    {
     "name": "stdout",
     "output_type": "stream",
     "text": [
      "Logistic Regression Train Score: 0.5121951219512195\n",
      "Logistic Regression Validation Score: 0.5421052631578948\n",
      "Logistic Regression Test Score: 0.640625\n"
     ]
    }
   ],
   "source": [
    "score[\"Logistic Regression\"] = {}\n",
    "score[\"Logistic Regression\"][\"model\"] = lr_mod\n",
    "score[\"Logistic Regression\"][\"Train Score\"] = lr_mod.score(X_train, y_train)\n",
    "score[\"Logistic Regression\"][\"Validation Score\"] = lr_mod.score(X_valid, y_valid)\n",
    "score[\"Logistic Regression\"][\"Test Score\"] = lr_mod.score(X_test, y_test)\n",
    "\n",
    "print(\"Logistic Regression Train Score: {}\".format(score[\"Logistic Regression\"][\"Train Score\"]))\n",
    "print(\"Logistic Regression Validation Score: {}\".format(score[\"Logistic Regression\"][\"Validation Score\"]))\n",
    "print(\"Logistic Regression Test Score: {}\".format(score[\"Logistic Regression\"][\"Test Score\"]))"
   ]
  },
  {
   "cell_type": "markdown",
   "metadata": {},
   "source": [
    "## Linear Discriminant Analysis"
   ]
  },
  {
   "cell_type": "markdown",
   "metadata": {},
   "source": [
    "We will also try out Linear Discriminant Analysis. However, we need to first check whether the variances across the three outcomes are equal. "
   ]
  },
  {
   "cell_type": "code",
   "execution_count": 419,
   "metadata": {},
   "outputs": [
    {
     "data": {
      "text/html": [
       "<div>\n",
       "<style scoped>\n",
       "    .dataframe tbody tr th:only-of-type {\n",
       "        vertical-align: middle;\n",
       "    }\n",
       "\n",
       "    .dataframe tbody tr th {\n",
       "        vertical-align: top;\n",
       "    }\n",
       "\n",
       "    .dataframe thead th {\n",
       "        text-align: right;\n",
       "    }\n",
       "</style>\n",
       "<table border=\"1\" class=\"dataframe\">\n",
       "  <thead>\n",
       "    <tr style=\"text-align: right;\">\n",
       "      <th></th>\n",
       "      <th>overall_diff</th>\n",
       "      <th>attack_away_defence_home_diff</th>\n",
       "      <th>attack_home_defence_away_diff</th>\n",
       "      <th>attack_diff</th>\n",
       "      <th>defence_diff</th>\n",
       "      <th>midfield_diff</th>\n",
       "      <th>prestige_diff</th>\n",
       "      <th>growth_diff</th>\n",
       "      <th>full_age_diff</th>\n",
       "      <th>start_age_diff</th>\n",
       "      <th>...</th>\n",
       "      <th>cc_passing_diff</th>\n",
       "      <th>cc_shooting_diff</th>\n",
       "      <th>d_aggresion_diff</th>\n",
       "      <th>d_pressure_diff</th>\n",
       "      <th>d_width_diff</th>\n",
       "      <th>gdp_diff</th>\n",
       "      <th>is_home</th>\n",
       "      <th>raw_gdp_diff</th>\n",
       "      <th>score_past_5_games_diff</th>\n",
       "      <th>score_conceded_past_5_games_diff</th>\n",
       "    </tr>\n",
       "    <tr>\n",
       "      <th>home_win</th>\n",
       "      <th></th>\n",
       "      <th></th>\n",
       "      <th></th>\n",
       "      <th></th>\n",
       "      <th></th>\n",
       "      <th></th>\n",
       "      <th></th>\n",
       "      <th></th>\n",
       "      <th></th>\n",
       "      <th></th>\n",
       "      <th></th>\n",
       "      <th></th>\n",
       "      <th></th>\n",
       "      <th></th>\n",
       "      <th></th>\n",
       "      <th></th>\n",
       "      <th></th>\n",
       "      <th></th>\n",
       "      <th></th>\n",
       "      <th></th>\n",
       "      <th></th>\n",
       "    </tr>\n",
       "  </thead>\n",
       "  <tbody>\n",
       "    <tr>\n",
       "      <th>-1</th>\n",
       "      <td>31.393396</td>\n",
       "      <td>38.015113</td>\n",
       "      <td>41.497639</td>\n",
       "      <td>40.858572</td>\n",
       "      <td>37.554931</td>\n",
       "      <td>38.133908</td>\n",
       "      <td>25.423806</td>\n",
       "      <td>2.770866</td>\n",
       "      <td>2.489490</td>\n",
       "      <td>4.552043</td>\n",
       "      <td>...</td>\n",
       "      <td>402.748077</td>\n",
       "      <td>375.983868</td>\n",
       "      <td>296.912088</td>\n",
       "      <td>320.035133</td>\n",
       "      <td>279.620908</td>\n",
       "      <td>0.729948</td>\n",
       "      <td>0.249014</td>\n",
       "      <td>8.437606e+08</td>\n",
       "      <td>0.852162</td>\n",
       "      <td>0.836869</td>\n",
       "    </tr>\n",
       "    <tr>\n",
       "      <th>0</th>\n",
       "      <td>36.158215</td>\n",
       "      <td>46.202150</td>\n",
       "      <td>46.137393</td>\n",
       "      <td>47.654088</td>\n",
       "      <td>43.559341</td>\n",
       "      <td>41.798216</td>\n",
       "      <td>30.781631</td>\n",
       "      <td>2.593080</td>\n",
       "      <td>2.596855</td>\n",
       "      <td>4.532752</td>\n",
       "      <td>...</td>\n",
       "      <td>437.047544</td>\n",
       "      <td>372.213618</td>\n",
       "      <td>321.269206</td>\n",
       "      <td>327.077465</td>\n",
       "      <td>277.419308</td>\n",
       "      <td>0.795575</td>\n",
       "      <td>0.159003</td>\n",
       "      <td>8.036942e+08</td>\n",
       "      <td>0.808308</td>\n",
       "      <td>0.814475</td>\n",
       "    </tr>\n",
       "    <tr>\n",
       "      <th>1</th>\n",
       "      <td>37.105145</td>\n",
       "      <td>47.913430</td>\n",
       "      <td>45.265228</td>\n",
       "      <td>49.295727</td>\n",
       "      <td>43.509512</td>\n",
       "      <td>42.634416</td>\n",
       "      <td>26.985673</td>\n",
       "      <td>2.953428</td>\n",
       "      <td>2.406626</td>\n",
       "      <td>4.359358</td>\n",
       "      <td>...</td>\n",
       "      <td>429.027327</td>\n",
       "      <td>380.046157</td>\n",
       "      <td>316.424882</td>\n",
       "      <td>301.391634</td>\n",
       "      <td>317.805089</td>\n",
       "      <td>0.750640</td>\n",
       "      <td>0.199472</td>\n",
       "      <td>7.765742e+08</td>\n",
       "      <td>0.907216</td>\n",
       "      <td>0.896912</td>\n",
       "    </tr>\n",
       "  </tbody>\n",
       "</table>\n",
       "<p>3 rows × 27 columns</p>\n",
       "</div>"
      ],
      "text/plain": [
       "          overall_diff  attack_away_defence_home_diff  \\\n",
       "home_win                                                \n",
       "-1           31.393396                      38.015113   \n",
       " 0           36.158215                      46.202150   \n",
       " 1           37.105145                      47.913430   \n",
       "\n",
       "          attack_home_defence_away_diff  attack_diff  defence_diff  \\\n",
       "home_win                                                             \n",
       "-1                            41.497639    40.858572     37.554931   \n",
       " 0                            46.137393    47.654088     43.559341   \n",
       " 1                            45.265228    49.295727     43.509512   \n",
       "\n",
       "          midfield_diff  prestige_diff  growth_diff  full_age_diff  \\\n",
       "home_win                                                             \n",
       "-1            38.133908      25.423806     2.770866       2.489490   \n",
       " 0            41.798216      30.781631     2.593080       2.596855   \n",
       " 1            42.634416      26.985673     2.953428       2.406626   \n",
       "\n",
       "          start_age_diff                ...                 cc_passing_diff  \\\n",
       "home_win                                ...                                   \n",
       "-1              4.552043                ...                      402.748077   \n",
       " 0              4.532752                ...                      437.047544   \n",
       " 1              4.359358                ...                      429.027327   \n",
       "\n",
       "          cc_shooting_diff  d_aggresion_diff  d_pressure_diff  d_width_diff  \\\n",
       "home_win                                                                      \n",
       "-1              375.983868        296.912088       320.035133    279.620908   \n",
       " 0              372.213618        321.269206       327.077465    277.419308   \n",
       " 1              380.046157        316.424882       301.391634    317.805089   \n",
       "\n",
       "          gdp_diff   is_home  raw_gdp_diff  score_past_5_games_diff  \\\n",
       "home_win                                                              \n",
       "-1        0.729948  0.249014  8.437606e+08                 0.852162   \n",
       " 0        0.795575  0.159003  8.036942e+08                 0.808308   \n",
       " 1        0.750640  0.199472  7.765742e+08                 0.907216   \n",
       "\n",
       "          score_conceded_past_5_games_diff  \n",
       "home_win                                    \n",
       "-1                                0.836869  \n",
       " 0                                0.814475  \n",
       " 1                                0.896912  \n",
       "\n",
       "[3 rows x 27 columns]"
      ]
     },
     "execution_count": 419,
     "metadata": {},
     "output_type": "execute_result"
    }
   ],
   "source": [
    "train.groupby('home_win').var()"
   ]
  },
  {
   "cell_type": "code",
   "execution_count": 420,
   "metadata": {},
   "outputs": [],
   "source": [
    "lda_mod = LinearDiscriminantAnalysis().fit(X_train, y_train)"
   ]
  },
  {
   "cell_type": "code",
   "execution_count": 421,
   "metadata": {},
   "outputs": [
    {
     "name": "stdout",
     "output_type": "stream",
     "text": [
      "LDA Train Score: 0.5154911008569545\n",
      "LDA Validation Score: 0.5447368421052632\n",
      "LDA Test Score: 0.640625\n"
     ]
    }
   ],
   "source": [
    "score[\"LDA\"] = {}\n",
    "score[\"LDA\"][\"model\"] = lda_mod\n",
    "score[\"LDA\"][\"Train Score\"] = lda_mod.score(X_train, y_train)\n",
    "score[\"LDA\"][\"Validation Score\"] = lda_mod.score(X_valid, y_valid)\n",
    "score[\"LDA\"][\"Test Score\"] = lda_mod.score(X_test, y_test)\n",
    "\n",
    "print(\"LDA Train Score: {}\".format(score[\"LDA\"][\"Train Score\"]))\n",
    "print(\"LDA Validation Score: {}\".format(score[\"LDA\"][\"Validation Score\"]))\n",
    "print(\"LDA Test Score: {}\".format(score[\"LDA\"][\"Test Score\"]))"
   ]
  },
  {
   "cell_type": "markdown",
   "metadata": {},
   "source": [
    "## Quadratic Discriminant Analysis"
   ]
  },
  {
   "cell_type": "markdown",
   "metadata": {},
   "source": [
    "We will also try out Quadratic Discriminant Analysis, which should perform similarly to LDA in this case due to the almost equal variances."
   ]
  },
  {
   "cell_type": "code",
   "execution_count": 422,
   "metadata": {},
   "outputs": [],
   "source": [
    "qda_mod = QuadraticDiscriminantAnalysis().fit(X_train, y_train)"
   ]
  },
  {
   "cell_type": "code",
   "execution_count": 423,
   "metadata": {},
   "outputs": [
    {
     "name": "stdout",
     "output_type": "stream",
     "text": [
      "QDA Train Score: 0.5926170072511536\n",
      "QDA Validation Score: 0.42894736842105263\n",
      "QDA Test Score: 0.5\n"
     ]
    }
   ],
   "source": [
    "score[\"QDA\"] = {}\n",
    "score[\"QDA\"]['model'] = qda_mod\n",
    "score[\"QDA\"][\"Train Score\"] = qda_mod.score(X_train, y_train)\n",
    "score[\"QDA\"][\"Validation Score\"] = qda_mod.score(X_valid, y_valid)\n",
    "score[\"QDA\"][\"Test Score\"] = qda_mod.score(X_test, y_test)\n",
    "\n",
    "print(\"QDA Train Score: {}\".format(score[\"QDA\"][\"Train Score\"]))\n",
    "print(\"QDA Validation Score: {}\".format(score[\"QDA\"][\"Validation Score\"]))\n",
    "print(\"QDA Test Score: {}\".format(score[\"QDA\"][\"Test Score\"]))"
   ]
  },
  {
   "cell_type": "markdown",
   "metadata": {},
   "source": [
    "We will also try out Random Forest."
   ]
  },
  {
   "cell_type": "code",
   "execution_count": 424,
   "metadata": {},
   "outputs": [
    {
     "name": "stdout",
     "output_type": "stream",
     "text": [
      "Fitting 5 folds for each of 50 candidates, totalling 250 fits\n"
     ]
    },
    {
     "name": "stderr",
     "output_type": "stream",
     "text": [
      "[Parallel(n_jobs=-1)]: Done  42 tasks      | elapsed:   19.1s\n",
      "[Parallel(n_jobs=-1)]: Done 192 tasks      | elapsed:   57.8s\n",
      "[Parallel(n_jobs=-1)]: Done 250 out of 250 | elapsed:  1.3min finished\n"
     ]
    }
   ],
   "source": [
    "rf_params = {'bootstrap': [True, False],\n",
    "             'max_depth': [3, 5, 10, 20, 30, 40, None],\n",
    "             'max_features': ['auto', 'sqrt'],\n",
    "             'min_samples_leaf': [1, 2, 4, 10, 20],\n",
    "             'min_samples_split': [2, 5, 10],\n",
    "             'n_estimators': [10, 50, 100, 200, 500]}\n",
    "\n",
    "rf_mod = RandomizedSearchCV(estimator=RandomForestClassifier(), param_distributions=rf_params,\\\n",
    "                            n_iter=50, scoring='accuracy', n_jobs=-1, cv=5, verbose=1).fit(X_train, y_train)"
   ]
  },
  {
   "cell_type": "code",
   "execution_count": 425,
   "metadata": {},
   "outputs": [
    {
     "name": "stdout",
     "output_type": "stream",
     "text": [
      "Random Forest Train Score: 0.5207646671061306\n",
      "Random Forest Validation Score 0.5421052631578948\n",
      "Random Forest Test Score 0.59375\n"
     ]
    }
   ],
   "source": [
    "score[\"Random Forest\"] = {}\n",
    "score[\"Random Forest\"]['model'] = rf_mod\n",
    "score[\"Random Forest\"][\"Train Score\"] = rf_mod.score(X_train, y_train)\n",
    "score[\"Random Forest\"][\"Validation Score\"] = rf_mod.score(X_valid, y_valid)\n",
    "score[\"Random Forest\"][\"Test Score\"] = rf_mod.score(X_test, y_test)\n",
    "\n",
    "print(\"Random Forest Train Score: {}\".format(score[\"Random Forest\"][\"Train Score\"]))\n",
    "print(\"Random Forest Validation Score {}\".format(score[\"Random Forest\"][\"Validation Score\"]))\n",
    "print(\"Random Forest Test Score {}\".format(score[\"Random Forest\"][\"Test Score\"]))"
   ]
  },
  {
   "cell_type": "markdown",
   "metadata": {},
   "source": [
    "## Principal Components Regression"
   ]
  },
  {
   "cell_type": "code",
   "execution_count": 426,
   "metadata": {},
   "outputs": [],
   "source": [
    "from sklearn.decomposition import PCA\n"
   ]
  },
  {
   "cell_type": "code",
   "execution_count": 427,
   "metadata": {},
   "outputs": [],
   "source": [
    "# get column names\n",
    "predictors = X_train.columns.values\n",
    "\n",
    "# PCA on data\n",
    "pca = PCA().fit(X_train_scaled)\n",
    "X_train_pca = pca.transform(X_train_scaled)\n",
    "X_valid_pca = pca.transform(X_valid_scaled)"
   ]
  },
  {
   "cell_type": "code",
   "execution_count": 428,
   "metadata": {},
   "outputs": [],
   "source": [
    "# full components\n",
    "pcr_mod = LogisticRegressionCV(solver = 'lbfgs', \n",
    "                               max_iter = 5000, \n",
    "                               cv = 5, \n",
    "                               multi_class='multinomial').fit(X_train_pca, y_train)"
   ]
  },
  {
   "cell_type": "code",
   "execution_count": 429,
   "metadata": {},
   "outputs": [],
   "source": [
    "# test set\n",
    "X_test_pca = pca.transform(X_test_scaled)\n",
    "\n",
    "pcr_test_pred = [np.where(np.argsort(val) == 1)[0][0]-1 if (i==1) & (np.argmax(val) == 1)\n",
    "                 else np.argmax(val)-1 for i, val in zip(grp_id, pcr_mod.predict_proba(X_test_pca))]"
   ]
  },
  {
   "cell_type": "code",
   "execution_count": 430,
   "metadata": {},
   "outputs": [
    {
     "name": "stdout",
     "output_type": "stream",
     "text": [
      "PCR (Full) Train Score: 0.5121951219512195\n",
      "PCR (Full) Validation Score: 0.5421052631578948\n",
      "PCR (Full) Test Score: 0.6875\n"
     ]
    }
   ],
   "source": [
    "score[\"pcr_full\"] = {}\n",
    "score[\"pcr_full\"][\"model\"] = pcr_mod\n",
    "score[\"pcr_full\"][\"Train Score\"] = pcr_mod.score(X_train_pca, y_train)\n",
    "score[\"pcr_full\"][\"Validation Score\"] = pcr_mod.score(X_valid_pca, y_valid)\n",
    "score[\"pcr_full\"][\"Test Score\"] = accuracy_score(y_test, pcr_test_pred)\n",
    "print(\"PCR (Full) Train Score: {}\".format(score[\"pcr_full\"][\"Train Score\"]))\n",
    "print(\"PCR (Full) Validation Score: {}\".format(score[\"pcr_full\"][\"Validation Score\"]))\n",
    "print(\"PCR (Full) Test Score: {}\".format(score[\"pcr_full\"][\"Test Score\"]))"
   ]
  },
  {
   "cell_type": "code",
   "execution_count": 431,
   "metadata": {},
   "outputs": [
    {
     "data": {
      "image/png": "[encoded data removed]",
      "text/plain": [
       "<Figure size 432x288 with 1 Axes>"
      ]
     },
     "metadata": {},
     "output_type": "display_data"
    }
   ],
   "source": [
    "pca_cumvar = np.cumsum(pca.explained_variance_ratio_) \n",
    "\n",
    "plt.plot(np.arange(1,len(pca_cumvar)+1), pca_cumvar)\n",
    "plt.title('Cumulative Variance')\n",
    "plt.xlabel('PCA Components')\n",
    "plt.ylabel('Cumulative Variance');"
   ]
  },
  {
   "cell_type": "code",
   "execution_count": 432,
   "metadata": {},
   "outputs": [
    {
     "name": "stdout",
     "output_type": "stream",
     "text": [
      "Number of Components to explain 80% Variance: 9\n",
      "Number of Components to explain 90% Variance: 13\n"
     ]
    }
   ],
   "source": [
    "pca80_com = np.argmax(pca_cumvar >= 0.8)+1\n",
    "pca90_com = np.argmax(pca_cumvar >= 0.9)+1\n",
    "\n",
    "print('Number of Components to explain 80% Variance: {}'.format(pca80_com))\n",
    "print('Number of Components to explain 90% Variance: {}'.format(pca90_com))"
   ]
  },
  {
   "cell_type": "code",
   "execution_count": 433,
   "metadata": {},
   "outputs": [],
   "source": [
    "# 80% variation\n",
    "pca80 = PCA(n_components=pca80_com).fit(X_train_scaled)\n",
    "X_train_pca80 = pca80.transform(X_train_scaled)\n",
    "X_valid_pca80 = pca80.transform(X_valid_scaled)\n",
    "\n",
    "# 90% variation\n",
    "pca90 = PCA(n_components=pca90_com).fit(X_train_scaled)\n",
    "X_train_pca90 = pca90.transform(X_train_scaled)\n",
    "X_valid_pca90 = pca90.transform(X_valid_scaled)\n",
    "\n",
    "# fit models\n",
    "pcr80_mod = LogisticRegressionCV(solver = 'lbfgs', \n",
    "                               max_iter = 5000, \n",
    "                               cv = 5, \n",
    "                               multi_class='multinomial').fit(X_train_pca80, y_train)\n",
    "pcr90_mod = LogisticRegressionCV(solver = 'lbfgs', \n",
    "                               max_iter = 5000, \n",
    "                               cv = 5, \n",
    "                               multi_class='multinomial').fit(X_train_pca90, y_train)"
   ]
  },
  {
   "cell_type": "code",
   "execution_count": 434,
   "metadata": {},
   "outputs": [],
   "source": [
    "# test set\n",
    "# 80% variation\n",
    "X_test_pca80 = pca80.transform(X_test_scaled)\n",
    "\n",
    "pcr80_test_pred = [np.where(np.argsort(val) == 1)[0][0]-1 if (i==1) & (np.argmax(val) == 1)\n",
    "                   else np.argmax(val)-1 for i, val in zip(grp_id, pcr80_mod.predict_proba(X_test_pca80))]\n",
    "\n",
    "# 90% variation\n",
    "X_test_pca90 = pca90.transform(X_test_scaled)\n",
    "\n",
    "pcr90_test_pred = [np.where(np.argsort(val) == 1)[0][0]-1 if (i==1) & (np.argmax(val) == 1)\n",
    "                   else np.argmax(val)-1 for i, val in zip(grp_id, pcr90_mod.predict_proba(X_test_pca90))]"
   ]
  },
  {
   "cell_type": "code",
   "execution_count": 435,
   "metadata": {},
   "outputs": [
    {
     "name": "stdout",
     "output_type": "stream",
     "text": [
      "PCR (80%) Train Score: 0.5075807514831905\n",
      "PCR (80%) Validation Score: 0.55\n",
      "PCR (80%) Test Score: 0.65625\n",
      "PCR (90%) Train Score: 0.5088991430454846\n",
      "PCR (90%) Validation Score: 0.5342105263157895\n",
      "PCR (90%) Test Score: 0.6875\n"
     ]
    }
   ],
   "source": [
    "# 80% variation\n",
    "score[\"pcr_80%\"] = {}\n",
    "score[\"pcr_80%\"][\"model\"] = pcr80_mod\n",
    "score[\"pcr_80%\"][\"Train Score\"] = pcr80_mod.score(X_train_pca80, y_train)\n",
    "score[\"pcr_80%\"][\"Validation Score\"] = pcr80_mod.score(X_valid_pca80, y_valid)\n",
    "score[\"pcr_80%\"][\"Test Score\"] = accuracy_score(y_test, pcr80_test_pred)\n",
    "print(\"PCR (80%) Train Score: {}\".format(score[\"pcr_80%\"][\"Train Score\"]))\n",
    "print(\"PCR (80%) Validation Score: {}\".format(score[\"pcr_80%\"][\"Validation Score\"]))\n",
    "print(\"PCR (80%) Test Score: {}\".format(score[\"pcr_80%\"][\"Test Score\"]))\n",
    "\n",
    "# 90% variation\n",
    "score[\"pcr_90%\"] = {}\n",
    "score[\"pcr_90%\"][\"model\"] = pcr90_mod\n",
    "score[\"pcr_90%\"][\"Train Score\"] = pcr90_mod.score(X_train_pca90, y_train)\n",
    "score[\"pcr_90%\"][\"Validation Score\"] = pcr90_mod.score(X_valid_pca90, y_valid)\n",
    "score[\"pcr_90%\"][\"Test Score\"] = accuracy_score(y_test, pcr90_test_pred)\n",
    "print(\"PCR (90%) Train Score: {}\".format(score[\"pcr_90%\"][\"Train Score\"]))\n",
    "print(\"PCR (90%) Validation Score: {}\".format(score[\"pcr_90%\"][\"Validation Score\"]))\n",
    "print(\"PCR (90%) Test Score: {}\".format(score[\"pcr_90%\"][\"Test Score\"]))"
   ]
  },
  {
   "cell_type": "markdown",
   "metadata": {},
   "source": [
    "Rather than using arbitrary markers for the cumulative percentage of variation captured by our PCA, we can check for the most ideal number of components for our regression as well."
   ]
  },
  {
   "cell_type": "code",
   "execution_count": 436,
   "metadata": {},
   "outputs": [],
   "source": [
    "pcr_train_score = []\n",
    "pcr_valid_score = []\n",
    "pcr_test_score = []\n",
    "\n",
    "for i in np.arange(1, X_train.shape[1]):\n",
    "    pca_cv = PCA(n_components=i).fit(X_train_scaled)\n",
    "    X_train_pca_cv = pca_cv.transform(X_train_scaled)\n",
    "    X_valid_pca_cv = pca_cv.transform(X_valid_scaled)\n",
    "    X_test_pca_cv = pca_cv.transform(X_test_scaled)\n",
    "    \n",
    "    pcr_cv_mod = LogisticRegressionCV(solver = 'lbfgs', \n",
    "                                      max_iter = 5000, \n",
    "                                      cv = 5, \n",
    "                                      multi_class='multinomial').fit(X_train_pca_cv, y_train)\n",
    "    \n",
    "    pcr_train_score.append(pcr_cv_mod.score(X_train_pca_cv, y_train))\n",
    "    pcr_valid_score.append(pcr_cv_mod.score(X_valid_pca_cv, y_valid))\n",
    "    \n",
    "    pcr_test_score.append(accuracy_score(y_test,\n",
    "              [np.where(np.argsort(val) == 1)[0][0]-1 if (i==1) & (np.argmax(val) == 1)\n",
    "               else np.argmax(val)-1 for i, val in zip(grp_id, pcr_cv_mod.predict_proba(X_test_pca_cv))]))\n",
    "#     pcr_test_score.append(pcr_cv_mod.score(X_test_pca_cv, y_test))"
   ]
  },
  {
   "cell_type": "code",
   "execution_count": 437,
   "metadata": {},
   "outputs": [
    {
     "data": {
      "image/png": "[encoded data removed]",
      "text/plain": [
       "<Figure size 432x288 with 1 Axes>"
      ]
     },
     "metadata": {},
     "output_type": "display_data"
    }
   ],
   "source": [
    "plt.plot(np.arange(1,len(pcr_train_score)+1), pcr_train_score, label='Training Accuracy')\n",
    "plt.plot(np.arange(1,len(pcr_valid_score)+1), pcr_valid_score, label='Validation Accuracy')\n",
    "\n",
    "\n",
    "plt.title('Accuracy for Different PCA Components')\n",
    "plt.xlabel('PCA Components')\n",
    "plt.ylabel('Accuracy')\n",
    "plt.legend();"
   ]
  },
  {
   "cell_type": "code",
   "execution_count": 438,
   "metadata": {},
   "outputs": [
    {
     "name": "stdout",
     "output_type": "stream",
     "text": [
      "Best Validation Accuracy Number of Components: 15\n"
     ]
    }
   ],
   "source": [
    "# maybe we can do something subsequently to test for all highest validation accuracies\n",
    "# because np.argmax() randomly picks if there are multiple max\n",
    "pca_best_com = np.argmax(pcr_valid_score)+1\n",
    "print('Best Validation Accuracy Number of Components: {}'.format(pca_best_com))"
   ]
  },
  {
   "cell_type": "code",
   "execution_count": 439,
   "metadata": {},
   "outputs": [],
   "source": [
    "# best mod with highest validation accuracy\n",
    "pca_best = PCA(n_components=pca_best_com).fit(X_train_scaled)\n",
    "X_train_pca_best = pca_best.transform(X_train_scaled)\n",
    "X_valid_pca_best = pca_best.transform(X_valid_scaled)\n",
    "\n",
    "# fit models\n",
    "pcr_best_mod = LogisticRegressionCV(solver = 'lbfgs', \n",
    "                                    max_iter = 5000, \n",
    "                                    cv = 5, \n",
    "                                    multi_class='multinomial').fit(X_train_pca_best, y_train)"
   ]
  },
  {
   "cell_type": "code",
   "execution_count": 440,
   "metadata": {},
   "outputs": [],
   "source": [
    "# test set\n",
    "X_test_pca_best = pca_best.transform(X_test_scaled)\n",
    "\n",
    "pcr_best_test_pred = [np.where(np.argsort(val) == 1)[0][0]-1 if (i==1) & (np.argmax(val) == 1)\n",
    "                      else np.argmax(val)-1 for i, val in zip(grp_id, pcr_best_mod.predict_proba(X_test_pca_best))]\n"
   ]
  },
  {
   "cell_type": "code",
   "execution_count": 441,
   "metadata": {},
   "outputs": [
    {
     "name": "stdout",
     "output_type": "stream",
     "text": [
      "PCR (Best) Train Score: 0.5042847725774555\n",
      "PCR (Best) Validation Score: 0.5526315789473685\n",
      "PCR (Best) Test Score: 0.640625\n"
     ]
    }
   ],
   "source": [
    "# Best Validation Accuracy\n",
    "score[\"pcr_best\"] = {}\n",
    "score[\"pcr_best\"][\"model\"] = pcr_best_mod\n",
    "score[\"pcr_best\"][\"Train Score\"] = pcr_best_mod.score(X_train_pca_best, y_train)\n",
    "score[\"pcr_best\"][\"Validation Score\"] = pcr_best_mod.score(X_valid_pca_best, y_valid)\n",
    "score[\"pcr_best\"][\"Test Score\"] = accuracy_score(y_test, pcr_best_test_pred)\n",
    "print(\"PCR (Best) Train Score: {}\".format(score[\"pcr_best\"][\"Train Score\"]))\n",
    "print(\"PCR (Best) Validation Score: {}\".format(score[\"pcr_best\"][\"Validation Score\"]))\n",
    "print(\"PCR (Best) Test Score: {}\".format(score[\"pcr_best\"][\"Test Score\"]))"
   ]
  },
  {
   "cell_type": "markdown",
   "metadata": {},
   "source": [
    "Note that in this case, the best number of components for our validation set is not the best number of components for our test set."
   ]
  },
  {
   "cell_type": "markdown",
   "metadata": {},
   "source": [
    "## Partial Least Square Discriminant Analysis"
   ]
  },
  {
   "cell_type": "markdown",
   "metadata": {},
   "source": [
    "Extending from PCR, we can try out PLS-DA as well to better account for the variation between predictors in relation to the response variable."
   ]
  },
  {
   "cell_type": "code",
   "execution_count": 442,
   "metadata": {},
   "outputs": [],
   "source": [
    "from sklearn.preprocessing import LabelBinarizer\n",
    "\n",
    "lb = LabelBinarizer()\n",
    "y_train_lb = lb.fit_transform(y_train)"
   ]
  },
  {
   "cell_type": "code",
   "execution_count": 443,
   "metadata": {},
   "outputs": [],
   "source": [
    "from sklearn.cross_decomposition import PLSRegression\n",
    "\n",
    "\n",
    "plsda_train_score = []\n",
    "plsda_valid_score = []\n",
    "\n",
    "for i in np.arange(1, X_train.shape[1]):\n",
    "    plsda_mod = PLSRegression(n_components=i, scale=False) \n",
    "    plsda_mod.fit(X_train_scaled, y_train_lb)\n",
    "\n",
    "    plsda_train_score.append(accuracy_score(y_train, np.argmax(plsda_mod.predict(X_train_scaled), axis=1) - 1))\n",
    "    plsda_valid_score.append(accuracy_score(y_valid, np.argmax(plsda_mod.predict(X_valid_scaled), axis=1) - 1))"
   ]
  },
  {
   "cell_type": "code",
   "execution_count": 444,
   "metadata": {},
   "outputs": [
    {
     "data": {
      "image/png": "[encoded data removed]",
      "text/plain": [
       "<Figure size 432x288 with 1 Axes>"
      ]
     },
     "metadata": {},
     "output_type": "display_data"
    }
   ],
   "source": [
    "plt.plot(np.arange(1,len(plsda_train_score)+1), plsda_train_score, label='Training Accuracy')\n",
    "plt.plot(np.arange(1,len(plsda_valid_score)+1), plsda_valid_score, label='Validation Accuracy')\n",
    "\n",
    "plt.title('Accuracy for Different PLS-DA Components')\n",
    "plt.xlabel('PLS-DA Components')\n",
    "plt.ylabel('Accuracy')\n",
    "plt.legend();"
   ]
  },
  {
   "cell_type": "code",
   "execution_count": 445,
   "metadata": {},
   "outputs": [
    {
     "name": "stdout",
     "output_type": "stream",
     "text": [
      "Best Validation Accuracy Number of Components: 2\n"
     ]
    }
   ],
   "source": [
    "plsda_best_com = np.argmax(plsda_valid_score)+1\n",
    "print('Best Validation Accuracy Number of Components: {}'.format(plsda_best_com))"
   ]
  },
  {
   "cell_type": "code",
   "execution_count": 446,
   "metadata": {},
   "outputs": [],
   "source": [
    "# check test accuracy\n",
    "plsda_best_mod = PLSRegression(n_components=plsda_best_com, scale=False) \n",
    "plsda_best_mod.fit(X_train_scaled, y_train_lb)\n",
    "\n",
    "plsda_best_test_pred = [np.where(np.argsort(val) == 1)[0][0]-1 if (i==1) & (np.argmax(val) == 1) \n",
    "                       else np.argmax(val)-1 for i, val in zip(grp_id, plsda_best_mod.predict(X_test_scaled))]\n"
   ]
  },
  {
   "cell_type": "code",
   "execution_count": 447,
   "metadata": {},
   "outputs": [
    {
     "name": "stdout",
     "output_type": "stream",
     "text": [
      "PLS-DA (Best) Train Score: 0.5128543177323666\n",
      "PLS-DA (Best) Validation Score: 0.5447368421052632\n",
      "PLS-DA (Best) Test Score: 0.65625\n"
     ]
    }
   ],
   "source": [
    "# Best Validation Accuracy\n",
    "score[\"plsda_best\"] = {}\n",
    "score[\"plsda_best\"][\"model\"] = plsda_best_mod\n",
    "score[\"plsda_best\"][\"Train Score\"] = accuracy_score(y_train, np.argmax(plsda_mod.predict(X_train_scaled), axis=1) - 1)\n",
    "score[\"plsda_best\"][\"Validation Score\"] = accuracy_score(y_valid, np.argmax(plsda_mod.predict(X_valid_scaled), axis=1) - 1)\n",
    "score[\"plsda_best\"][\"Test Score\"] = accuracy_score(y_test, plsda_best_test_pred)\n",
    "print(\"PLS-DA (Best) Train Score: {}\".format(score[\"plsda_best\"][\"Train Score\"]))\n",
    "print(\"PLS-DA (Best) Validation Score: {}\".format(score[\"plsda_best\"][\"Validation Score\"]))\n",
    "print(\"PLS-DA (Best) Test Score: {}\".format(score[\"plsda_best\"][\"Test Score\"]))"
   ]
  },
  {
   "cell_type": "code",
   "execution_count": 448,
   "metadata": {},
   "outputs": [],
   "source": [
    "plsr_test_score = []\n",
    "\n",
    "for i in np.arange(1, X_train.shape[1]):\n",
    "    plsr_mod = PLSRegression(n_components=i, scale=False)\n",
    "    plsr_mod.fit(X_train_scaled, y_train_lb)\n",
    "    test_pred = [np.where(np.argsort(val) == 1)[0][0]-1 if (i==1) & (np.argmax(val) == 1) \n",
    "                 else np.argmax(val)-1 for i, val in zip(grp_id, plsr_mod.predict(X_test_scaled))]\n",
    "    plsr_test_score.append(accuracy_score(y_test, test_pred))"
   ]
  },
  {
   "cell_type": "code",
   "execution_count": 449,
   "metadata": {},
   "outputs": [
    {
     "data": {
      "image/png": "[encoded data removed]",
      "text/plain": [
       "<Figure size 432x288 with 1 Axes>"
      ]
     },
     "metadata": {},
     "output_type": "display_data"
    }
   ],
   "source": [
    "plt.plot(np.arange(1,len(plsr_test_score)+1), plsr_test_score, label='Test Accuracy')\n",
    "\n",
    "plt.title('Accuracy for Different PLSR Components')\n",
    "plt.xlabel('PLSR Components')\n",
    "plt.ylabel('Accuracy')\n",
    "plt.legend();"
   ]
  },
  {
   "cell_type": "markdown",
   "metadata": {},
   "source": [
    "Note that the best number of components for our validation set is the best number of components for our test set as well."
   ]
  },
  {
   "cell_type": "markdown",
   "metadata": {},
   "source": [
    "## Comparing Results"
   ]
  },
  {
   "cell_type": "code",
   "execution_count": 450,
   "metadata": {},
   "outputs": [],
   "source": [
    "df_result = pd.DataFrame(score).T"
   ]
  },
  {
   "cell_type": "code",
   "execution_count": 451,
   "metadata": {},
   "outputs": [
    {
     "data": {
      "text/html": [
       "<div>\n",
       "<style scoped>\n",
       "    .dataframe tbody tr th:only-of-type {\n",
       "        vertical-align: middle;\n",
       "    }\n",
       "\n",
       "    .dataframe tbody tr th {\n",
       "        vertical-align: top;\n",
       "    }\n",
       "\n",
       "    .dataframe thead th {\n",
       "        text-align: right;\n",
       "    }\n",
       "</style>\n",
       "<table border=\"1\" class=\"dataframe\">\n",
       "  <thead>\n",
       "    <tr style=\"text-align: right;\">\n",
       "      <th></th>\n",
       "      <th>Test Score</th>\n",
       "      <th>Train Score</th>\n",
       "      <th>Validation Score</th>\n",
       "      <th>model</th>\n",
       "    </tr>\n",
       "  </thead>\n",
       "  <tbody>\n",
       "    <tr>\n",
       "      <th>Logistic Regression</th>\n",
       "      <td>0.640625</td>\n",
       "      <td>0.512195</td>\n",
       "      <td>0.542105</td>\n",
       "      <td>LogisticRegressionCV(Cs=10, class_weight=None,...</td>\n",
       "    </tr>\n",
       "    <tr>\n",
       "      <th>LDA</th>\n",
       "      <td>0.640625</td>\n",
       "      <td>0.515491</td>\n",
       "      <td>0.544737</td>\n",
       "      <td>LinearDiscriminantAnalysis(n_components=None, ...</td>\n",
       "    </tr>\n",
       "    <tr>\n",
       "      <th>QDA</th>\n",
       "      <td>0.5</td>\n",
       "      <td>0.592617</td>\n",
       "      <td>0.428947</td>\n",
       "      <td>QuadraticDiscriminantAnalysis(priors=None, reg...</td>\n",
       "    </tr>\n",
       "    <tr>\n",
       "      <th>Random Forest</th>\n",
       "      <td>0.59375</td>\n",
       "      <td>0.520765</td>\n",
       "      <td>0.542105</td>\n",
       "      <td>RandomizedSearchCV(cv=5, error_score='raise',\\...</td>\n",
       "    </tr>\n",
       "    <tr>\n",
       "      <th>pcr_full</th>\n",
       "      <td>0.6875</td>\n",
       "      <td>0.512195</td>\n",
       "      <td>0.542105</td>\n",
       "      <td>LogisticRegressionCV(Cs=10, class_weight=None,...</td>\n",
       "    </tr>\n",
       "    <tr>\n",
       "      <th>pcr_80%</th>\n",
       "      <td>0.65625</td>\n",
       "      <td>0.507581</td>\n",
       "      <td>0.55</td>\n",
       "      <td>LogisticRegressionCV(Cs=10, class_weight=None,...</td>\n",
       "    </tr>\n",
       "    <tr>\n",
       "      <th>pcr_90%</th>\n",
       "      <td>0.6875</td>\n",
       "      <td>0.508899</td>\n",
       "      <td>0.534211</td>\n",
       "      <td>LogisticRegressionCV(Cs=10, class_weight=None,...</td>\n",
       "    </tr>\n",
       "    <tr>\n",
       "      <th>pcr_best</th>\n",
       "      <td>0.640625</td>\n",
       "      <td>0.504285</td>\n",
       "      <td>0.552632</td>\n",
       "      <td>LogisticRegressionCV(Cs=10, class_weight=None,...</td>\n",
       "    </tr>\n",
       "    <tr>\n",
       "      <th>plsda_best</th>\n",
       "      <td>0.65625</td>\n",
       "      <td>0.512854</td>\n",
       "      <td>0.544737</td>\n",
       "      <td>PLSRegression(copy=True, max_iter=500, n_compo...</td>\n",
       "    </tr>\n",
       "  </tbody>\n",
       "</table>\n",
       "</div>"
      ],
      "text/plain": [
       "                    Test Score Train Score Validation Score  \\\n",
       "Logistic Regression   0.640625    0.512195         0.542105   \n",
       "LDA                   0.640625    0.515491         0.544737   \n",
       "QDA                        0.5    0.592617         0.428947   \n",
       "Random Forest          0.59375    0.520765         0.542105   \n",
       "pcr_full                0.6875    0.512195         0.542105   \n",
       "pcr_80%                0.65625    0.507581             0.55   \n",
       "pcr_90%                 0.6875    0.508899         0.534211   \n",
       "pcr_best              0.640625    0.504285         0.552632   \n",
       "plsda_best             0.65625    0.512854         0.544737   \n",
       "\n",
       "                                                                 model  \n",
       "Logistic Regression  LogisticRegressionCV(Cs=10, class_weight=None,...  \n",
       "LDA                  LinearDiscriminantAnalysis(n_components=None, ...  \n",
       "QDA                  QuadraticDiscriminantAnalysis(priors=None, reg...  \n",
       "Random Forest        RandomizedSearchCV(cv=5, error_score='raise',\\...  \n",
       "pcr_full             LogisticRegressionCV(Cs=10, class_weight=None,...  \n",
       "pcr_80%              LogisticRegressionCV(Cs=10, class_weight=None,...  \n",
       "pcr_90%              LogisticRegressionCV(Cs=10, class_weight=None,...  \n",
       "pcr_best             LogisticRegressionCV(Cs=10, class_weight=None,...  \n",
       "plsda_best           PLSRegression(copy=True, max_iter=500, n_compo...  "
      ]
     },
     "execution_count": 451,
     "metadata": {},
     "output_type": "execute_result"
    }
   ],
   "source": [
    "df_result"
   ]
  },
  {
   "cell_type": "code",
   "execution_count": 452,
   "metadata": {},
   "outputs": [
    {
     "name": "stdout",
     "output_type": "stream",
     "text": [
      "We choose the final model to be the one with the highest validation score, which is pcr_best in this case\n"
     ]
    }
   ],
   "source": [
    "best_mod = df_result['Validation Score'].astype(float).argmax()\n",
    "print(\"We choose the final model to be the one with the highest validation score,\\\n",
    " which is {} in this case\".format(best_mod))"
   ]
  },
  {
   "cell_type": "code",
   "execution_count": 453,
   "metadata": {},
   "outputs": [
    {
     "name": "stdout",
     "output_type": "stream",
     "text": [
      "For the best Model, pcr_best, the test accuracy is 0.641\n"
     ]
    }
   ],
   "source": [
    "best_test_score = score[best_mod]['Test Score']\n",
    "print(\"For the best Model, {}, the test accuracy is {:.3f}\".format(best_mod, best_test_score))"
   ]
  },
  {
   "cell_type": "code",
   "execution_count": null,
   "metadata": {},
   "outputs": [],
   "source": []
  }
 ],
 "metadata": {
  "kernelspec": {
   "display_name": "Python 3",
   "language": "python",
   "name": "python3"
  },
  "language_info": {
   "codemirror_mode": {
    "name": "ipython",
    "version": 3
   },
   "file_extension": ".py",
   "mimetype": "text/x-python",
   "name": "python",
   "nbconvert_exporter": "python",
   "pygments_lexer": "ipython3",
   "version": "3.7.0"
  }
 },
 "nbformat": 4,
 "nbformat_minor": 2
}
