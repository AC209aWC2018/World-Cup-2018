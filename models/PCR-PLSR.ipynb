{
 "cells": [
  {
   "cell_type": "code",
   "execution_count": 1,
   "metadata": {},
   "outputs": [],
   "source": [
    "import pandas as pd\n",
    "import numpy as np\n",
    "from sklearn.metrics import accuracy_score\n",
    "from sklearn.linear_model import LogisticRegressionCV\n",
    "from sklearn.discriminant_analysis import LinearDiscriminantAnalysis\n",
    "from sklearn.discriminant_analysis import QuadraticDiscriminantAnalysis\n",
    "from sklearn.ensemble import RandomForestClassifier\n",
    "from sklearn.model_selection import train_test_split\n",
    "from sklearn.model_selection import RandomizedSearchCV, GridSearchCV\n",
    "from predict_test_data import predict_test_data\n",
    "\n",
    "import matplotlib\n",
    "import matplotlib.pyplot as plt\n",
    "%matplotlib inline\n",
    "\n",
    "import seaborn as sns\n",
    "sns.set()\n",
    "\n",
    "import warnings\n",
    "warnings.filterwarnings('ignore')"
   ]
  },
  {
   "cell_type": "code",
   "execution_count": 2,
   "metadata": {},
   "outputs": [],
   "source": [
    "train = pd.read_csv('../data/cleaned/train_final.csv')\n",
    "test = pd.read_csv('../data/cleaned/test_final.csv')"
   ]
  },
  {
   "cell_type": "code",
   "execution_count": 3,
   "metadata": {},
   "outputs": [
    {
     "data": {
      "text/html": [
       "<div>\n",
       "<style scoped>\n",
       "    .dataframe tbody tr th:only-of-type {\n",
       "        vertical-align: middle;\n",
       "    }\n",
       "\n",
       "    .dataframe tbody tr th {\n",
       "        vertical-align: top;\n",
       "    }\n",
       "\n",
       "    .dataframe thead th {\n",
       "        text-align: right;\n",
       "    }\n",
       "</style>\n",
       "<table border=\"1\" class=\"dataframe\">\n",
       "  <thead>\n",
       "    <tr style=\"text-align: right;\">\n",
       "      <th></th>\n",
       "      <th>game_date</th>\n",
       "      <th>home_team</th>\n",
       "      <th>away_team</th>\n",
       "      <th>home_score</th>\n",
       "      <th>away_score</th>\n",
       "      <th>tournament</th>\n",
       "      <th>country</th>\n",
       "      <th>neutral</th>\n",
       "      <th>overall_diff</th>\n",
       "      <th>attack_away_defence_home_diff</th>\n",
       "      <th>...</th>\n",
       "      <th>wins_past_1_games_diff</th>\n",
       "      <th>wins_home_against_away_1_games</th>\n",
       "      <th>wins_past_2_games_diff</th>\n",
       "      <th>wins_home_against_away_2_games</th>\n",
       "      <th>wins_past_3_games_diff</th>\n",
       "      <th>wins_home_against_away_3_games</th>\n",
       "      <th>wins_past_4_games_diff</th>\n",
       "      <th>wins_home_against_away_4_games</th>\n",
       "      <th>wins_past_5_games_diff</th>\n",
       "      <th>wins_home_against_away_5_games</th>\n",
       "    </tr>\n",
       "  </thead>\n",
       "  <tbody>\n",
       "    <tr>\n",
       "      <th>0</th>\n",
       "      <td>2006-09-01 00:00:00+00:00</td>\n",
       "      <td>Denmark</td>\n",
       "      <td>Portugal</td>\n",
       "      <td>4</td>\n",
       "      <td>2</td>\n",
       "      <td>Friendly</td>\n",
       "      <td>Denmark</td>\n",
       "      <td>False</td>\n",
       "      <td>-3.0</td>\n",
       "      <td>3.0</td>\n",
       "      <td>...</td>\n",
       "      <td>0</td>\n",
       "      <td>0</td>\n",
       "      <td>0</td>\n",
       "      <td>0</td>\n",
       "      <td>0</td>\n",
       "      <td>0</td>\n",
       "      <td>0</td>\n",
       "      <td>0</td>\n",
       "      <td>0</td>\n",
       "      <td>0</td>\n",
       "    </tr>\n",
       "    <tr>\n",
       "      <th>1</th>\n",
       "      <td>2006-09-02 00:00:00+00:00</td>\n",
       "      <td>Romania</td>\n",
       "      <td>Bulgaria</td>\n",
       "      <td>2</td>\n",
       "      <td>2</td>\n",
       "      <td>UEFA Euro qualification</td>\n",
       "      <td>Romania</td>\n",
       "      <td>False</td>\n",
       "      <td>-1.0</td>\n",
       "      <td>2.0</td>\n",
       "      <td>...</td>\n",
       "      <td>0</td>\n",
       "      <td>0</td>\n",
       "      <td>0</td>\n",
       "      <td>0</td>\n",
       "      <td>0</td>\n",
       "      <td>0</td>\n",
       "      <td>0</td>\n",
       "      <td>0</td>\n",
       "      <td>0</td>\n",
       "      <td>0</td>\n",
       "    </tr>\n",
       "    <tr>\n",
       "      <th>2</th>\n",
       "      <td>2006-09-02 00:00:00+00:00</td>\n",
       "      <td>Poland</td>\n",
       "      <td>Finland</td>\n",
       "      <td>1</td>\n",
       "      <td>3</td>\n",
       "      <td>UEFA Euro qualification</td>\n",
       "      <td>Poland</td>\n",
       "      <td>False</td>\n",
       "      <td>-0.0</td>\n",
       "      <td>4.0</td>\n",
       "      <td>...</td>\n",
       "      <td>0</td>\n",
       "      <td>0</td>\n",
       "      <td>0</td>\n",
       "      <td>0</td>\n",
       "      <td>0</td>\n",
       "      <td>0</td>\n",
       "      <td>0</td>\n",
       "      <td>0</td>\n",
       "      <td>0</td>\n",
       "      <td>0</td>\n",
       "    </tr>\n",
       "    <tr>\n",
       "      <th>3</th>\n",
       "      <td>2006-09-02 00:00:00+00:00</td>\n",
       "      <td>Hungary</td>\n",
       "      <td>Norway</td>\n",
       "      <td>1</td>\n",
       "      <td>4</td>\n",
       "      <td>UEFA Euro qualification</td>\n",
       "      <td>Hungary</td>\n",
       "      <td>False</td>\n",
       "      <td>-7.0</td>\n",
       "      <td>7.0</td>\n",
       "      <td>...</td>\n",
       "      <td>0</td>\n",
       "      <td>0</td>\n",
       "      <td>0</td>\n",
       "      <td>0</td>\n",
       "      <td>0</td>\n",
       "      <td>0</td>\n",
       "      <td>0</td>\n",
       "      <td>0</td>\n",
       "      <td>0</td>\n",
       "      <td>0</td>\n",
       "    </tr>\n",
       "    <tr>\n",
       "      <th>4</th>\n",
       "      <td>2006-09-02 00:00:00+00:00</td>\n",
       "      <td>Germany</td>\n",
       "      <td>Ireland</td>\n",
       "      <td>1</td>\n",
       "      <td>0</td>\n",
       "      <td>UEFA Euro qualification</td>\n",
       "      <td>Germany</td>\n",
       "      <td>False</td>\n",
       "      <td>8.0</td>\n",
       "      <td>-8.0</td>\n",
       "      <td>...</td>\n",
       "      <td>0</td>\n",
       "      <td>0</td>\n",
       "      <td>0</td>\n",
       "      <td>0</td>\n",
       "      <td>0</td>\n",
       "      <td>0</td>\n",
       "      <td>0</td>\n",
       "      <td>0</td>\n",
       "      <td>0</td>\n",
       "      <td>0</td>\n",
       "    </tr>\n",
       "  </tbody>\n",
       "</table>\n",
       "<p>5 rows × 45 columns</p>\n",
       "</div>"
      ],
      "text/plain": [
       "                   game_date home_team away_team  home_score  away_score  \\\n",
       "0  2006-09-01 00:00:00+00:00   Denmark  Portugal           4           2   \n",
       "1  2006-09-02 00:00:00+00:00   Romania  Bulgaria           2           2   \n",
       "2  2006-09-02 00:00:00+00:00    Poland   Finland           1           3   \n",
       "3  2006-09-02 00:00:00+00:00   Hungary    Norway           1           4   \n",
       "4  2006-09-02 00:00:00+00:00   Germany   Ireland           1           0   \n",
       "\n",
       "                tournament  country  neutral  overall_diff  \\\n",
       "0                 Friendly  Denmark    False          -3.0   \n",
       "1  UEFA Euro qualification  Romania    False          -1.0   \n",
       "2  UEFA Euro qualification   Poland    False          -0.0   \n",
       "3  UEFA Euro qualification  Hungary    False          -7.0   \n",
       "4  UEFA Euro qualification  Germany    False           8.0   \n",
       "\n",
       "   attack_away_defence_home_diff               ...                \\\n",
       "0                            3.0               ...                 \n",
       "1                            2.0               ...                 \n",
       "2                            4.0               ...                 \n",
       "3                            7.0               ...                 \n",
       "4                           -8.0               ...                 \n",
       "\n",
       "   wins_past_1_games_diff  wins_home_against_away_1_games  \\\n",
       "0                       0                               0   \n",
       "1                       0                               0   \n",
       "2                       0                               0   \n",
       "3                       0                               0   \n",
       "4                       0                               0   \n",
       "\n",
       "   wins_past_2_games_diff  wins_home_against_away_2_games  \\\n",
       "0                       0                               0   \n",
       "1                       0                               0   \n",
       "2                       0                               0   \n",
       "3                       0                               0   \n",
       "4                       0                               0   \n",
       "\n",
       "   wins_past_3_games_diff  wins_home_against_away_3_games  \\\n",
       "0                       0                               0   \n",
       "1                       0                               0   \n",
       "2                       0                               0   \n",
       "3                       0                               0   \n",
       "4                       0                               0   \n",
       "\n",
       "   wins_past_4_games_diff  wins_home_against_away_4_games  \\\n",
       "0                       0                               0   \n",
       "1                       0                               0   \n",
       "2                       0                               0   \n",
       "3                       0                               0   \n",
       "4                       0                               0   \n",
       "\n",
       "   wins_past_5_games_diff  wins_home_against_away_5_games  \n",
       "0                       0                               0  \n",
       "1                       0                               0  \n",
       "2                       0                               0  \n",
       "3                       0                               0  \n",
       "4                       0                               0  \n",
       "\n",
       "[5 rows x 45 columns]"
      ]
     },
     "execution_count": 3,
     "metadata": {},
     "output_type": "execute_result"
    }
   ],
   "source": [
    "train.head()"
   ]
  },
  {
   "cell_type": "markdown",
   "metadata": {},
   "source": [
    "## Moving Average of Goals Scored"
   ]
  },
  {
   "cell_type": "code",
   "execution_count": 4,
   "metadata": {},
   "outputs": [
    {
     "data": {
      "text/plain": [
       "array(['Denmark', 'Romania', 'Poland', 'Hungary', 'Germany', 'Argentina',\n",
       "       'Wales', 'Russia', 'Bulgaria', 'France', 'Finland',\n",
       "       'Northern Ireland', 'Greece', 'Italy', 'Australia', 'Scotland',\n",
       "       'Serbia', 'Sweden', 'Brazil', 'Spain', 'Ukraine', 'Austria',\n",
       "       'Croatia', 'Switzerland', 'Belgium', 'Ecuador', 'Portugal',\n",
       "       'England', 'USA', 'Ireland', 'Korea Republic', 'China', 'Mexico',\n",
       "       'Turkey', 'Slovenia', 'Norway', 'Uruguay', 'Netherlands',\n",
       "       'South Africa', 'Czech Republic', 'Paraguay', 'Tunisia', 'Nigeria',\n",
       "       'New Zealand', 'Cameroon', 'Peru', 'Chile', 'Colombia', 'Egypt',\n",
       "       'India', 'Bolivia', 'Venezuela', 'Ivory Coast', 'Canada',\n",
       "       'Iceland', 'Saudi Arabia', 'Panama', 'Costa Rica', 'Japan'],\n",
       "      dtype=object)"
      ]
     },
     "execution_count": 4,
     "metadata": {},
     "output_type": "execute_result"
    }
   ],
   "source": [
    "train.home_team.unique()"
   ]
  },
  {
   "cell_type": "markdown",
   "metadata": {},
   "source": [
    "## Advanced Model"
   ]
  },
  {
   "cell_type": "markdown",
   "metadata": {},
   "source": [
    "For the advanced model, let us start with all the collected data that we currently have. We can then subsequently do some variable selection to select a smaller subset of predictors if necessary. "
   ]
  },
  {
   "cell_type": "code",
   "execution_count": 5,
   "metadata": {},
   "outputs": [],
   "source": [
    "columns = ['overall_diff', 'attack_away_defence_home_diff', 'attack_diff',\n",
    "           'attack_home_defence_away_diff', 'defence_diff', 'midfield_diff',\n",
    "           'rank_diff', 'prestige_diff', 'growth_diff', 'full_age_diff',\n",
    "           'start_age_diff', 'value_euros_millions_diff',\n",
    "           'wage_euros_thousands_diff', 'goalkeeper_overall_diff',\n",
    "           'bup_dribbling_diff', 'bup_passing_diff', 'bup_speed_diff',\n",
    "           'cc_crossing_diff', 'cc_passing_diff', 'cc_shooting_diff',\n",
    "           'd_aggresion_diff', 'd_pressure_diff', 'd_width_diff', 'home_win',\n",
    "           'gdp_diff', 'is_home', 'raw_gdp_diff', 'wins_past_1_games_diff',\n",
    "           'wins_home_against_away_1_games', 'wins_past_2_games_diff',\n",
    "           'wins_home_against_away_2_games', 'wins_past_3_games_diff',\n",
    "           'wins_home_against_away_3_games', 'wins_past_4_games_diff',\n",
    "           'wins_home_against_away_4_games', 'wins_past_5_games_diff',\n",
    "           'wins_home_against_away_5_games']"
   ]
  },
  {
   "cell_type": "code",
   "execution_count": 6,
   "metadata": {},
   "outputs": [],
   "source": [
    "train = train[columns]\n",
    "test = test[columns + ['Group']]"
   ]
  },
  {
   "cell_type": "code",
   "execution_count": 7,
   "metadata": {},
   "outputs": [],
   "source": [
    "np.random.seed(3)\n",
    "X_train, X_valid = train_test_split(train, test_size = 0.2)\n",
    "y_train = X_train['home_win'].ravel()\n",
    "X_train = X_train.drop(['home_win'], axis = 1)\n",
    "y_valid= X_valid['home_win'].ravel()\n",
    "X_valid = X_valid.drop(['home_win'], axis = 1)\n",
    "y_test = test['home_win'].ravel()\n",
    "\n",
    "\n",
    "# collect group\n",
    "grp = test['Group'].ravel()\n",
    "X_test = test.drop(['home_win', 'Group'], axis = 1)"
   ]
  },
  {
   "cell_type": "code",
   "execution_count": 8,
   "metadata": {},
   "outputs": [],
   "source": [
    "# stores the score of each model\n",
    "score = {}"
   ]
  },
  {
   "cell_type": "markdown",
   "metadata": {},
   "source": [
    "## Principal Components Regression"
   ]
  },
  {
   "cell_type": "code",
   "execution_count": 9,
   "metadata": {},
   "outputs": [],
   "source": [
    "from sklearn.decomposition import PCA\n",
    "from sklearn.preprocessing import StandardScaler"
   ]
  },
  {
   "cell_type": "code",
   "execution_count": 10,
   "metadata": {},
   "outputs": [],
   "source": [
    "# get column names\n",
    "predictors = X_train.columns.values\n",
    "\n",
    "# scale data\n",
    "scaler = StandardScaler()\n",
    "scaler.fit(X_train)\n",
    "X_train_scaled = scaler.transform(X_train)\n",
    "X_valid_scaled = scaler.transform(X_valid)\n",
    "X_test_scaled = scaler.transform(X_test)\n",
    "\n",
    "\n",
    "# PCA on data\n",
    "pca = PCA().fit(X_train_scaled)\n",
    "X_train_pca = pca.transform(X_train_scaled)\n",
    "X_valid_pca = pca.transform(X_valid_scaled)"
   ]
  },
  {
   "cell_type": "code",
   "execution_count": 11,
   "metadata": {},
   "outputs": [
    {
     "name": "stdout",
     "output_type": "stream",
     "text": [
      "0.5240606460118655\n",
      "0.49473684210526314\n"
     ]
    }
   ],
   "source": [
    "# full components\n",
    "pcr_mod = LogisticRegressionCV(solver = 'lbfgs', \n",
    "                               max_iter = 5000, \n",
    "                               cv = 5, \n",
    "                               multi_class='multinomial').fit(X_train_pca, y_train)\n",
    "\n",
    "print(pcr_mod.score(X_train_pca, y_train))\n",
    "print(pcr_mod.score(X_valid_pca, y_valid))"
   ]
  },
  {
   "cell_type": "code",
   "execution_count": 12,
   "metadata": {},
   "outputs": [
    {
     "data": {
      "image/png": "[encoded data removed]",
      "text/plain": [
       "<Figure size 432x288 with 1 Axes>"
      ]
     },
     "metadata": {
      "needs_background": "light"
     },
     "output_type": "display_data"
    }
   ],
   "source": [
    "pca_cumvar = np.cumsum(pca.explained_variance_ratio_) \n",
    "\n",
    "plt.plot(np.arange(1,len(pca_cumvar)+1), pca_cumvar)\n",
    "plt.title('Cumulative Variance')\n",
    "plt.xlabel('PCA Components')\n",
    "plt.ylabel('Cumulative Variance');"
   ]
  },
  {
   "cell_type": "code",
   "execution_count": 13,
   "metadata": {},
   "outputs": [
    {
     "name": "stdout",
     "output_type": "stream",
     "text": [
      "Number of Components to explain 80% Variance: 9\n",
      "Number of Components to explain 90% Variance: 16\n"
     ]
    }
   ],
   "source": [
    "print('Number of Components to explain 80% Variance: {}'.format(np.argmax(pca_cumvar >= 0.8)+1))\n",
    "print('Number of Components to explain 90% Variance: {}'.format(np.argmax(pca_cumvar >= 0.9)+1))"
   ]
  },
  {
   "cell_type": "code",
   "execution_count": 14,
   "metadata": {},
   "outputs": [
    {
     "name": "stdout",
     "output_type": "stream",
     "text": [
      "0.5260382333553065\n",
      "0.49473684210526314\n",
      "0.5214238628872775\n",
      "0.5078947368421053\n"
     ]
    }
   ],
   "source": [
    "# 80% variation\n",
    "pca9 = PCA(n_components=9).fit(X_train_scaled)\n",
    "X_train_pca9 = pca9.transform(X_train_scaled)\n",
    "X_valid_pca9 = pca9.transform(X_valid_scaled)\n",
    "\n",
    "# 90% variation\n",
    "pca16 = PCA(n_components=16).fit(X_train_scaled)\n",
    "X_train_pca16 = pca16.transform(X_train_scaled)\n",
    "X_valid_pca16 = pca16.transform(X_valid_scaled)\n",
    "\n",
    "# fit models\n",
    "pcr9_mod = LogisticRegressionCV(solver = 'lbfgs', \n",
    "                               max_iter = 5000, \n",
    "                               cv = 5, \n",
    "                               multi_class='multinomial').fit(X_train_pca9, y_train)\n",
    "pcr16_mod = LogisticRegressionCV(solver = 'lbfgs', \n",
    "                               max_iter = 5000, \n",
    "                               cv = 5, \n",
    "                               multi_class='multinomial').fit(X_train_pca16, y_train)\n",
    "\n",
    "print(pcr9_mod.score(X_train_pca9, y_train))\n",
    "print(pcr9_mod.score(X_valid_pca9, y_valid))\n",
    "print(pcr16_mod.score(X_train_pca16, y_train))\n",
    "print(pcr16_mod.score(X_valid_pca16, y_valid))"
   ]
  },
  {
   "cell_type": "markdown",
   "metadata": {},
   "source": [
    "We can see that the variation in our model can be effectively summarized by the first 9 components. There seems to be not much difference in training and validation accuracy for principal components regression with 9, 16 and all 36 components. We can check for the most ideal number of components."
   ]
  },
  {
   "cell_type": "code",
   "execution_count": 15,
   "metadata": {},
   "outputs": [],
   "source": [
    "grp_id = [0 if len(i) == 1 else 1 for i in grp]\n",
    "\n",
    "pcr_train_score = []\n",
    "pcr_valid_score = []\n",
    "pcr_test_score = []\n",
    "\n",
    "for i in np.arange(1, X_train.shape[1]):\n",
    "    pca_cv = PCA(n_components=i).fit(X_train_scaled)\n",
    "    X_train_pca_cv = pca_cv.transform(X_train_scaled)\n",
    "    X_valid_pca_cv = pca_cv.transform(X_valid_scaled)\n",
    "    X_test_pca_cv = pca_cv.transform(X_test_scaled)\n",
    "    \n",
    "    pcr_cv_mod = LogisticRegressionCV(solver = 'lbfgs', \n",
    "                                      max_iter = 5000, \n",
    "                                      cv = 5, \n",
    "                                      multi_class='multinomial').fit(X_train_pca_cv, y_train)\n",
    "    \n",
    "    pcr_train_score.append(pcr_cv_mod.score(X_train_pca_cv, y_train))\n",
    "    pcr_valid_score.append(pcr_cv_mod.score(X_valid_pca_cv, y_valid))\n",
    "    pcr_test_score.append(accuracy_score(test['home_win'],\n",
    "                                        [np.where(np.argsort(val) == 1)-1 if (i==1) & (np.argmax(val) == 1) else np.argmax(val)-1 for i, val in zip(grp_id, pcr_cv_mod.predict_proba(X_test_pca_cv))]))\n"
   ]
  },
  {
   "cell_type": "code",
   "execution_count": 16,
   "metadata": {},
   "outputs": [
    {
     "data": {
      "image/png": "[encoded data removed]",
      "text/plain": [
       "<Figure size 432x288 with 1 Axes>"
      ]
     },
     "metadata": {
      "needs_background": "light"
     },
     "output_type": "display_data"
    }
   ],
   "source": [
    "plt.plot(np.arange(1,len(pcr_train_score)+1), pcr_train_score, label='Training Accuracy')\n",
    "plt.plot(np.arange(1,len(pcr_valid_score)+1), pcr_valid_score, label='Validation Accuracy')\n",
    "\n",
    "\n",
    "plt.title('Accuracy for Different PCA Components')\n",
    "plt.xlabel('PCA Components')\n",
    "plt.ylabel('Accuracy')\n",
    "plt.legend();"
   ]
  },
  {
   "cell_type": "code",
   "execution_count": 17,
   "metadata": {},
   "outputs": [
    {
     "name": "stdout",
     "output_type": "stream",
     "text": [
      "Best Validation Accuracy Number of Components: 15\n"
     ]
    }
   ],
   "source": [
    "print('Best Validation Accuracy Number of Components: {}'.format(np.argmax(pcr_valid_score)+1))"
   ]
  },
  {
   "cell_type": "code",
   "execution_count": 18,
   "metadata": {},
   "outputs": [
    {
     "data": {
      "text/plain": [
       "0.609375"
      ]
     },
     "execution_count": 18,
     "metadata": {},
     "output_type": "execute_result"
    }
   ],
   "source": [
    "# test set\n",
    "X_test_pca16 = pca16.transform(X_test_scaled)\n",
    "\n",
    "pcr_test_pred = [np.where(np.argsort(val) == 1)-1 if (i==1) & (np.argmax(val) == 1) else np.argmax(val)-1 for i, val in zip(grp_id, pcr16_mod.predict_proba(X_test_pca16))]\n",
    "\n",
    "\n",
    "accuracy_score(test['home_win'], pcr_test_pred)"
   ]
  },
  {
   "cell_type": "markdown",
   "metadata": {},
   "source": [
    "Note that in this case, the best number of components for our validation set is not the best number of components for our test set."
   ]
  },
  {
   "cell_type": "markdown",
   "metadata": {},
   "source": [
    "## Partial Least Square Discriminant Analysis"
   ]
  },
  {
   "cell_type": "markdown",
   "metadata": {},
   "source": [
    "Extending from PCR, we can try out PLS-DA as well to better account for the variation between predictors in relation to the response variable."
   ]
  },
  {
   "cell_type": "code",
   "execution_count": 19,
   "metadata": {},
   "outputs": [],
   "source": [
    "from sklearn.preprocessing import LabelBinarizer\n",
    "\n",
    "lb = LabelBinarizer()\n",
    "y_train_lb = lb.fit_transform(y_train)"
   ]
  },
  {
   "cell_type": "code",
   "execution_count": 20,
   "metadata": {},
   "outputs": [],
   "source": [
    "from sklearn.cross_decomposition import PLSRegression\n",
    "from sklearn.metrics import accuracy_score\n",
    "\n",
    "plsr_train_score = []\n",
    "plsr_valid_score = []\n",
    "\n",
    "for i in np.arange(1, X_train.shape[1]):\n",
    "    plsr_mod = PLSRegression(n_components=i, scale=False) \n",
    "    plsr_mod.fit(X_train_scaled, y_train_lb)\n",
    "\n",
    "    plsr_train_score.append(accuracy_score(y_train, np.argmax(plsr_mod.predict(X_train_scaled), axis=1) - 1))\n",
    "    plsr_valid_score.append(accuracy_score(y_valid, np.argmax(plsr_mod.predict(X_valid_scaled), axis=1) - 1))"
   ]
  },
  {
   "cell_type": "code",
   "execution_count": 21,
   "metadata": {},
   "outputs": [
    {
     "data": {
      "image/png": "[encoded data removed]",
      "text/plain": [
       "<Figure size 432x288 with 1 Axes>"
      ]
     },
     "metadata": {
      "needs_background": "light"
     },
     "output_type": "display_data"
    }
   ],
   "source": [
    "plt.plot(np.arange(1,len(plsr_train_score)+1), plsr_train_score, label='Training Accuracy')\n",
    "plt.plot(np.arange(1,len(plsr_valid_score)+1), plsr_valid_score, label='Validation Accuracy')\n",
    "\n",
    "plt.title('Accuracy for Different PLSR Components')\n",
    "plt.xlabel('PLSR Components')\n",
    "plt.ylabel('Accuracy')\n",
    "plt.legend();"
   ]
  },
  {
   "cell_type": "code",
   "execution_count": 22,
   "metadata": {},
   "outputs": [
    {
     "name": "stdout",
     "output_type": "stream",
     "text": [
      "Best Validation Accuracy Number of Components: 11\n"
     ]
    }
   ],
   "source": [
    "print('Best Validation Accuracy Number of Components: {}'.format(np.argmax(plsr_valid_score)+1))"
   ]
  },
  {
   "cell_type": "code",
   "execution_count": 23,
   "metadata": {},
   "outputs": [
    {
     "data": {
      "text/plain": [
       "0.671875"
      ]
     },
     "execution_count": 23,
     "metadata": {},
     "output_type": "execute_result"
    }
   ],
   "source": [
    "# check test accuracy\n",
    "plsr11_mod = PLSRegression(n_components=11, scale=False) \n",
    "plsr11_mod.fit(X_train_scaled, y_train_lb)\n",
    "\n",
    "plsr11_test_pred = [np.where(np.argsort(val) == 1)-1 if (i==1) & (np.argmax(val) == 1) else np.argmax(val)-1 for i, val in zip(grp_id, plsr11_mod.predict(X_test_scaled))]\n",
    "\n",
    "accuracy_score(test['home_win'], plsr11_test_pred)"
   ]
  },
  {
   "cell_type": "code",
   "execution_count": 24,
   "metadata": {},
   "outputs": [],
   "source": [
    "plsr_test_score = []\n",
    "\n",
    "for i in np.arange(1, X_train.shape[1]):\n",
    "    plsr_mod = PLSRegression(n_components=i, scale=False)\n",
    "    plsr_mod.fit(X_train_scaled, y_train_lb)\n",
    "    \n",
    "    test_pred = [np.where(np.argsort(val) == 1)-1 if (i==1) & (np.argmax(val) == 1) else np.argmax(val)-1 for i, val in zip(grp_id, plsr_mod.predict(X_test_scaled))]\n",
    "    plsr_test_score.append(accuracy_score(test['home_win'], test_pred))"
   ]
  },
  {
   "cell_type": "code",
   "execution_count": 25,
   "metadata": {},
   "outputs": [
    {
     "data": {
      "image/png": "[encoded data removed]",
      "text/plain": [
       "<Figure size 432x288 with 1 Axes>"
      ]
     },
     "metadata": {
      "needs_background": "light"
     },
     "output_type": "display_data"
    }
   ],
   "source": [
    "plt.plot(np.arange(1,len(plsr_test_score)+1), plsr_test_score, label='Test Accuracy')\n",
    "\n",
    "plt.title('Accuracy for Different PLSR Components')\n",
    "plt.xlabel('PLSR Components')\n",
    "plt.ylabel('Accuracy')\n",
    "plt.legend();"
   ]
  },
  {
   "cell_type": "markdown",
   "metadata": {},
   "source": [
    "Note that the best number of components for our validation set is the best number of components for our test set as well."
   ]
  },
  {
   "cell_type": "code",
   "execution_count": null,
   "metadata": {},
   "outputs": [],
   "source": []
  }
 ],
 "metadata": {
  "kernelspec": {
   "display_name": "Python [conda env:ac209a]",
   "language": "python",
   "name": "conda-env-ac209a-py"
  },
  "language_info": {
   "codemirror_mode": {
    "name": "ipython",
    "version": 3
   },
   "file_extension": ".py",
   "mimetype": "text/x-python",
   "name": "python",
   "nbconvert_exporter": "python",
   "pygments_lexer": "ipython3",
   "version": "3.6.6"
  }
 },
 "nbformat": 4,
 "nbformat_minor": 2
}
