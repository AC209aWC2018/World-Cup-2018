{
 "cells": [
  {
   "cell_type": "markdown",
   "metadata": {},
   "source": [
    "# Modeling with Feature Engineered Features"
   ]
  },
  {
   "cell_type": "code",
   "execution_count": 3,
   "metadata": {},
   "outputs": [],
   "source": [
    "import matplotlib.pyplot as plt\n",
    "import pandas as pd\n",
    "import numpy as np\n",
    "from sklearn.metrics import accuracy_score\n",
    "from sklearn.linear_model import LogisticRegressionCV, LogisticRegression\n",
    "from sklearn.discriminant_analysis import LinearDiscriminantAnalysis\n",
    "from sklearn.discriminant_analysis import QuadraticDiscriminantAnalysis\n",
    "from sklearn.ensemble import RandomForestClassifier\n",
    "from sklearn.model_selection import train_test_split\n",
    "from sklearn.model_selection import RandomizedSearchCV, GridSearchCV\n",
    "from predict_test_data import predict_test_data\n",
    "from sklearn.preprocessing import StandardScaler\n",
    "from xgboost import XGBClassifier\n",
    "from sklearn.decomposition import PCA\n",
    "from sklearn.preprocessing import LabelBinarizer\n",
    "from sklearn.cross_decomposition import PLSRegression\n",
    "from sklearn.metrics import confusion_matrix\n",
    "import itertools\n",
    "\n",
    "import warnings\n",
    "warnings.filterwarnings('ignore')\n",
    "\n",
    "%matplotlib inline\n"
   ]
  },
  {
   "cell_type": "code",
   "execution_count": 4,
   "metadata": {},
   "outputs": [],
   "source": [
    "train = pd.read_csv('../data/cleaned/train_final.csv')\n",
    "test = pd.read_csv('../data/cleaned/test_final.csv')"
   ]
  },
  {
   "cell_type": "markdown",
   "metadata": {},
   "source": [
    "To begin, let's just naively use all the features we have feature engineered."
   ]
  },
  {
   "cell_type": "code",
   "execution_count": 5,
   "metadata": {},
   "outputs": [],
   "source": [
    "columns = ['overall_diff', 'attack_away_defence_home_diff', 'attack_diff',\n",
    "           'attack_home_defence_away_diff', 'defence_diff', 'midfield_diff',\n",
    "           'rank_diff', 'prestige_diff', 'growth_diff', 'full_age_diff',\n",
    "           'start_age_diff', 'value_euros_millions_diff',\n",
    "           'wage_euros_thousands_diff', 'goalkeeper_overall_diff',\n",
    "           'bup_dribbling_diff', 'bup_passing_diff', 'bup_speed_diff',\n",
    "           'cc_crossing_diff', 'cc_passing_diff', 'cc_shooting_diff',\n",
    "           'd_aggresion_diff', 'd_pressure_diff', 'd_width_diff', 'gdp_diff', \n",
    "           'is_home', 'raw_gdp_diff', 'score_past_3_games_diff',\n",
    "           'wins_past_5_games_diff', 'wins_home_against_away_3_games',\n",
    "           'score_past_4_games_diff', 'wins_home_against_away_1_games',\n",
    "           'score_past_5_games_diff', 'score_conceded_past_1_games_diff',\n",
    "           'wins_past_4_games_diff', 'wins_past_2_games_diff',\n",
    "           'wins_home_against_away_5_games', 'wins_past_1_games_diff',\n",
    "           'wins_home_against_away_4_games', 'score_past_1_games_diff',\n",
    "           'wins_past_3_games_diff', 'score_conceded_past_4_games_diff',\n",
    "           'score_conceded_past_5_games_diff', 'score_past_2_games_diff',\n",
    "           'wins_home_against_away_2_games', 'score_conceded_past_3_games_diff',\n",
    "           'score_conceded_past_2_games_diff']\n",
    "\n",
    "train = train[columns + ['home_win']]\n",
    "test = test[columns  + ['home_win']]"
   ]
  },
  {
   "cell_type": "code",
   "execution_count": 6,
   "metadata": {},
   "outputs": [],
   "source": [
    "#Same seed as baseline to ensure same train and validation sets so that comparisons are valid.\n",
    "np.random.seed(14)\n",
    "X_train, X_valid = train_test_split(train, test_size = 0.2)\n",
    "y_train = X_train['home_win'].ravel()\n",
    "X_train = X_train.drop(['home_win'], axis = 1)\n",
    "y_valid= X_valid['home_win'].ravel()\n",
    "X_valid = X_valid.drop(['home_win'], axis = 1)\n",
    "y_test = test['home_win'].ravel()\n",
    "X_test = test.drop(['home_win'], axis = 1)\n"
   ]
  },
  {
   "cell_type": "markdown",
   "metadata": {},
   "source": [
    "## Fitting the Models"
   ]
  },
  {
   "cell_type": "markdown",
   "metadata": {},
   "source": [
    "Similar to before, we will fit different classification models on our data and select the one with the best validation accuracy. "
   ]
  },
  {
   "cell_type": "code",
   "execution_count": 7,
   "metadata": {},
   "outputs": [],
   "source": [
    "score = {}"
   ]
  },
  {
   "cell_type": "code",
   "execution_count": 8,
   "metadata": {},
   "outputs": [
    {
     "name": "stdout",
     "output_type": "stream",
     "text": [
      "Logistic Regression Train Score: 0.5121951219512195\n",
      "Logistic Regression Validation Score: 0.5289473684210526\n"
     ]
    }
   ],
   "source": [
    "lr_model = LogisticRegressionCV(solver = 'lbfgs', max_iter = 5000, cv = 5, multi_class='multinomial').fit(X_train, y_train)\n",
    "score[\"Logistic Regression\"] = {}\n",
    "score[\"Logistic Regression\"][\"model\"] = lr_model\n",
    "score[\"Logistic Regression\"][\"Train Score\"] = lr_model.score(X_train, y_train)\n",
    "score[\"Logistic Regression\"][\"Validation Score\"] = lr_model.score(X_valid, y_valid)\n",
    "\n",
    "print(\"Logistic Regression Train Score: {}\".format(score[\"Logistic Regression\"][\"Train Score\"]))\n",
    "print(\"Logistic Regression Validation Score: {}\".format(score[\"Logistic Regression\"][\"Validation Score\"]))"
   ]
  },
  {
   "cell_type": "markdown",
   "metadata": {},
   "source": [
    "Like before, we first check whether the variances across the three outcomes are equal, and they do seem quite equal.  "
   ]
  },
  {
   "cell_type": "code",
   "execution_count": 9,
   "metadata": {},
   "outputs": [
    {
     "data": {
      "text/html": [
       "<div>\n",
       "<style scoped>\n",
       "    .dataframe tbody tr th:only-of-type {\n",
       "        vertical-align: middle;\n",
       "    }\n",
       "\n",
       "    .dataframe tbody tr th {\n",
       "        vertical-align: top;\n",
       "    }\n",
       "\n",
       "    .dataframe thead th {\n",
       "        text-align: right;\n",
       "    }\n",
       "</style>\n",
       "<table border=\"1\" class=\"dataframe\">\n",
       "  <thead>\n",
       "    <tr style=\"text-align: right;\">\n",
       "      <th></th>\n",
       "      <th>overall_diff</th>\n",
       "      <th>attack_away_defence_home_diff</th>\n",
       "      <th>attack_diff</th>\n",
       "      <th>attack_home_defence_away_diff</th>\n",
       "      <th>defence_diff</th>\n",
       "      <th>midfield_diff</th>\n",
       "      <th>rank_diff</th>\n",
       "      <th>prestige_diff</th>\n",
       "      <th>growth_diff</th>\n",
       "      <th>full_age_diff</th>\n",
       "      <th>...</th>\n",
       "      <th>wins_past_1_games_diff</th>\n",
       "      <th>wins_home_against_away_4_games</th>\n",
       "      <th>score_past_1_games_diff</th>\n",
       "      <th>wins_past_3_games_diff</th>\n",
       "      <th>score_conceded_past_4_games_diff</th>\n",
       "      <th>score_conceded_past_5_games_diff</th>\n",
       "      <th>score_past_2_games_diff</th>\n",
       "      <th>wins_home_against_away_2_games</th>\n",
       "      <th>score_conceded_past_3_games_diff</th>\n",
       "      <th>score_conceded_past_2_games_diff</th>\n",
       "    </tr>\n",
       "    <tr>\n",
       "      <th>home_win</th>\n",
       "      <th></th>\n",
       "      <th></th>\n",
       "      <th></th>\n",
       "      <th></th>\n",
       "      <th></th>\n",
       "      <th></th>\n",
       "      <th></th>\n",
       "      <th></th>\n",
       "      <th></th>\n",
       "      <th></th>\n",
       "      <th></th>\n",
       "      <th></th>\n",
       "      <th></th>\n",
       "      <th></th>\n",
       "      <th></th>\n",
       "      <th></th>\n",
       "      <th></th>\n",
       "      <th></th>\n",
       "      <th></th>\n",
       "      <th></th>\n",
       "      <th></th>\n",
       "    </tr>\n",
       "  </thead>\n",
       "  <tbody>\n",
       "    <tr>\n",
       "      <th>-1</th>\n",
       "      <td>31.393396</td>\n",
       "      <td>38.015113</td>\n",
       "      <td>40.858572</td>\n",
       "      <td>41.497639</td>\n",
       "      <td>37.554931</td>\n",
       "      <td>38.133908</td>\n",
       "      <td>916.793268</td>\n",
       "      <td>25.423806</td>\n",
       "      <td>2.770866</td>\n",
       "      <td>2.489490</td>\n",
       "      <td>...</td>\n",
       "      <td>0.492116</td>\n",
       "      <td>0.105429</td>\n",
       "      <td>3.458817</td>\n",
       "      <td>0.160882</td>\n",
       "      <td>0.959678</td>\n",
       "      <td>0.836869</td>\n",
       "      <td>1.676487</td>\n",
       "      <td>0.111833</td>\n",
       "      <td>1.133949</td>\n",
       "      <td>1.658055</td>\n",
       "    </tr>\n",
       "    <tr>\n",
       "      <th>0</th>\n",
       "      <td>36.158215</td>\n",
       "      <td>46.202150</td>\n",
       "      <td>47.654088</td>\n",
       "      <td>46.137393</td>\n",
       "      <td>43.559341</td>\n",
       "      <td>41.798216</td>\n",
       "      <td>960.540851</td>\n",
       "      <td>30.781631</td>\n",
       "      <td>2.593080</td>\n",
       "      <td>2.596855</td>\n",
       "      <td>...</td>\n",
       "      <td>0.460832</td>\n",
       "      <td>0.111858</td>\n",
       "      <td>3.370146</td>\n",
       "      <td>0.159603</td>\n",
       "      <td>0.943445</td>\n",
       "      <td>0.814475</td>\n",
       "      <td>1.728404</td>\n",
       "      <td>0.120386</td>\n",
       "      <td>1.123554</td>\n",
       "      <td>1.536270</td>\n",
       "    </tr>\n",
       "    <tr>\n",
       "      <th>1</th>\n",
       "      <td>37.105145</td>\n",
       "      <td>47.913430</td>\n",
       "      <td>49.295727</td>\n",
       "      <td>45.265228</td>\n",
       "      <td>43.509512</td>\n",
       "      <td>42.634416</td>\n",
       "      <td>936.866455</td>\n",
       "      <td>26.985673</td>\n",
       "      <td>2.953428</td>\n",
       "      <td>2.406626</td>\n",
       "      <td>...</td>\n",
       "      <td>0.427071</td>\n",
       "      <td>0.107973</td>\n",
       "      <td>2.869865</td>\n",
       "      <td>0.149652</td>\n",
       "      <td>1.017301</td>\n",
       "      <td>0.896912</td>\n",
       "      <td>1.653839</td>\n",
       "      <td>0.114938</td>\n",
       "      <td>1.208778</td>\n",
       "      <td>1.540007</td>\n",
       "    </tr>\n",
       "  </tbody>\n",
       "</table>\n",
       "<p>3 rows × 46 columns</p>\n",
       "</div>"
      ],
      "text/plain": [
       "          overall_diff  attack_away_defence_home_diff  attack_diff  \\\n",
       "home_win                                                             \n",
       "-1           31.393396                      38.015113    40.858572   \n",
       " 0           36.158215                      46.202150    47.654088   \n",
       " 1           37.105145                      47.913430    49.295727   \n",
       "\n",
       "          attack_home_defence_away_diff  defence_diff  midfield_diff  \\\n",
       "home_win                                                               \n",
       "-1                            41.497639     37.554931      38.133908   \n",
       " 0                            46.137393     43.559341      41.798216   \n",
       " 1                            45.265228     43.509512      42.634416   \n",
       "\n",
       "           rank_diff  prestige_diff  growth_diff  full_age_diff  \\\n",
       "home_win                                                          \n",
       "-1        916.793268      25.423806     2.770866       2.489490   \n",
       " 0        960.540851      30.781631     2.593080       2.596855   \n",
       " 1        936.866455      26.985673     2.953428       2.406626   \n",
       "\n",
       "                        ...                 wins_past_1_games_diff  \\\n",
       "home_win                ...                                          \n",
       "-1                      ...                               0.492116   \n",
       " 0                      ...                               0.460832   \n",
       " 1                      ...                               0.427071   \n",
       "\n",
       "          wins_home_against_away_4_games  score_past_1_games_diff  \\\n",
       "home_win                                                            \n",
       "-1                              0.105429                 3.458817   \n",
       " 0                              0.111858                 3.370146   \n",
       " 1                              0.107973                 2.869865   \n",
       "\n",
       "          wins_past_3_games_diff  score_conceded_past_4_games_diff  \\\n",
       "home_win                                                             \n",
       "-1                      0.160882                          0.959678   \n",
       " 0                      0.159603                          0.943445   \n",
       " 1                      0.149652                          1.017301   \n",
       "\n",
       "          score_conceded_past_5_games_diff  score_past_2_games_diff  \\\n",
       "home_win                                                              \n",
       "-1                                0.836869                 1.676487   \n",
       " 0                                0.814475                 1.728404   \n",
       " 1                                0.896912                 1.653839   \n",
       "\n",
       "          wins_home_against_away_2_games  score_conceded_past_3_games_diff  \\\n",
       "home_win                                                                     \n",
       "-1                              0.111833                          1.133949   \n",
       " 0                              0.120386                          1.123554   \n",
       " 1                              0.114938                          1.208778   \n",
       "\n",
       "          score_conceded_past_2_games_diff  \n",
       "home_win                                    \n",
       "-1                                1.658055  \n",
       " 0                                1.536270  \n",
       " 1                                1.540007  \n",
       "\n",
       "[3 rows x 46 columns]"
      ]
     },
     "execution_count": 9,
     "metadata": {},
     "output_type": "execute_result"
    }
   ],
   "source": [
    "train.groupby('home_win').var()"
   ]
  },
  {
   "cell_type": "code",
   "execution_count": 10,
   "metadata": {},
   "outputs": [],
   "source": [
    "lda_model = LinearDiscriminantAnalysis().fit(X_train, y_train)"
   ]
  },
  {
   "cell_type": "code",
   "execution_count": 11,
   "metadata": {},
   "outputs": [
    {
     "name": "stdout",
     "output_type": "stream",
     "text": [
      "LDA Train Score: 0.5227422544495716\n",
      "LDA Validation Score: 0.5631578947368421\n"
     ]
    }
   ],
   "source": [
    "score[\"LDA\"] = {}\n",
    "score[\"LDA\"][\"model\"] = lda_model\n",
    "score[\"LDA\"][\"Train Score\"] = lda_model.score(X_train, y_train)\n",
    "score[\"LDA\"][\"Validation Score\"] = lda_model.score(X_valid, y_valid)\n",
    "print(\"LDA Train Score: {}\".format(score[\"LDA\"][\"Train Score\"]))\n",
    "print(\"LDA Validation Score: {}\".format(score[\"LDA\"][\"Validation Score\"]))"
   ]
  },
  {
   "cell_type": "markdown",
   "metadata": {},
   "source": [
    "Likewise, we try out QDA as well."
   ]
  },
  {
   "cell_type": "code",
   "execution_count": 12,
   "metadata": {},
   "outputs": [],
   "source": [
    "qda_model = QuadraticDiscriminantAnalysis().fit(X_train, y_train)"
   ]
  },
  {
   "cell_type": "code",
   "execution_count": 13,
   "metadata": {},
   "outputs": [
    {
     "name": "stdout",
     "output_type": "stream",
     "text": [
      "QDA Train Score: 0.4831905075807515\n",
      "QDA Validation Score: 0.36578947368421055\n"
     ]
    }
   ],
   "source": [
    "score[\"QDA\"] = {}\n",
    "score[\"QDA\"]['model'] = qda_model\n",
    "score[\"QDA\"][\"Train Score\"] = qda_model.score(X_train, y_train)\n",
    "score[\"QDA\"][\"Validation Score\"] = qda_model.score(X_valid, y_valid)\n",
    "print(\"QDA Train Score: {}\".format(score[\"QDA\"][\"Train Score\"]))\n",
    "print(\"QDA Validation Score: {}\".format(score[\"QDA\"][\"Validation Score\"]))"
   ]
  },
  {
   "cell_type": "markdown",
   "metadata": {},
   "source": [
    "Wow, QDA is not doing a great job at all. \n",
    "\n",
    "We will also try out Random Forest."
   ]
  },
  {
   "cell_type": "code",
   "execution_count": 14,
   "metadata": {},
   "outputs": [],
   "source": [
    "rf_params = {'bootstrap': [True, False],\n",
    "             'max_depth': [3, 5, 10, 20, 30, 40, None],\n",
    "             'max_features': ['auto', 'sqrt'],\n",
    "             'min_samples_leaf': [1, 2, 4, 10, 20],\n",
    "             'min_samples_split': [2, 5, 10],\n",
    "             'n_estimators': [10, 50, 100, 200, 500]}\n",
    "\n",
    "rf_model = RandomizedSearchCV(estimator=RandomForestClassifier(), param_distributions=rf_params,\\\n",
    "                                   n_iter=50, scoring='accuracy', n_jobs=-1, cv=5, verbose=0).fit(X_train, y_train)\n"
   ]
  },
  {
   "cell_type": "code",
   "execution_count": 15,
   "metadata": {},
   "outputs": [
    {
     "name": "stdout",
     "output_type": "stream",
     "text": [
      "Random Forest Train Score: 0.5293342122610415\n",
      "Random Forest Validation Score 0.5473684210526316\n"
     ]
    }
   ],
   "source": [
    "score[\"Random Forest\"] = {}\n",
    "score[\"Random Forest\"]['model'] = rf_model\n",
    "score[\"Random Forest\"][\"Train Score\"] = rf_model.score(X_train, y_train)\n",
    "score[\"Random Forest\"][\"Validation Score\"] = rf_model.score(X_valid, y_valid)\n",
    "print(\"Random Forest Train Score: {}\".format(score[\"Random Forest\"][\"Train Score\"]))\n",
    "print(\"Random Forest Validation Score {}\".format(score[\"Random Forest\"][\"Validation Score\"]))"
   ]
  },
  {
   "cell_type": "markdown",
   "metadata": {},
   "source": [
    "Finally, XGBoost."
   ]
  },
  {
   "cell_type": "code",
   "execution_count": null,
   "metadata": {},
   "outputs": [],
   "source": [
    "xgb_params = {\n",
    "    'min_child_weight': [1, 5, 10],\n",
    "    'gamma': [0.5, 1, 1.5, 2, 5],\n",
    "    'subsample': [0.6, 0.8, 1.0],\n",
    "    'colsample_bytree': [0.6, 0.8, 1.0],\n",
    "    'max_depth': [3, 4, 5]\n",
    "    }\n",
    "xgb_model = RandomizedSearchCV(estimator=XGBClassifier(objective='multi:softmax', num_class = 3), param_distributions=xgb_params,\\\n",
    "                                   n_iter=50, scoring='accuracy', n_jobs=-1, cv=5, verbose=0).fit(X_train, y_train)"
   ]
  },
  {
   "cell_type": "code",
   "execution_count": null,
   "metadata": {},
   "outputs": [],
   "source": [
    "score[\"XGBoost\"] = {}\n",
    "score[\"XGBoost\"]['model'] = xgb_model\n",
    "score[\"XGBoost\"][\"Train Score\"] = xgb_model.score(X_train, y_train)\n",
    "score[\"XGBoost\"][\"Validation Score\"] = xgb_model.score(X_valid, y_valid)\n",
    "print(\"XGBoost Train Score: {}\".format(score[\"Random Forest\"][\"Train Score\"]))\n",
    "print(\"XGBoost Validation Score {}\".format(score[\"Random Forest\"][\"Validation Score\"]))"
   ]
  },
  {
   "cell_type": "code",
   "execution_count": 16,
   "metadata": {},
   "outputs": [
    {
     "data": {
      "text/html": [
       "<div>\n",
       "<style scoped>\n",
       "    .dataframe tbody tr th:only-of-type {\n",
       "        vertical-align: middle;\n",
       "    }\n",
       "\n",
       "    .dataframe tbody tr th {\n",
       "        vertical-align: top;\n",
       "    }\n",
       "\n",
       "    .dataframe thead th {\n",
       "        text-align: right;\n",
       "    }\n",
       "</style>\n",
       "<table border=\"1\" class=\"dataframe\">\n",
       "  <thead>\n",
       "    <tr style=\"text-align: right;\">\n",
       "      <th></th>\n",
       "      <th>Train Score</th>\n",
       "      <th>Validation Score</th>\n",
       "      <th>model</th>\n",
       "    </tr>\n",
       "  </thead>\n",
       "  <tbody>\n",
       "    <tr>\n",
       "      <th>Logistic Regression</th>\n",
       "      <td>0.512195</td>\n",
       "      <td>0.528947</td>\n",
       "      <td>LogisticRegressionCV(Cs=10, class_weight=None,...</td>\n",
       "    </tr>\n",
       "    <tr>\n",
       "      <th>LDA</th>\n",
       "      <td>0.522742</td>\n",
       "      <td>0.563158</td>\n",
       "      <td>LinearDiscriminantAnalysis(n_components=None, ...</td>\n",
       "    </tr>\n",
       "    <tr>\n",
       "      <th>QDA</th>\n",
       "      <td>0.483191</td>\n",
       "      <td>0.365789</td>\n",
       "      <td>QuadraticDiscriminantAnalysis(priors=None, reg...</td>\n",
       "    </tr>\n",
       "    <tr>\n",
       "      <th>Random Forest</th>\n",
       "      <td>0.529334</td>\n",
       "      <td>0.547368</td>\n",
       "      <td>RandomizedSearchCV(cv=5, error_score='raise',\\...</td>\n",
       "    </tr>\n",
       "  </tbody>\n",
       "</table>\n",
       "</div>"
      ],
      "text/plain": [
       "                    Train Score Validation Score  \\\n",
       "Logistic Regression    0.512195         0.528947   \n",
       "LDA                    0.522742         0.563158   \n",
       "QDA                    0.483191         0.365789   \n",
       "Random Forest          0.529334         0.547368   \n",
       "\n",
       "                                                                 model  \n",
       "Logistic Regression  LogisticRegressionCV(Cs=10, class_weight=None,...  \n",
       "LDA                  LinearDiscriminantAnalysis(n_components=None, ...  \n",
       "QDA                  QuadraticDiscriminantAnalysis(priors=None, reg...  \n",
       "Random Forest        RandomizedSearchCV(cv=5, error_score='raise',\\...  "
      ]
     },
     "execution_count": 16,
     "metadata": {},
     "output_type": "execute_result"
    }
   ],
   "source": [
    "df_result = pd.DataFrame(score).T\n",
    "df_result"
   ]
  },
  {
   "cell_type": "code",
   "execution_count": 17,
   "metadata": {},
   "outputs": [
    {
     "name": "stdout",
     "output_type": "stream",
     "text": [
      "We choose the final model to be the one with the highest validation score, which is LDA in this case\n"
     ]
    }
   ],
   "source": [
    "model_name = df_result['Validation Score'].astype(float).argmax()\n",
    "print(\"We choose the final model to be the one with the highest validation score,\\\n",
    " which is {} in this case\".format(model_name))"
   ]
  },
  {
   "cell_type": "code",
   "execution_count": 18,
   "metadata": {},
   "outputs": [
    {
     "name": "stdout",
     "output_type": "stream",
     "text": [
      "For the best Model, LDA, the test accuracy is 0.656\n"
     ]
    }
   ],
   "source": [
    "test_pred = predict_test_data(X_test, df_result.loc[model_name].model)\n",
    "test_score = accuracy_score(y_test, test_pred)\n",
    "print(\"For the best Model, {}, the test accuracy is {:.3f}\".format(model_name, test_score))"
   ]
  },
  {
   "cell_type": "markdown",
   "metadata": {},
   "source": [
    "It seems that our model with all the features is an improvement to the baseline model for the test set. However, the lower validation scores in general is a bit concerning. "
   ]
  },
  {
   "cell_type": "markdown",
   "metadata": {},
   "source": [
    "## Stacking"
   ]
  },
  {
   "cell_type": "markdown",
   "metadata": {},
   "source": [
    "We saw that our models in general performed similarly in terms of train/validation. Why not try stacking the models together? We will stack the logistic regression, LDA, QDA, Random Forest, and XGBoost models."
   ]
  },
  {
   "cell_type": "code",
   "execution_count": null,
   "metadata": {},
   "outputs": [],
   "source": [
    "def fit_stack_model(models, X_train, y_train): \n",
    "    predictions = []\n",
    "    for model in models:\n",
    "        predictions.append(model.predict(X_train))\n",
    "        \n",
    "    predictions = np.array(predictions).T\n",
    "    logit = LogisticRegression(C=1000).fit(predictions, y_train)\n",
    "    return logit\n",
    "    \n",
    "def stack_model_predict(models, stack_model, X, test = False):\n",
    "    predictions = []\n",
    "    for model in models:\n",
    "        predictions.append(model.predict(X))        \n",
    "    predictions = np.array(predictions).T\n",
    "    if not test:\n",
    "        return stack_model.predict(predictions)\n",
    "    else:\n",
    "        return stack_model.predict_proba(predictions)"
   ]
  },
  {
   "cell_type": "code",
   "execution_count": null,
   "metadata": {},
   "outputs": [],
   "source": [
    "models = df_result['model']\n",
    "stack_model = fit_stack_model(models, X_train, y_train)\n",
    "print(\"Stacking Model Train Score: {}\".format(accuracy_score(y_train, stack_model_predict(models, stack_model,\n",
    "                                                                                         X_train))))\n",
    "print(\"Stacking Model Validation Score: {}\".format(accuracy_score(y_valid, stack_model_predict(models, stack_model,\n",
    "                                                                                         X_valid))))"
   ]
  },
  {
   "cell_type": "code",
   "execution_count": null,
   "metadata": {},
   "outputs": [],
   "source": [
    "stack_model_test_pred_prob = stack_model_predict(models, stack_model, X_test, True)\n",
    "stack_model_test_pred = [np.where(np.argsort(val) == 1)[0][0]-1 if (i >= 48) & (np.argmax(val) == 1)\n",
    "                       else np.argmax(val)-1 for i, val in enumerate(stack_model_test_pred_prob)]\n",
    "stack_model_test_acc = accuracy_score(y_test, stack_model_test_pred)\n",
    "print(\"Stacking Model Test Score: {}\".format(stack_model_test_acc))"
   ]
  },
  {
   "cell_type": "markdown",
   "metadata": {},
   "source": [
    "It seems that stacking in this case did not really help that much.\n",
    "\n",
    "We are a bit concerned about the fact that our features are collinear, which potentially affects our predictions. "
   ]
  },
  {
   "cell_type": "markdown",
   "metadata": {},
   "source": [
    "## Principal Component Regression"
   ]
  },
  {
   "cell_type": "markdown",
   "metadata": {},
   "source": [
    "Principal Component Analysis (PCA) is a way to reduce the dimensionality of dataset by summarizing the variation in our data into a set of new predictors called principal components. These principal components are linear combinations of our original predictors. By selecting the top few principal components, we are projecting our dataset into the space defined by these components. This means that we are projecting our dataset onto a space of smaller dimensionality. Importantly, this will help us reduce the multicollinearity that might be affecting our predictions. Each principal component is constructed such that they are orthogonal with each other. Nonetheless, we understand that this will limit the interpretability of our coefficients.\n",
    "\n",
    "Principal Component Regression (PCR) is basically using the new predictors of reduced dimensionality in a regression problem. In this problem, we inputed the new principal components into our standard logistic regression. In order to decide the number of principal components to keep, we cross-validated the number of principal components that gives us the best validation accuracy. "
   ]
  },
  {
   "cell_type": "code",
   "execution_count": 19,
   "metadata": {},
   "outputs": [],
   "source": [
    "# scale data\n",
    "scaler = StandardScaler()\n",
    "scaler.fit(X_train)\n",
    "X_train_scaled = scaler.transform(X_train)\n",
    "X_valid_scaled = scaler.transform(X_valid)\n",
    "X_test_scaled = scaler.transform(X_test)\n",
    "\n",
    "# PCA on data\n",
    "pca = PCA().fit(X_train_scaled)\n",
    "X_train_pca = pca.transform(X_train_scaled)\n",
    "X_valid_pca = pca.transform(X_valid_scaled)"
   ]
  },
  {
   "cell_type": "code",
   "execution_count": 20,
   "metadata": {},
   "outputs": [],
   "source": [
    "pcr_train_score = []\n",
    "pcr_valid_score = []\n",
    "pcr_test_score = []\n",
    "\n",
    "for i in np.arange(1, X_train.shape[1]):\n",
    "    pca_cv = PCA(n_components=i).fit(X_train_scaled)\n",
    "    X_train_pca_cv = pca_cv.transform(X_train_scaled)\n",
    "    X_valid_pca_cv = pca_cv.transform(X_valid_scaled)\n",
    "    X_test_pca_cv = pca_cv.transform(X_test_scaled)\n",
    "    \n",
    "    pcr_cv_mod = LogisticRegressionCV(solver = 'lbfgs', \n",
    "                                      max_iter = 5000, \n",
    "                                      cv = 5, \n",
    "                                      multi_class='multinomial').fit(X_train_pca_cv, y_train)\n",
    "    \n",
    "    pcr_train_score.append(pcr_cv_mod.score(X_train_pca_cv, y_train))\n",
    "    pcr_valid_score.append(pcr_cv_mod.score(X_valid_pca_cv, y_valid))"
   ]
  },
  {
   "cell_type": "code",
   "execution_count": 21,
   "metadata": {},
   "outputs": [
    {
     "data": {
      "image/png": "[encoded data removed]",
      "text/plain": [
       "<Figure size 432x288 with 1 Axes>"
      ]
     },
     "metadata": {
      "needs_background": "light"
     },
     "output_type": "display_data"
    }
   ],
   "source": [
    "plt.plot(np.arange(1,len(pcr_train_score)+1), pcr_train_score, label='Training Accuracy')\n",
    "plt.plot(np.arange(1,len(pcr_valid_score)+1), pcr_valid_score, label='Validation Accuracy')\n",
    "\n",
    "\n",
    "plt.title('Accuracy for Different PCA Components')\n",
    "plt.xlabel('PCA Components')\n",
    "plt.ylabel('Accuracy')\n",
    "plt.legend();"
   ]
  },
  {
   "cell_type": "code",
   "execution_count": 22,
   "metadata": {},
   "outputs": [
    {
     "name": "stdout",
     "output_type": "stream",
     "text": [
      "Best Validation Accuracy Number of Components: 1\n"
     ]
    }
   ],
   "source": [
    "pca_best_com = np.argmax(pcr_valid_score)+1\n",
    "print('Best Validation Accuracy Number of Components: {}'.format(pca_best_com))"
   ]
  },
  {
   "cell_type": "code",
   "execution_count": 23,
   "metadata": {},
   "outputs": [],
   "source": [
    "# best mod with highest validation accuracy\n",
    "pca_best = PCA(n_components=pca_best_com).fit(X_train_scaled)\n",
    "X_train_pca_best = pca_best.transform(X_train_scaled)\n",
    "X_valid_pca_best = pca_best.transform(X_valid_scaled)\n",
    "\n",
    "# fit models\n",
    "pcr_best_mod = LogisticRegressionCV(solver = 'lbfgs', \n",
    "                                    max_iter = 5000, \n",
    "                                    cv = 5, \n",
    "                                    multi_class='multinomial').fit(X_train_pca_best, y_train)"
   ]
  },
  {
   "cell_type": "code",
   "execution_count": 24,
   "metadata": {},
   "outputs": [
    {
     "name": "stdout",
     "output_type": "stream",
     "text": [
      "PCR (Best) Train Score: 0.48450889914304546\n",
      "PCR (Best) Validation Score: 0.5526315789473685\n"
     ]
    }
   ],
   "source": [
    "# Best Validation Accuracy\n",
    "score[\"pcr_best\"] = {}\n",
    "score[\"pcr_best\"][\"model\"] = pcr_best_mod\n",
    "score[\"pcr_best\"][\"Train Score\"] = pcr_best_mod.score(X_train_pca_best, y_train)\n",
    "score[\"pcr_best\"][\"Validation Score\"] = pcr_best_mod.score(X_valid_pca_best, y_valid)\n",
    "print(\"PCR (Best) Train Score: {}\".format(score[\"pcr_best\"][\"Train Score\"]))\n",
    "print(\"PCR (Best) Validation Score: {}\".format(score[\"pcr_best\"][\"Validation Score\"]))\n"
   ]
  },
  {
   "cell_type": "code",
   "execution_count": 25,
   "metadata": {},
   "outputs": [
    {
     "name": "stdout",
     "output_type": "stream",
     "text": [
      "PCR (Best) Test Score: 0.578125\n"
     ]
    }
   ],
   "source": [
    "# test set\n",
    "X_test_pca_best = pca_best.transform(X_test_scaled)\n",
    "pcr_best_test_pred = predict_test_data(X_test_pca_best, pcr_best_mod)\n",
    "pcr_best_test_acc = accuracy_score(y_test, pcr_best_test_pred)\n",
    "print(\"PCR (Best) Test Score: {}\".format(pcr_best_test_acc))"
   ]
  },
  {
   "cell_type": "markdown",
   "metadata": {},
   "source": [
    "## Partial Least Squares Regression"
   ]
  },
  {
   "cell_type": "markdown",
   "metadata": {},
   "source": [
    "Another way that can help us deal with the issues of multicollinearity in our dataset is Partial Least Squares Regression (PLSR). Similar to PCA, PLSR involves projecting the predictors onto orthogonal components. However, the PLSR components are constructed such that they not only approximate the predictors, but are also well correlated with the response. As such, we assume that both the predictors and the response are functions of (reduced) principal components. In this problem, our response variable is a multi-class categorical variable. As such, we could use the PLS2 algorithm which simultaneously decomposes on the multi-class variable directly. We could also use the PLS1 algorithm on each category in our response variable separately. \n",
    "\n",
    "To demonstrate how the Partial Least Squares algorithms works, we have included a pseudo-code for PLS1:\n",
    "\n",
    "Set $X_0 = X$, and $y_0 = y$\n",
    "\n",
    "for $h = 1, 2, ... r$ do (where r is the dimension of the predictors)\n",
    "\n",
    "$\\hspace{1cm} \\mathbf{w_h} = \\mathbf{X^T_{h-1}y_{h-1}/y^T_{h-1}y_{h-1}}$ (regress predictors $x_j$ on response $y$)\n",
    "\n",
    "$\\hspace{1cm} ||\\mathbf{w_h}|| = 1$ (normalize)\n",
    "\n",
    "$\\hspace{1cm} \\mathbf{z_h} = \\mathbf{X_{h-1}w_h/w^T_hw_h}$ (regress predictors $x_j$ on weights $w_h$)\n",
    "\n",
    "$\\hspace{1cm} \\mathbf{p_h} = \\mathbf{X^T_{h-1}z_h/z^T_hz_h}$ (regress predictors $x_j$ on components $z_h$)\n",
    "\n",
    "$\\hspace{1cm} \\mathbf{X_h} = \\mathbf{X_{h-1} - z_hp^T_h}$ (deflate $X_{h-1}$)\n",
    "\n",
    "$\\hspace{1cm} d_h = \\mathbf{y^T_hz_h/z^T_hz_h}$ (regress response $y_h$ onto components $z_h$)\n",
    "\n",
    "$\\hspace{1cm} \\mathbf{y_h} = \\mathbf{y_{h-1} - d_hz_h}$ (deflate $y_{h-1}$)\n",
    "\n",
    "end for\n",
    "\n",
    "The PLS2 algorithm is just an extension for a multi-dimensional response variable.\n",
    "\n",
    "Importantly, PLS selects components which gives us the greatest reduction in the covariance of our predictors and response. If we represent our components as $\\mathbf{z}$, and the response as $\\mathbf{y}$, it can be shown that PLSR optimizes with respect to the weights $\\mathbf{w}$\n",
    "\n",
    "$$ \\arg\\max_{\\mathbf{w}} cor^2(\\mathbf{y, z})var(\\mathbf{y})var(\\mathbf{z})$$\n",
    "\n",
    "It can thus be seen that PLSR tries to maximize the correlation between the components and the response whilst trying to maximize the variance captured by the components. \n",
    "\n",
    "This not only allows us to resolve the multicollinearity issues through the creation of orthogonal components just as in PCR, but also allows us to create components that are correlated with the response. It is likely that this might perform even better than PCR."
   ]
  },
  {
   "cell_type": "code",
   "execution_count": 29,
   "metadata": {},
   "outputs": [],
   "source": [
    "lb = LabelBinarizer()\n",
    "y_train_lb = lb.fit_transform(y_train)\n",
    "y_valid_lb = lb.fit_transform(y_valid)"
   ]
  },
  {
   "cell_type": "code",
   "execution_count": 31,
   "metadata": {},
   "outputs": [],
   "source": [
    "plsda1_train_score = []\n",
    "plsda1_valid_score = []\n",
    "\n",
    "# PLS1\n",
    "for i in np.arange(1, X_train.shape[1]):\n",
    "    # initialize empty array\n",
    "    train_pred = np.empty(y_train_lb.shape)\n",
    "    valid_pred = np.empty(y_valid_lb.shape)\n",
    "    \n",
    "    plsda1_mod = PLSRegression(n_components=i, scale=False) \n",
    "    plsda1_mod.fit(X_train_scaled, y_train_lb[:,0])\n",
    "    train_pred[:,0] = plsda1_mod.predict(X_train_scaled).ravel()\n",
    "    valid_pred[:,0] = plsda1_mod.predict(X_valid_scaled).ravel()\n",
    "    plsda1_mod.fit(X_train_scaled, y_train_lb[:,1])\n",
    "    train_pred[:,1] = plsda1_mod.predict(X_train_scaled).ravel()\n",
    "    valid_pred[:,1] = plsda1_mod.predict(X_valid_scaled).ravel()\n",
    "    plsda1_mod.fit(X_train_scaled, y_train_lb[:,2])\n",
    "    train_pred[:,2] = plsda1_mod.predict(X_train_scaled).ravel()\n",
    "    valid_pred[:,2] = plsda1_mod.predict(X_valid_scaled).ravel()\n",
    "\n",
    "    plsda1_train_score.append(accuracy_score(y_train, np.argmax(train_pred, axis=1) - 1))\n",
    "    plsda1_valid_score.append(accuracy_score(y_valid, np.argmax(valid_pred, axis=1) - 1))"
   ]
  },
  {
   "cell_type": "code",
   "execution_count": 32,
   "metadata": {},
   "outputs": [
    {
     "data": {
      "image/png": "[encoded data removed]",
      "text/plain": [
       "<Figure size 432x288 with 1 Axes>"
      ]
     },
     "metadata": {
      "needs_background": "light"
     },
     "output_type": "display_data"
    }
   ],
   "source": [
    "plt.plot(np.arange(1,len(plsda1_train_score)+1), plsda1_train_score, label='Training Accuracy')\n",
    "plt.plot(np.arange(1,len(plsda1_valid_score)+1), plsda1_valid_score, label='Validation Accuracy')\n",
    "\n",
    "plt.title('Accuracy for Different PLS1-DA Components')\n",
    "plt.xlabel('PLS1-DA Components')\n",
    "plt.ylabel('Accuracy')\n",
    "plt.legend();"
   ]
  },
  {
   "cell_type": "code",
   "execution_count": 33,
   "metadata": {},
   "outputs": [
    {
     "name": "stdout",
     "output_type": "stream",
     "text": [
      "Best Validation Accuracy Number of Components: 1\n"
     ]
    }
   ],
   "source": [
    "plsda1_best_com = np.argmax(plsda1_valid_score)+1\n",
    "print('Best Validation Accuracy Number of Components: {}'.format(plsda1_best_com))"
   ]
  },
  {
   "cell_type": "code",
   "execution_count": 34,
   "metadata": {},
   "outputs": [],
   "source": [
    "# check test accuracy\n",
    "# initialize arrays\n",
    "best_train_pred = np.empty(y_train_lb.shape)\n",
    "best_valid_pred = np.empty(y_valid_lb.shape)\n",
    "best_test_pred = np.empty((y_test.shape[0],3))\n",
    "\n",
    "# fit model\n",
    "plsda1_best_mod = PLSRegression(n_components=plsda1_best_com, scale=False) \n",
    "\n",
    "# predict\n",
    "plsda1_best_mod.fit(X_train_scaled, y_train_lb[:,0])\n",
    "best_train_pred[:,0] = plsda1_best_mod.predict(X_train_scaled).ravel()\n",
    "best_valid_pred[:,0] = plsda1_best_mod.predict(X_valid_scaled).ravel()\n",
    "best_test_pred[:,0] = plsda1_best_mod.predict(X_test_scaled).ravel()\n",
    "\n",
    "# predict\n",
    "plsda1_best_mod.fit(X_train_scaled, y_train_lb[:,1])\n",
    "best_train_pred[:,1] = plsda1_best_mod.predict(X_train_scaled).ravel()\n",
    "best_valid_pred[:,1] = plsda1_best_mod.predict(X_valid_scaled).ravel()\n",
    "best_test_pred[:,1] = plsda1_best_mod.predict(X_test_scaled).ravel()\n",
    "\n",
    "# predict\n",
    "plsda1_best_mod.fit(X_train_scaled, y_train_lb[:,2])\n",
    "best_train_pred[:,2] = plsda1_best_mod.predict(X_train_scaled).ravel()\n",
    "best_valid_pred[:,2] = plsda1_best_mod.predict(X_valid_scaled).ravel()\n",
    "best_test_pred[:,2] = plsda1_best_mod.predict(X_test_scaled).ravel()\n",
    "\n",
    "\n"
   ]
  },
  {
   "cell_type": "code",
   "execution_count": 35,
   "metadata": {},
   "outputs": [
    {
     "name": "stdout",
     "output_type": "stream",
     "text": [
      "PLS1-DA (Best) Train Score: 0.4957152274225445\n",
      "PLS1-DA (Best) Validation Score: 0.5605263157894737\n"
     ]
    }
   ],
   "source": [
    "# Best Validation Accuracy\n",
    "score[\"plsda1_best\"] = {}\n",
    "score[\"plsda1_best\"][\"model\"] = plsda1_best_mod\n",
    "score[\"plsda1_best\"][\"Train Score\"] = accuracy_score(y_train, np.argmax(best_train_pred, axis=1) - 1)\n",
    "score[\"plsda1_best\"][\"Validation Score\"] = accuracy_score(y_valid, np.argmax(best_valid_pred, axis=1) - 1)\n",
    "print(\"PLS1-DA (Best) Train Score: {}\".format(score[\"plsda1_best\"][\"Train Score\"]))\n",
    "print(\"PLS1-DA (Best) Validation Score: {}\".format(score[\"plsda1_best\"][\"Validation Score\"]))"
   ]
  },
  {
   "cell_type": "code",
   "execution_count": 36,
   "metadata": {},
   "outputs": [
    {
     "name": "stdout",
     "output_type": "stream",
     "text": [
      "PLS1-DA (Best) Test Score: 0.640625\n"
     ]
    }
   ],
   "source": [
    "plsda1_best_test_pred = [np.where(np.argsort(val) == 1)[0][0]-1 if (i >= 48) & (np.argmax(val) == 1) \n",
    "                       else np.argmax(val)-1 for i, val in enumerate(best_test_pred)]\n",
    "\n",
    "print(\"PLS1-DA (Best) Test Score: {}\".format(accuracy_score(y_test, plsda1_best_test_pred)))"
   ]
  },
  {
   "cell_type": "code",
   "execution_count": 37,
   "metadata": {},
   "outputs": [],
   "source": [
    "plsda2_train_score = []\n",
    "plsda2_valid_score = []\n",
    "# PLS2\n",
    "for i in np.arange(1, X_train.shape[1]):\n",
    "    plsda2_mod = PLSRegression(n_components=i, scale=False) \n",
    "    plsda2_mod.fit(X_train_scaled, y_train_lb)\n",
    "\n",
    "    plsda2_train_score.append(accuracy_score(y_train, np.argmax(plsda2_mod.predict(X_train_scaled), axis=1) - 1))\n",
    "    plsda2_valid_score.append(accuracy_score(y_valid, np.argmax(plsda2_mod.predict(X_valid_scaled), axis=1) - 1))"
   ]
  },
  {
   "cell_type": "code",
   "execution_count": 38,
   "metadata": {},
   "outputs": [
    {
     "data": {
      "image/png": "[encoded data removed]",
      "text/plain": [
       "<Figure size 432x288 with 1 Axes>"
      ]
     },
     "metadata": {
      "needs_background": "light"
     },
     "output_type": "display_data"
    }
   ],
   "source": [
    "plt.plot(np.arange(1,len(plsda2_train_score)+1), plsda2_train_score, label='Training Accuracy')\n",
    "plt.plot(np.arange(1,len(plsda2_valid_score)+1), plsda2_valid_score, label='Validation Accuracy')\n",
    "\n",
    "plt.title('Accuracy for Different PLS2-DA Components')\n",
    "plt.xlabel('PLS2-DA Components')\n",
    "plt.ylabel('Accuracy')\n",
    "plt.legend();"
   ]
  },
  {
   "cell_type": "code",
   "execution_count": 39,
   "metadata": {},
   "outputs": [
    {
     "name": "stdout",
     "output_type": "stream",
     "text": [
      "Best Validation Accuracy Number of Components: 17\n"
     ]
    }
   ],
   "source": [
    "plsda2_best_com = np.argmax(plsda2_valid_score)+1\n",
    "print('Best Validation Accuracy Number of Components: {}'.format(plsda2_best_com))"
   ]
  },
  {
   "cell_type": "code",
   "execution_count": 40,
   "metadata": {},
   "outputs": [
    {
     "data": {
      "text/plain": [
       "PLSRegression(copy=True, max_iter=500, n_components=17, scale=False,\n",
       "       tol=1e-06)"
      ]
     },
     "execution_count": 40,
     "metadata": {},
     "output_type": "execute_result"
    }
   ],
   "source": [
    "# check test accuracy\n",
    "plsda2_best_mod = PLSRegression(n_components=plsda2_best_com, scale=False) \n",
    "plsda2_best_mod.fit(X_train_scaled, y_train_lb)\n"
   ]
  },
  {
   "cell_type": "code",
   "execution_count": 41,
   "metadata": {},
   "outputs": [
    {
     "name": "stdout",
     "output_type": "stream",
     "text": [
      "PLS2-DA (Best) Train Score: 0.5273566249176005\n",
      "PLS2-DA (Best) Validation Score: 0.5605263157894737\n"
     ]
    }
   ],
   "source": [
    "# Best Validation Accuracy\n",
    "score[\"plsda2_best\"] = {}\n",
    "score[\"plsda2_best\"][\"model\"] = plsda2_best_mod\n",
    "score[\"plsda2_best\"][\"Train Score\"] = accuracy_score(y_train, np.argmax(plsda2_best_mod.predict(X_train_scaled), axis=1) - 1)\n",
    "score[\"plsda2_best\"][\"Validation Score\"] = accuracy_score(y_valid, np.argmax(plsda2_best_mod.predict(X_valid_scaled), axis=1) - 1)\n",
    "print(\"PLS2-DA (Best) Train Score: {}\".format(score[\"plsda2_best\"][\"Train Score\"]))\n",
    "print(\"PLS2-DA (Best) Validation Score: {}\".format(score[\"plsda2_best\"][\"Validation Score\"]))"
   ]
  },
  {
   "cell_type": "code",
   "execution_count": 43,
   "metadata": {},
   "outputs": [
    {
     "name": "stdout",
     "output_type": "stream",
     "text": [
      "PLS2-DA (Best) Test Score: 0.65625\n"
     ]
    }
   ],
   "source": [
    "plsda2_best_test_pred = [np.where(np.argsort(val) == 1)[0][0]-1 if (i >= 48) & (np.argmax(val) == 1) \n",
    "                       else np.argmax(val)-1 for i, val in enumerate(plsda2_best_mod.predict(X_test_scaled))]\n",
    "\n",
    "print(\"PLS2-DA (Best) Test Score: {}\".format(accuracy_score(y_test, plsda2_best_test_pred)))"
   ]
  },
  {
   "cell_type": "markdown",
   "metadata": {},
   "source": [
    "## Analysis"
   ]
  },
  {
   "cell_type": "code",
   "execution_count": null,
   "metadata": {},
   "outputs": [],
   "source": [
    "#https://scikit-learn.org/stable/auto_examples/model_selection/plot_confusion_matrix.html#sphx-glr-auto-examples-model-selection-plot-confusion-matrix-py\n",
    "def plot_confusion_matrix(cm, classes, ax,\n",
    "                          normalize=False,\n",
    "                          title='Confusion matrix',\n",
    "                          cmap=plt.cm.Blues):\n",
    "    \"\"\"\n",
    "    This function prints and plots the confusion matrix.\n",
    "    Normalization can be applied by setting `normalize=True`.\n",
    "    \"\"\"\n",
    "    if normalize:\n",
    "        cm = cm.astype('float') / cm.sum(axis=1)[:, np.newaxis]\n",
    "    ax.imshow(cm, interpolation='nearest', cmap=cmap)\n",
    "    ax.set_title(title)\n",
    "    tick_marks = np.arange(len(classes))\n",
    "    ax.set_xticks(tick_marks)\n",
    "    ax.set_xticklabels(classes, rotation=45)\n",
    "    ax.set_yticks(tick_marks)\n",
    "    ax.set_yticklabels(classes)\n",
    "\n",
    "    fmt = '.2f' if normalize else 'd'\n",
    "    thresh = cm.max() / 2.\n",
    "    for i, j in itertools.product(range(cm.shape[0]), range(cm.shape[1])):\n",
    "        ax.text(j, i, format(cm[i, j], fmt),\n",
    "                 horizontalalignment=\"center\",\n",
    "                 color=\"white\" if cm[i, j] > thresh else \"black\")\n",
    "\n",
    "    ax.set_ylabel('True label')\n",
    "    ax.set_xlabel('Predicted label')\n"
   ]
  },
  {
   "cell_type": "code",
   "execution_count": 37,
   "metadata": {},
   "outputs": [],
   "source": [
    "np.set_printoptions(precision=2)\n",
    "train_cm = confusion_matrix(y_train, np.argmax(plsda_mod.predict(X_train_scaled), axis=1) - 1)\n",
    "test_cm =  confusion_matrix(y_test, plsda_best_test_pred)"
   ]
  },
  {
   "cell_type": "code",
   "execution_count": 38,
   "metadata": {},
   "outputs": [
    {
     "data": {
      "image/png": "[encoded data removed]",
      "text/plain": [
       "<Figure size 1008x432 with 2 Axes>"
      ]
     },
     "metadata": {
      "needs_background": "light"
     },
     "output_type": "display_data"
    }
   ],
   "source": [
    "fig, axs = plt.subplots(1, 2, figsize = (14, 6))\n",
    "plot_confusion_matrix(train_cm, ['Home Loss', 'Draw', 'Home Win'], axs[0], True, 'Train')\n",
    "plot_confusion_matrix(test_cm, ['Home Loss', 'Draw', 'Home Win'], axs[1], True, 'Test')\n",
    "plt.tight_layout()"
   ]
  },
  {
   "cell_type": "markdown",
   "metadata": {},
   "source": [
    "The model is actually predicting some draws now, although still very little. Also, compared to the baseline model, it seems that the model is better in predicting when \"home\" team loses in the test set. This might be due to some bias of how we feature engineer. Since none of us really were experts in soccer, we chose features that we observed from the World Cup alone, so these features might be biased toward the test set. "
   ]
  },
  {
   "cell_type": "code",
   "execution_count": null,
   "metadata": {},
   "outputs": [],
   "source": []
  }
 ],
 "metadata": {
  "kernelspec": {
   "display_name": "Python 3",
   "language": "python",
   "name": "python3"
  }
 },
 "nbformat": 4,
 "nbformat_minor": 2
}
