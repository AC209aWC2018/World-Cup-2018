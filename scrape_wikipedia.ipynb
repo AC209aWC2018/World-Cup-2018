{
 "cells": [
  {
   "cell_type": "code",
   "execution_count": 181,
   "metadata": {},
   "outputs": [],
   "source": [
    "import numpy as np\n",
    "import pandas as pd\n",
    "import requests\n",
    "import time\n",
    "from bs4 import BeautifulSoup\n",
    "%matplotlib inline "
   ]
  },
  {
   "cell_type": "code",
   "execution_count": 205,
   "metadata": {
    "collapsed": true
   },
   "outputs": [],
   "source": [
    "def scrape_wikpedia_wc_players(year):\n",
    "    url = \"https://en.wikipedia.org/wiki/{}_FIFA_World_Cup_squads\".format(year)\n",
    "    time.sleep(5)\n",
    "    my_page = requests.get(url)\n",
    "    if my_page.status_code == 200:\n",
    "        soup = BeautifulSoup(my_page.content, \"lxml\")\n",
    "        tables = soup.find_all('table',{'class':'sortable wikitable plainrowheaders'})\n",
    "        countries = soup.find_all('li', {'class': 'toclevel-2'})[:32]\n",
    "        players_df = pd.DataFrame(columns = ['Player', 'Country', 'Pos', 'Birthday', 'Age', 'Caps', 'Club', 'Club Country'])\n",
    "        for i, table in enumerate(tables):\n",
    "            #first result would be column names\n",
    "            country = countries[i].find('span', {'class': 'toctext'}).text\n",
    "            players = table.find_all('tr')[1:]\n",
    "            for player in players:\n",
    "                name = player.find('th').find('a').text\n",
    "                td_tags = player.find_all('td')\n",
    "                position = td_tags[1].find('a').text\n",
    "                birthday = td_tags[2].text[2:12]\n",
    "                age = td_tags[2].text[-4:-2]\n",
    "                caps = td_tags[3].text.replace('\\n', \"\")\n",
    "                #Only 2018 has goals, so do not keep it.\n",
    "#                 goals = td_tags[4].text.replace('\\n', \"\")\n",
    "                #Last element is club\n",
    "                club = td_tags[-1].find_all('a')[1].text\n",
    "                club_country = td_tags[-1].find('a')['title']\n",
    "                row = pd.DataFrame([[name, country, position, birthday, age, caps, club, club_country]],\\\n",
    "                                   columns = ['Player', 'Country', 'Pos', 'Birthday', 'Age', 'Caps', 'Club', 'Club Country'])\n",
    "                players_df = players_df.append(row)\n",
    "        players_df = players_df.reset_index(drop = True)\n",
    "        return players_df"
   ]
  },
  {
   "cell_type": "code",
   "execution_count": 206,
   "metadata": {
    "collapsed": true
   },
   "outputs": [],
   "source": [
    "wc_players_2018 = scrape_wikpedia_wc_players(2018)"
   ]
  },
  {
   "cell_type": "code",
   "execution_count": 207,
   "metadata": {},
   "outputs": [
    {
     "data": {
      "text/html": [
       "<div>\n",
       "<style>\n",
       "    .dataframe thead tr:only-child th {\n",
       "        text-align: right;\n",
       "    }\n",
       "\n",
       "    .dataframe thead th {\n",
       "        text-align: left;\n",
       "    }\n",
       "\n",
       "    .dataframe tbody tr th {\n",
       "        vertical-align: top;\n",
       "    }\n",
       "</style>\n",
       "<table border=\"1\" class=\"dataframe\">\n",
       "  <thead>\n",
       "    <tr style=\"text-align: right;\">\n",
       "      <th></th>\n",
       "      <th>Player</th>\n",
       "      <th>Country</th>\n",
       "      <th>Pos</th>\n",
       "      <th>Birthday</th>\n",
       "      <th>Age</th>\n",
       "      <th>Caps</th>\n",
       "      <th>Club</th>\n",
       "      <th>Club Country</th>\n",
       "    </tr>\n",
       "  </thead>\n",
       "  <tbody>\n",
       "    <tr>\n",
       "      <th>0</th>\n",
       "      <td>Essam El-Hadary</td>\n",
       "      <td>Egypt</td>\n",
       "      <td>GK</td>\n",
       "      <td>1973-01-15</td>\n",
       "      <td>45</td>\n",
       "      <td>158</td>\n",
       "      <td>Al-Taawoun</td>\n",
       "      <td>Saudi Arabia</td>\n",
       "    </tr>\n",
       "    <tr>\n",
       "      <th>1</th>\n",
       "      <td>Ali Gabr</td>\n",
       "      <td>Egypt</td>\n",
       "      <td>DF</td>\n",
       "      <td>1989-01-01</td>\n",
       "      <td>29</td>\n",
       "      <td>21</td>\n",
       "      <td>West Bromwich Albion</td>\n",
       "      <td>England</td>\n",
       "    </tr>\n",
       "    <tr>\n",
       "      <th>2</th>\n",
       "      <td>Ahmed Elmohamady</td>\n",
       "      <td>Egypt</td>\n",
       "      <td>DF</td>\n",
       "      <td>1987-09-09</td>\n",
       "      <td>30</td>\n",
       "      <td>78</td>\n",
       "      <td>Aston Villa</td>\n",
       "      <td>England</td>\n",
       "    </tr>\n",
       "    <tr>\n",
       "      <th>3</th>\n",
       "      <td>Omar Gaber</td>\n",
       "      <td>Egypt</td>\n",
       "      <td>MF</td>\n",
       "      <td>1992-01-30</td>\n",
       "      <td>26</td>\n",
       "      <td>24</td>\n",
       "      <td>Los Angeles FC</td>\n",
       "      <td>United States</td>\n",
       "    </tr>\n",
       "    <tr>\n",
       "      <th>4</th>\n",
       "      <td>Sam Morsy</td>\n",
       "      <td>Egypt</td>\n",
       "      <td>MF</td>\n",
       "      <td>1991-09-10</td>\n",
       "      <td>26</td>\n",
       "      <td>5</td>\n",
       "      <td>Wigan Athletic</td>\n",
       "      <td>England</td>\n",
       "    </tr>\n",
       "  </tbody>\n",
       "</table>\n",
       "</div>"
      ],
      "text/plain": [
       "             Player Country Pos    Birthday Age Caps                  Club  \\\n",
       "0   Essam El-Hadary   Egypt  GK  1973-01-15  45  158            Al-Taawoun   \n",
       "1          Ali Gabr   Egypt  DF  1989-01-01  29   21  West Bromwich Albion   \n",
       "2  Ahmed Elmohamady   Egypt  DF  1987-09-09  30   78           Aston Villa   \n",
       "3        Omar Gaber   Egypt  MF  1992-01-30  26   24        Los Angeles FC   \n",
       "4         Sam Morsy   Egypt  MF  1991-09-10  26    5        Wigan Athletic   \n",
       "\n",
       "    Club Country  \n",
       "0   Saudi Arabia  \n",
       "1        England  \n",
       "2        England  \n",
       "3  United States  \n",
       "4        England  "
      ]
     },
     "execution_count": 207,
     "metadata": {},
     "output_type": "execute_result"
    }
   ],
   "source": [
    "wc_players_2018.head()"
   ]
  },
  {
   "cell_type": "code",
   "execution_count": 208,
   "metadata": {
    "collapsed": true
   },
   "outputs": [],
   "source": [
    "wc_players_2018.to_csv(\"data/wc_players_2018.csv\")"
   ]
  },
  {
   "cell_type": "code",
   "execution_count": 209,
   "metadata": {
    "collapsed": true
   },
   "outputs": [],
   "source": [
    "wc_players_2014 = scrape_wikpedia_wc_players(2014)"
   ]
  },
  {
   "cell_type": "code",
   "execution_count": 210,
   "metadata": {},
   "outputs": [
    {
     "data": {
      "text/html": [
       "<div>\n",
       "<style>\n",
       "    .dataframe thead tr:only-child th {\n",
       "        text-align: right;\n",
       "    }\n",
       "\n",
       "    .dataframe thead th {\n",
       "        text-align: left;\n",
       "    }\n",
       "\n",
       "    .dataframe tbody tr th {\n",
       "        vertical-align: top;\n",
       "    }\n",
       "</style>\n",
       "<table border=\"1\" class=\"dataframe\">\n",
       "  <thead>\n",
       "    <tr style=\"text-align: right;\">\n",
       "      <th></th>\n",
       "      <th>Player</th>\n",
       "      <th>Country</th>\n",
       "      <th>Pos</th>\n",
       "      <th>Birthday</th>\n",
       "      <th>Age</th>\n",
       "      <th>Caps</th>\n",
       "      <th>Club</th>\n",
       "      <th>Club Country</th>\n",
       "    </tr>\n",
       "  </thead>\n",
       "  <tbody>\n",
       "    <tr>\n",
       "      <th>0</th>\n",
       "      <td>Jefferson</td>\n",
       "      <td>Brazil</td>\n",
       "      <td>GK</td>\n",
       "      <td>1983-01-02</td>\n",
       "      <td>31</td>\n",
       "      <td>9</td>\n",
       "      <td>Botafogo</td>\n",
       "      <td>Brazil</td>\n",
       "    </tr>\n",
       "    <tr>\n",
       "      <th>1</th>\n",
       "      <td>Dani Alves</td>\n",
       "      <td>Brazil</td>\n",
       "      <td>DF</td>\n",
       "      <td>1983-05-06</td>\n",
       "      <td>31</td>\n",
       "      <td>75</td>\n",
       "      <td>Barcelona</td>\n",
       "      <td>Spain</td>\n",
       "    </tr>\n",
       "    <tr>\n",
       "      <th>2</th>\n",
       "      <td>Thiago Silva</td>\n",
       "      <td>Brazil</td>\n",
       "      <td>DF</td>\n",
       "      <td>1984-09-22</td>\n",
       "      <td>29</td>\n",
       "      <td>46</td>\n",
       "      <td>Paris Saint-Germain</td>\n",
       "      <td>France</td>\n",
       "    </tr>\n",
       "    <tr>\n",
       "      <th>3</th>\n",
       "      <td>David Luiz</td>\n",
       "      <td>Brazil</td>\n",
       "      <td>DF</td>\n",
       "      <td>1987-04-22</td>\n",
       "      <td>27</td>\n",
       "      <td>36</td>\n",
       "      <td>Chelsea</td>\n",
       "      <td>England</td>\n",
       "    </tr>\n",
       "    <tr>\n",
       "      <th>4</th>\n",
       "      <td>Fernandinho</td>\n",
       "      <td>Brazil</td>\n",
       "      <td>MF</td>\n",
       "      <td>1985-05-04</td>\n",
       "      <td>29</td>\n",
       "      <td>7</td>\n",
       "      <td>Manchester City</td>\n",
       "      <td>England</td>\n",
       "    </tr>\n",
       "  </tbody>\n",
       "</table>\n",
       "</div>"
      ],
      "text/plain": [
       "         Player Country Pos    Birthday Age Caps                 Club  \\\n",
       "0     Jefferson  Brazil  GK  1983-01-02  31    9             Botafogo   \n",
       "1    Dani Alves  Brazil  DF  1983-05-06  31   75            Barcelona   \n",
       "2  Thiago Silva  Brazil  DF  1984-09-22  29   46  Paris Saint-Germain   \n",
       "3    David Luiz  Brazil  DF  1987-04-22  27   36              Chelsea   \n",
       "4   Fernandinho  Brazil  MF  1985-05-04  29    7      Manchester City   \n",
       "\n",
       "  Club Country  \n",
       "0       Brazil  \n",
       "1        Spain  \n",
       "2       France  \n",
       "3      England  \n",
       "4      England  "
      ]
     },
     "execution_count": 210,
     "metadata": {},
     "output_type": "execute_result"
    }
   ],
   "source": [
    "wc_players_2014.head()"
   ]
  },
  {
   "cell_type": "code",
   "execution_count": 211,
   "metadata": {
    "collapsed": true
   },
   "outputs": [],
   "source": [
    "wc_players_2014.to_csv(\"data/wc_players_2014.csv\")"
   ]
  },
  {
   "cell_type": "code",
   "execution_count": null,
   "metadata": {
    "collapsed": true
   },
   "outputs": [],
   "source": []
  }
 ],
 "metadata": {
  "kernelspec": {
   "display_name": "Python 3",
   "language": "python",
   "name": "python3"
  },
  "language_info": {
   "codemirror_mode": {
    "name": "ipython",
    "version": 3
   },
   "file_extension": ".py",
   "mimetype": "text/x-python",
   "name": "python",
   "nbconvert_exporter": "python",
   "pygments_lexer": "ipython3",
   "version": "3.6.3"
  }
 },
 "nbformat": 4,
 "nbformat_minor": 2
}
